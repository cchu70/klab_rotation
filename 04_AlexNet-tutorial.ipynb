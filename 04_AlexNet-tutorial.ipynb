{
 "cells": [
  {
   "cell_type": "markdown",
   "id": "562b7a85-2932-4376-8fe4-aa25645efa2d",
   "metadata": {},
   "source": [
    "# 04_AlexNet-tutorial\n",
    "\n",
    "Following this tutorial: https://www.digitalocean.com/community/tutorials/alexnet-pytorch"
   ]
  },
  {
   "cell_type": "code",
   "execution_count": 1,
   "id": "cccf400d-b01e-4bd1-aac5-846a70e46aae",
   "metadata": {},
   "outputs": [],
   "source": [
    "%load_ext autoreload\n",
    "%autoreload 2"
   ]
  },
  {
   "cell_type": "code",
   "execution_count": 194,
   "id": "db01f5c4-56c7-47ce-8e6d-dc7ace2a2082",
   "metadata": {},
   "outputs": [],
   "source": [
    "import numpy as np\n",
    "import torch\n",
    "import torch.nn as nn\n",
    "import tqdm\n",
    "\n",
    "device = torch.device('cuda' if torch.cuda.is_available() else 'cpu')"
   ]
  },
  {
   "cell_type": "code",
   "execution_count": 235,
   "id": "fe9fb364-20e6-4223-98ee-d3f8bb6a3d96",
   "metadata": {},
   "outputs": [],
   "source": [
    "import matplotlib.pyplot as plt\n",
    "from  matplotlib.colors import TwoSlopeNorm "
   ]
  },
  {
   "cell_type": "markdown",
   "id": "b3bfb6ba-b6ec-4215-bab2-21f2edf395f3",
   "metadata": {},
   "source": [
    "# Load CIFAR10 dataset\n",
    "\n",
    "60k 32x32 color images in 10 classes. 50k training images and 10k test images. Classes are:\n",
    "- airplane\n",
    "- automobile (excludes pickup trucks)\n",
    "- bird\n",
    "- cat\n",
    "- deer\n",
    "- dog\n",
    "- frog\n",
    "- horse\n",
    "- ship\n",
    "- truck (big ones, exclude pickup trucks)\n",
    "  "
   ]
  },
  {
   "cell_type": "code",
   "execution_count": 197,
   "id": "97650a5b-b4be-495d-8e3e-33b0b9d06595",
   "metadata": {},
   "outputs": [],
   "source": [
    "from src.load_CIFAR10 import get_train_valid_loader, get_test_loader"
   ]
  },
  {
   "cell_type": "code",
   "execution_count": 205,
   "id": "9667bf5c-f013-43a1-80fe-79ce38403836",
   "metadata": {},
   "outputs": [
    {
     "name": "stdout",
     "output_type": "stream",
     "text": [
      "Files already downloaded and verified\n",
      "Files already downloaded and verified\n"
     ]
    }
   ],
   "source": [
    "train_loader, valid_loader = get_train_valid_loader(\n",
    "    data_dir='./data/', batch_size=64, random_seed=1, \n",
    "    augment=False, download=True, subsample_frac=0.10\n",
    ")"
   ]
  },
  {
   "cell_type": "code",
   "execution_count": 208,
   "id": "9cdf4fb5-2e89-444c-ba9a-3bb8677c0b05",
   "metadata": {},
   "outputs": [
    {
     "name": "stdout",
     "output_type": "stream",
     "text": [
      "Files already downloaded and verified\n"
     ]
    }
   ],
   "source": [
    "test_loader = get_test_loader(data_dir='./data', batch_size=64)"
   ]
  },
  {
   "cell_type": "markdown",
   "id": "dbd44ffa-5bf8-457d-a3d8-6b27298e921c",
   "metadata": {},
   "source": [
    "# Convolutional Neural Networks\n",
    "\n",
    "The idea is to learn a kernel transformation on the data.\n",
    "1. Transform the input data to a higher dimensional space (increase number of channels). Ideally this space will discriminate different higher level features. The kernel uses local relative information to create a map of features. (i.e. line1 + triangle = \"paw\")\n",
    "2. Features are then combined to identify the object (ie paw + nose + whiskers = cat)"
   ]
  },
  {
   "cell_type": "markdown",
   "id": "bdf48482-6983-4019-9940-d8663d6ea59e",
   "metadata": {},
   "source": [
    "## `nn.Conv2d`\n",
    ": Applies a 2D convolution over an input signal composed of several input planes.\n",
    "- in channels and out channels\n",
    "\n",
    "From ChatGPT:\n",
    "To apply a convolution on a 100x100 matrix in PyTorch, you can follow these steps:\n",
    "\n",
    "1. **Create the Input Matrix**: Define the 100x100 matrix as a PyTorch tensor.\n",
    "2. **Define the Convolution Layer**: Set up a convolutional layer with the desired kernel size, number of input and output channels, stride, and padding.\n",
    "3. **Apply the Convolution**: Use the convolutional layer on the input matrix.\n",
    "\n",
    "Here's an example:\n",
    "\n",
    "```python\n",
    "import torch\n",
    "import torch.nn as nn\n",
    "\n",
    "# Create a 100x100 matrix (1 channel, for example)\n",
    "input_matrix = torch.randn(1, 1, 100, 100)  # (batch_size, channels, height, width)\n",
    "\n",
    "# Define a convolutional layer\n",
    "# Let's say we want a 3x3 kernel with 1 input and 1 output channel, stride=1, padding=1 to keep output size the same\n",
    "conv_layer = nn.Conv2d(in_channels=1, out_channels=1, kernel_size=3, stride=1, padding=1)\n",
    "\n",
    "# Apply the convolution\n",
    "output_matrix = conv_layer(input_matrix)\n",
    "\n",
    "# Output the shape of the result\n",
    "print(output_matrix.shape)  # Should be (1, 1, 100, 100)\n",
    "```\n",
    "\n",
    "### Explanation of Parameters:\n",
    "- `in_channels=1` and `out_channels=1`: Since we're working with a single 100x100 matrix, we use 1 input channel and 1 output channel.\n",
    "- `kernel_size=3`: This applies a 3x3 convolution kernel.\n",
    "- `stride=1`: Controls the \"step\" size of the kernel over the matrix. A stride of 1 means the kernel moves 1 pixel at a time.\n",
    "- `padding=1`: Adding 1-pixel padding ensures the output size remains 100x100 after convolution.\n",
    "\n",
    "Feel free to adjust the `kernel_size`, `stride`, and `padding` to experiment with different convolutional effects!\n",
    "\n",
    ">"
   ]
  },
  {
   "cell_type": "code",
   "execution_count": 209,
   "id": "b85e8588-3263-475f-8291-3668a7e73bfc",
   "metadata": {},
   "outputs": [
    {
     "name": "stdout",
     "output_type": "stream",
     "text": [
      "torch.Size([1, 10, 10])\n"
     ]
    },
    {
     "data": {
      "text/plain": [
       "<matplotlib.image.AxesImage at 0x132717ed0>"
      ]
     },
     "execution_count": 209,
     "metadata": {},
     "output_type": "execute_result"
    },
    {
     "data": {
      "image/png": "[encoded data removed]",
      "text/plain": [
       "<Figure size 640x480 with 1 Axes>"
      ]
     },
     "metadata": {},
     "output_type": "display_data"
    }
   ],
   "source": [
    "rand_input = torch.randn(1, 1, 10, 10) # (batch_size, channels, height, width)\n",
    "print(rand_input[0].shape)\n",
    "plt.imshow(rand_input[0].detach().permute(1, 2, 0), cmap='gray')"
   ]
  },
  {
   "cell_type": "code",
   "execution_count": 210,
   "id": "a1b8f3d0-6c37-4ab5-a818-5f9e7813b4ee",
   "metadata": {},
   "outputs": [
    {
     "data": {
      "text/plain": [
       "Conv2d(1, 1, kernel_size=(5, 5), stride=(1, 1), padding=(2, 2))"
      ]
     },
     "execution_count": 210,
     "metadata": {},
     "output_type": "execute_result"
    }
   ],
   "source": [
    "rand_m = nn.Conv2d(in_channels=1, out_channels=1, kernel_size=5, stride=1, padding=2)\n",
    "rand_m"
   ]
  },
  {
   "cell_type": "code",
   "execution_count": 211,
   "id": "94f1d7f2-be9b-4991-96db-1ea4d68074c9",
   "metadata": {},
   "outputs": [
    {
     "name": "stdout",
     "output_type": "stream",
     "text": [
      "torch.Size([1, 1, 10, 10])\n",
      "torch.Size([1, 1, 10, 10])\n",
      "torch.Size([1, 1, 10, 10])\n",
      "torch.Size([1, 1, 10, 10])\n",
      "torch.Size([1, 1, 10, 10])\n"
     ]
    },
    {
     "data": {
      "image/png": "[encoded data removed]",
      "text/plain": [
       "<Figure size 2000x500 with 5 Axes>"
      ]
     },
     "metadata": {},
     "output_type": "display_data"
    }
   ],
   "source": [
    "rand_output = rand_input.detach()\n",
    "\n",
    "iters = 5\n",
    "fig, axes = plt.subplots(1, 5, figsize=(20, 5))\n",
    "for i in range(iters):\n",
    "    rand_output = rand_m(rand_output)\n",
    "    print(rand_output.shape)\n",
    "    axes[i].imshow(rand_output[0].detach().permute(1, 2, 0), cmap='gray')\n",
    "plt.show()"
   ]
  },
  {
   "cell_type": "code",
   "execution_count": 212,
   "id": "0c9d95f8-95af-4658-b669-31be9e2b6e54",
   "metadata": {},
   "outputs": [
    {
     "data": {
      "text/plain": [
       "torch.Size([1, 1, 10, 10])"
      ]
     },
     "execution_count": 212,
     "metadata": {},
     "output_type": "execute_result"
    }
   ],
   "source": [
    "rand_input.shape"
   ]
  },
  {
   "cell_type": "code",
   "execution_count": 213,
   "id": "6b7f1afb-fa5c-4b78-a813-eae26807c143",
   "metadata": {},
   "outputs": [
    {
     "data": {
      "text/plain": [
       "tensor([[[[-0.5738, -0.8142, -0.0985, -0.3606, -0.1009,  1.3974,  0.5838,\n",
       "           -0.2378,  0.1468, -0.0461],\n",
       "          [ 0.2217, -0.3809, -0.1186,  0.3714,  0.5558,  1.5185, -0.1529,\n",
       "            0.8745,  1.6672,  0.9702],\n",
       "          [-2.2781,  0.4592, -1.5530,  1.9135,  0.2347, -1.1423, -0.3708,\n",
       "            0.4916, -0.5280,  0.0134],\n",
       "          [-0.9136,  0.9976, -1.0947, -0.0093, -0.0916,  1.0700, -0.4417,\n",
       "           -1.7193, -0.3555, -0.7442],\n",
       "          [ 0.8078, -1.0920, -0.8934,  0.4301, -0.2315, -0.0517,  1.0896,\n",
       "           -0.8337, -1.5750,  0.8699],\n",
       "          [-1.0588,  0.1962,  0.4474, -0.5489, -0.1896,  1.1349, -1.1500,\n",
       "            0.6580,  0.5124, -0.1797],\n",
       "          [-0.4898,  0.8439,  0.8210,  2.1092, -0.7734, -1.6714,  0.0569,\n",
       "            1.2929, -0.8976,  0.0434],\n",
       "          [ 0.0405, -0.2475,  0.2608, -1.2798,  0.5237, -1.3134, -1.0265,\n",
       "           -0.5740, -0.2221, -2.8936],\n",
       "          [-1.8906, -1.5890, -0.6226,  0.7307,  1.3861, -0.5495, -0.6602,\n",
       "           -2.7262, -0.7505,  0.2929],\n",
       "          [-1.4366,  0.1347,  0.6934, -0.9224,  0.2491, -1.8144, -0.4895,\n",
       "           -0.7571,  1.6563, -0.6260]]]])"
      ]
     },
     "execution_count": 213,
     "metadata": {},
     "output_type": "execute_result"
    }
   ],
   "source": [
    "rand_input"
   ]
  },
  {
   "cell_type": "code",
   "execution_count": 214,
   "id": "cd0ecacd-15f1-4536-ba4c-79a28e3df0a5",
   "metadata": {},
   "outputs": [
    {
     "name": "stdout",
     "output_type": "stream",
     "text": [
      "1\n"
     ]
    },
    {
     "data": {
      "text/plain": [
       "tensor([[-0.5738, -0.8142, -0.0985, -0.3606, -0.1009,  1.3974,  0.5838, -0.2378,\n",
       "          0.1468, -0.0461,  0.2217, -0.3809, -0.1186,  0.3714,  0.5558,  1.5185,\n",
       "         -0.1529,  0.8745,  1.6672,  0.9702, -2.2781,  0.4592, -1.5530,  1.9135,\n",
       "          0.2347, -1.1423, -0.3708,  0.4916, -0.5280,  0.0134, -0.9136,  0.9976,\n",
       "         -1.0947, -0.0093, -0.0916,  1.0700, -0.4417, -1.7193, -0.3555, -0.7442,\n",
       "          0.8078, -1.0920, -0.8934,  0.4301, -0.2315, -0.0517,  1.0896, -0.8337,\n",
       "         -1.5750,  0.8699, -1.0588,  0.1962,  0.4474, -0.5489, -0.1896,  1.1349,\n",
       "         -1.1500,  0.6580,  0.5124, -0.1797, -0.4898,  0.8439,  0.8210,  2.1092,\n",
       "         -0.7734, -1.6714,  0.0569,  1.2929, -0.8976,  0.0434,  0.0405, -0.2475,\n",
       "          0.2608, -1.2798,  0.5237, -1.3134, -1.0265, -0.5740, -0.2221, -2.8936,\n",
       "         -1.8906, -1.5890, -0.6226,  0.7307,  1.3861, -0.5495, -0.6602, -2.7262,\n",
       "         -0.7505,  0.2929, -1.4366,  0.1347,  0.6934, -0.9224,  0.2491, -1.8144,\n",
       "         -0.4895, -0.7571,  1.6563, -0.6260]])"
      ]
     },
     "execution_count": 214,
     "metadata": {},
     "output_type": "execute_result"
    }
   ],
   "source": [
    "print(rand_input.size(0))\n",
    "rand_input.reshape(rand_input.size(0), -1) #.shape"
   ]
  },
  {
   "cell_type": "markdown",
   "id": "096cb5e9-c6c5-487b-b90e-a91bba030515",
   "metadata": {},
   "source": [
    "## Max pooling\n",
    "\n",
    "`nn.MaxPool2d` given kernel size and stride, just selects the maximum value from the current window. Goal is to reduce the height and width."
   ]
  },
  {
   "cell_type": "code",
   "execution_count": 240,
   "id": "0a2f47bd-8c63-4e24-be53-9f8640e91b94",
   "metadata": {},
   "outputs": [
    {
     "name": "stdout",
     "output_type": "stream",
     "text": [
      "torch.Size([1, 10, 10])\n"
     ]
    },
    {
     "data": {
      "text/plain": [
       "<matplotlib.image.AxesImage at 0x13071c190>"
      ]
     },
     "execution_count": 240,
     "metadata": {},
     "output_type": "execute_result"
    },
    {
     "data": {
      "image/png": "[encoded data removed]",
      "text/plain": [
       "<Figure size 640x480 with 1 Axes>"
      ]
     },
     "metadata": {},
     "output_type": "display_data"
    }
   ],
   "source": [
    "rand_input = torch.randn(1, 1, 10, 10) # (batch_size, channels, height, width)\n",
    "print(rand_input[0].shape)\n",
    "plt.imshow(rand_input[0].detach().permute(1, 2, 0), cmap='seismic', norm=TwoSlopeNorm(0))"
   ]
  },
  {
   "cell_type": "code",
   "execution_count": 220,
   "id": "03081f6c-e093-4b16-bdeb-11a8d9898187",
   "metadata": {},
   "outputs": [],
   "source": [
    "text_maxpool = nn.MaxPool2d(kernel_size=3, stride=3)"
   ]
  },
  {
   "cell_type": "code",
   "execution_count": 241,
   "id": "5a07046f-67d8-487d-a167-134a8cad9f04",
   "metadata": {},
   "outputs": [
    {
     "name": "stdout",
     "output_type": "stream",
     "text": [
      "torch.Size([1, 1, 3, 3])\n"
     ]
    },
    {
     "data": {
      "text/plain": [
       "<matplotlib.image.AxesImage at 0x131a04990>"
      ]
     },
     "execution_count": 241,
     "metadata": {},
     "output_type": "execute_result"
    },
    {
     "data": {
      "image/png": "[encoded data removed]",
      "text/plain": [
       "<Figure size 640x480 with 1 Axes>"
      ]
     },
     "metadata": {},
     "output_type": "display_data"
    }
   ],
   "source": [
    "rand_maxpool_output = text_maxpool(rand_input)\n",
    "print(rand_maxpool_output.shape)\n",
    "plt.imshow(rand_maxpool_output[0].detach().permute(1, 2, 0), cmap='seismic', norm=TwoSlopeNorm(0))"
   ]
  },
  {
   "cell_type": "markdown",
   "id": "7b66c775-ad3e-4b47-b69a-d7cadf6a4daa",
   "metadata": {},
   "source": [
    "## Dropout\n",
    "\n",
    "Randomly zero out elements of the input tensor independently per channel. Regularization technique to prevent \"co-adpatation\" or overfitting."
   ]
  },
  {
   "cell_type": "code",
   "execution_count": 227,
   "id": "3227d994-33bf-4482-8a77-8819973ecde2",
   "metadata": {},
   "outputs": [],
   "source": [
    "dropout_fn = nn.Dropout(0.5)"
   ]
  },
  {
   "cell_type": "code",
   "execution_count": 238,
   "id": "d92d5770-adc6-4834-b27b-044df21151f9",
   "metadata": {},
   "outputs": [
    {
     "name": "stdout",
     "output_type": "stream",
     "text": [
      "torch.Size([1, 10, 10])\n"
     ]
    },
    {
     "data": {
      "text/plain": [
       "<matplotlib.colorbar.Colorbar at 0x1327f0590>"
      ]
     },
     "execution_count": 238,
     "metadata": {},
     "output_type": "execute_result"
    },
    {
     "data": {
      "image/png": "[encoded data removed]",
      "text/plain": [
       "<Figure size 640x480 with 2 Axes>"
      ]
     },
     "metadata": {},
     "output_type": "display_data"
    }
   ],
   "source": [
    "rand_input = torch.randn(1, 1, 10, 10) # (batch_size, channels, height, width)\n",
    "print(rand_input[0].shape)\n",
    "plt.imshow(rand_input[0].detach().permute(1, 2, 0), cmap='seismic', norm=TwoSlopeNorm(0))\n",
    "plt.colorbar()"
   ]
  },
  {
   "cell_type": "code",
   "execution_count": 239,
   "id": "c9eca5db-a22d-4e93-94fb-fba2999ceac4",
   "metadata": {},
   "outputs": [
    {
     "name": "stdout",
     "output_type": "stream",
     "text": [
      "torch.Size([1, 1, 10, 10])\n"
     ]
    },
    {
     "data": {
      "text/plain": [
       "<matplotlib.image.AxesImage at 0x132461450>"
      ]
     },
     "execution_count": 239,
     "metadata": {},
     "output_type": "execute_result"
    },
    {
     "data": {
      "image/png": "[encoded data removed]",
      "text/plain": [
       "<Figure size 640x480 with 1 Axes>"
      ]
     },
     "metadata": {},
     "output_type": "display_data"
    }
   ],
   "source": [
    "rand_dropout_output = dropout_fn(rand_input)\n",
    "print(rand_dropout_output.shape)\n",
    "plt.imshow(rand_dropout_output[0].detach().permute(1, 2, 0), cmap='seismic', norm=TwoSlopeNorm(0))"
   ]
  },
  {
   "cell_type": "markdown",
   "id": "d1aa91e8-8695-49f2-a870-0b17cc57300d",
   "metadata": {},
   "source": [
    "# AlexNet from scratch"
   ]
  },
  {
   "cell_type": "code",
   "execution_count": 222,
   "id": "c31147bc-c0a6-4652-8c54-c5b12760b6e6",
   "metadata": {},
   "outputs": [],
   "source": [
    "class AlexNet(nn.Module):\n",
    "    def __init__(self, num_classes=10):\n",
    "        super(AlexNet, self).__init__()\n",
    "\n",
    "        self.layer1 = nn.Sequential(\n",
    "            nn.Conv2d(3, 96, kernel_size=11, stride=4, padding=0),\n",
    "            nn.BatchNorm2d(96),\n",
    "            nn.ReLU(),\n",
    "            nn.MaxPool2d(kernel_size=3, stride=2),\n",
    "        )\n",
    "        self.layer2 = nn.Sequential(\n",
    "            nn.Conv2d(96, 256, kernel_size=5, stride=1, padding=2),\n",
    "            nn.BatchNorm2d(256),\n",
    "            nn.ReLU(),\n",
    "            nn.MaxPool2d(kernel_size=3, stride=2),\n",
    "        )\n",
    "\n",
    "        # no max pool\n",
    "        self.layer3 = nn.Sequential(\n",
    "            nn.Conv2d(256, 384, kernel_size=3, stride=1, padding=1),\n",
    "            nn.BatchNorm2d(384),\n",
    "            nn.ReLU(), \n",
    "        )\n",
    "        self.layer4 = nn.Sequential(\n",
    "            nn.Conv2d(384, 384, kernel_size=3, stride=1, padding=1),\n",
    "            nn.BatchNorm2d(384),\n",
    "            nn.ReLU(),\n",
    "        )\n",
    "\n",
    "        # include maxpool\n",
    "        self.layer5 = nn.Sequential(\n",
    "            nn.Conv2d(384, 256, kernel_size=3, stride=1, padding=1),\n",
    "            nn.BatchNorm2d(256),\n",
    "            nn.ReLU(),\n",
    "            nn.MaxPool2d(kernel_size=3, stride=2),\n",
    "        )\n",
    "\n",
    "        self.fc = nn.Sequential(\n",
    "            nn.Dropout(0.5),\n",
    "            nn.Linear(9216, 4096), # fully connected layers\n",
    "            nn.ReLU()\n",
    "        )\n",
    "        self.fc1 = nn.Sequential(\n",
    "            nn.Linear(4096, 4096),\n",
    "            nn.ReLU()\n",
    "        )\n",
    "        self.fc2 = nn.Sequential(\n",
    "            nn.Linear(4096, num_classes)\n",
    "        )\n",
    "\n",
    "    def forward(self, x):\n",
    "        # conv2, batch norm, relu, maxpool2d\n",
    "        out = self.layer1(x)     # 1 x 3 x W X H --> 1 x 96 x W X H (match, channels, w, h)\n",
    "        out = self.layer2(out)   # 1 x 96 x W X H --> 1 x 256 x W x H\n",
    "\n",
    "        # conv2d, batchnorm, relu\n",
    "        out = self.layer3(out)   # 1 x 256 x W x H --> 1 x 384 x W x H\n",
    "        out = self.layer4(out)   # 1 x 384 x W x H --> 1 x 384 x W x H\n",
    "\n",
    "        # conv2, batch norm, relu, max pool\n",
    "        out = self.layer5(out)   # 1 x 384 x W x H --> 1 x 256 x W x H\n",
    "        out = out.reshape(out.size(0), -1) # flattens --> 1 x 256*W*H\n",
    "\n",
    "        # drop out, linear, relu\n",
    "        out = self.fc(out) # 1 x 256*W*H (9216?) --> 4096\n",
    "\n",
    "        # linear, relu\n",
    "        out = self.fc1(out) # 4096 --> 4096\n",
    "\n",
    "        # linear\n",
    "        out = self.fc2(out) # 4096 --> 10\n",
    "        return out\n",
    "        "
   ]
  },
  {
   "cell_type": "markdown",
   "id": "08d01028-a871-4f43-aae6-e371215e9153",
   "metadata": {},
   "source": [
    "# Setting hyperparameters\n",
    "\n",
    "## stochastic gradient descent\n",
    "\n",
    "- TODO: derivative of the loss function given input data?"
   ]
  },
  {
   "cell_type": "code",
   "execution_count": 242,
   "id": "19b73344-49b0-463f-8e7f-e52f08e3e393",
   "metadata": {},
   "outputs": [],
   "source": [
    "num_classes = 10 # output number of classes\n",
    "num_epochs = 5  # number of total training loops?\n",
    "batch_size = 64  # how much data to train on at a time\n",
    "learning_rate = 0.005 # SGD step size\n",
    "\n",
    "model = AlexNet(num_classes).to(device)\n",
    "\n",
    "# loss and optimizer\n",
    "criterion = nn.CrossEntropyLoss()\n",
    "optimizer = torch.optim.SGD(\n",
    "    model.parameters(), \n",
    "    lr=learning_rate, \n",
    "    weight_decay = 0.005, \n",
    "    momentum = 0.9\n",
    ")\n",
    "\n",
    "total_step = len(train_loader)"
   ]
  },
  {
   "cell_type": "code",
   "execution_count": 243,
   "id": "739b84f0-0ff4-4c3d-b03e-64b8cf708b0d",
   "metadata": {},
   "outputs": [
    {
     "data": {
      "text/plain": [
       "71"
      ]
     },
     "execution_count": 243,
     "metadata": {},
     "output_type": "execute_result"
    }
   ],
   "source": [
    "total_step"
   ]
  },
  {
   "cell_type": "markdown",
   "id": "fe85c874-8c66-46b5-83fb-83abde8908db",
   "metadata": {},
   "source": [
    "# Training"
   ]
  },
  {
   "cell_type": "code",
   "execution_count": 244,
   "id": "9df27780-71c9-4274-89b9-7cb7574f1749",
   "metadata": {},
   "outputs": [
    {
     "name": "stderr",
     "output_type": "stream",
     "text": [
      "Epoch 0 Training: 100%|███████████████████████████████████████████████████████████████████████████████████████████████████████| 71/71 [02:21<00:00,  1.99s/it]\n"
     ]
    },
    {
     "name": "stdout",
     "output_type": "stream",
     "text": [
      "Epoch [1/5], Step [71, 71], Loss: 1.4867\n",
      "Accurace of network on validation images: 34.4%\n"
     ]
    },
    {
     "name": "stderr",
     "output_type": "stream",
     "text": [
      "Epoch 1 Training: 100%|███████████████████████████████████████████████████████████████████████████████████████████████████████| 71/71 [02:22<00:00,  2.00s/it]\n"
     ]
    },
    {
     "name": "stdout",
     "output_type": "stream",
     "text": [
      "Epoch [2/5], Step [71, 71], Loss: 1.3309\n",
      "Accurace of network on validation images: 43.0%\n"
     ]
    },
    {
     "name": "stderr",
     "output_type": "stream",
     "text": [
      "Epoch 2 Training: 100%|███████████████████████████████████████████████████████████████████████████████████████████████████████| 71/71 [02:18<00:00,  1.96s/it]\n"
     ]
    },
    {
     "name": "stdout",
     "output_type": "stream",
     "text": [
      "Epoch [3/5], Step [71, 71], Loss: 1.4771\n",
      "Accurace of network on validation images: 43.8%\n"
     ]
    },
    {
     "name": "stderr",
     "output_type": "stream",
     "text": [
      "Epoch 3 Training: 100%|███████████████████████████████████████████████████████████████████████████████████████████████████████| 71/71 [02:39<00:00,  2.24s/it]\n"
     ]
    },
    {
     "name": "stdout",
     "output_type": "stream",
     "text": [
      "Epoch [4/5], Step [71, 71], Loss: 0.8274\n",
      "Accurace of network on validation images: 51.4%\n"
     ]
    },
    {
     "name": "stderr",
     "output_type": "stream",
     "text": [
      "Epoch 4 Training: 100%|███████████████████████████████████████████████████████████████████████████████████████████████████████| 71/71 [02:52<00:00,  2.43s/it]\n"
     ]
    },
    {
     "name": "stdout",
     "output_type": "stream",
     "text": [
      "Epoch [5/5], Step [71, 71], Loss: 1.1561\n",
      "Accurace of network on validation images: 58.6%\n"
     ]
    }
   ],
   "source": [
    "total_step = len(train_loader)\n",
    "\n",
    "for epoch in range(num_epochs):\n",
    "    for i, (images, labels) in tqdm.tqdm(enumerate(train_loader), total=total_step, desc=f\"Epoch {epoch} Training\"):\n",
    "        # move tensors to the configured device\n",
    "        images = images.to(device)\n",
    "        labels = labels.to(device)\n",
    "\n",
    "        # forward pass\n",
    "        outputs = model(images)\n",
    "        loss = criterion(outputs, labels)\n",
    "\n",
    "        # backward and optimize\n",
    "        optimizer.zero_grad()\n",
    "        loss.backward()\n",
    "        optimizer.step()\n",
    "\n",
    "    print(f\"Epoch [{epoch + 1}/{num_epochs}], Step [{i + 1}, {total_step}], Loss: {loss.item():.4f}\")\n",
    "\n",
    "    # validation\n",
    "    with torch.no_grad():\n",
    "        correct = 0\n",
    "        total = 0\n",
    "        for images, labels in valid_loader:\n",
    "            images = images.to(device)\n",
    "            labels = labels.to(device)\n",
    "            outputs = model(images)\n",
    "            _, predicted = torch.max(outputs.data, 1)\n",
    "            total += labels.size(0)\n",
    "            correct += (predicted == labels).sum().item()\n",
    "            del images, labels, outputs\n",
    "\n",
    "        print(f\"Accurace of network on validation images: {100 * correct / total}%\")\n",
    "        "
   ]
  },
  {
   "cell_type": "markdown",
   "id": "3227f525-e2ee-4161-9444-f3ab19fbd04e",
   "metadata": {},
   "source": [
    "## Testing\n",
    "\n",
    "Test on unseen data"
   ]
  },
  {
   "cell_type": "code",
   "execution_count": 246,
   "id": "f56d6d16-2005-426b-9774-943cd8791cf2",
   "metadata": {},
   "outputs": [
    {
     "name": "stderr",
     "output_type": "stream",
     "text": [
      "100%|███████████████████████████████████████████████████████████████████████████████████████████████████████████████████████| 157/157 [02:18<00:00,  1.14it/s]"
     ]
    },
    {
     "name": "stdout",
     "output_type": "stream",
     "text": [
      "Accurace of network on test images: 55.81%\n"
     ]
    },
    {
     "name": "stderr",
     "output_type": "stream",
     "text": [
      "\n"
     ]
    }
   ],
   "source": [
    "with torch.no_grad():\n",
    "    correct = 0\n",
    "    total = 0\n",
    "    for images, labels in tqdm.tqdm(test_loader, total=len(test_loader)):\n",
    "        images = images.to(device)\n",
    "        labels = labels.to(device)\n",
    "        outputs = model(images)\n",
    "        _, predicted = torch.max(outputs.data, 1)\n",
    "        total += labels.size(0)\n",
    "        correct += (predicted == labels).sum().item()\n",
    "        del images, labels, outputs\n",
    "\n",
    "    print(f\"Accurace of network on test images: {100 * correct / total}%\")"
   ]
  },
  {
   "cell_type": "code",
   "execution_count": null,
   "id": "5f404201-03e0-484b-847d-c7648521aa61",
   "metadata": {},
   "outputs": [],
   "source": []
  }
 ],
 "metadata": {
  "kernelspec": {
   "display_name": "Python [conda env:klab_rotation_env]",
   "language": "python",
   "name": "conda-env-klab_rotation_env-py"
  },
  "language_info": {
   "codemirror_mode": {
    "name": "ipython",
    "version": 3
   },
   "file_extension": ".py",
   "mimetype": "text/x-python",
   "name": "python",
   "nbconvert_exporter": "python",
   "pygments_lexer": "ipython3",
   "version": "3.11.0"
  }
 },
 "nbformat": 4,
 "nbformat_minor": 5
}
