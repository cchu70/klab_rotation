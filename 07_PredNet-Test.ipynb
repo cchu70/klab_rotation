{
 "cells": [
  {
   "cell_type": "markdown",
   "id": "42722d94-7d86-4733-94ce-c0d7c670fc34",
   "metadata": {},
   "source": [
    "# 07_PredNet-Test\n",
    "\n",
    "https://klab.tch.harvard.edu/publications/PDFs/gk7591_Lotteretal_ICLR2017.pdf\n",
    "\n",
    "The idea is to perform self-supervised learning from video datasets. Train a model with the task of predicting the next frame.\n",
    "\n",
    "**NOTE - Decided not to procede with this experiment.** There are too many different components to try to prune.\n"
   ]
  },
  {
   "cell_type": "code",
   "execution_count": 216,
   "id": "092fa31f-2928-40c5-b540-39650d3bc164",
   "metadata": {},
   "outputs": [],
   "source": [
    "import numpy as np\n",
    "import pandas as pd\n",
    "from src.PredNetPytorch import create_prednet, train_prednet\n",
    "from src.load_MNIST import load_MNIST\n",
    "import matplotlib.pyplot as plt"
   ]
  },
  {
   "cell_type": "markdown",
   "id": "0fdc4b42-c8e9-4593-b4a8-09c6fd13150b",
   "metadata": {},
   "source": [
    "## Load data\n",
    "\n",
    "Waiting for O2 access. For now, make sequences of images on MNIST?"
   ]
  },
  {
   "cell_type": "code",
   "execution_count": 76,
   "id": "1d9f9749-eaa4-4c07-bad4-1ff6217f8560",
   "metadata": {},
   "outputs": [],
   "source": [
    "import torch\n",
    "from torch import nn\n",
    "from torchvision import datasets\n",
    "from torchvision.transforms import ToTensor\n",
    "from torch.utils.data import DataLoader"
   ]
  },
  {
   "cell_type": "code",
   "execution_count": 190,
   "id": "7e2a70c2-0425-4b2c-8cad-4ba9c63dff65",
   "metadata": {},
   "outputs": [],
   "source": [
    "train_data = datasets.MNIST(\n",
    "    root='./data',\n",
    "    train=True,\n",
    "    download=False,\n",
    "    transform=ToTensor()\n",
    ")"
   ]
  },
  {
   "cell_type": "code",
   "execution_count": 206,
   "id": "5dd0b0c7-55b2-4ea4-84e4-9b51f5b05dc7",
   "metadata": {},
   "outputs": [],
   "source": [
    "class ImageSeq:\n",
    "    def __init__(\n",
    "        self,\n",
    "        num_h_shift,\n",
    "        size_h_shift,\n",
    "        plot=False\n",
    "    ):\n",
    "        self.num_h_shift = num_h_shift\n",
    "        self.size_h_shift = size_h_shift\n",
    "        self.h_shifts = tuple(self.size_h_shift * np.arange(self.num_h_shift))\n",
    "        self.plot = self._plot if plot else lambda *arg, **kwargs: None\n",
    "\n",
    "    def __call__(self, img):\n",
    "        '''\n",
    "        img: W x H matrix\n",
    "        '''\n",
    "        img_seq = img.unsqueeze(0).repeat(self.num_h_shift, 1, 1)\n",
    "        self.plot(img_seq.reshape(img.shape[0] * self.num_h_shift, img.shape[1]))\n",
    "        for i, s in enumerate(self.h_shifts):\n",
    "            img_seq[i] = img_seq[i].roll(shifts=s, dims=1)\n",
    "\n",
    "        self.plot(img_seq.reshape(img.shape[0] * self.num_h_shift, img.shape[1]))\n",
    "        return img_seq\n",
    "\n",
    "    def _plot(self, img):\n",
    "        plt.imshow(img)\n",
    "        plt.show()\n",
    "        \n",
    "            "
   ]
  },
  {
   "cell_type": "code",
   "execution_count": 208,
   "id": "8e444b66-fa35-491a-9160-2a85cc1ed4f2",
   "metadata": {},
   "outputs": [
    {
     "data": {
      "text/plain": [
       "(0, 3, 6)"
      ]
     },
     "execution_count": 208,
     "metadata": {},
     "output_type": "execute_result"
    }
   ],
   "source": [
    "image_seq = ImageSeq(num_h_shift=3, size_h_shift=3)\n",
    "image_seq.h_shifts"
   ]
  },
  {
   "cell_type": "code",
   "execution_count": 209,
   "id": "5971b260-232f-4490-a660-4ba1abeea535",
   "metadata": {},
   "outputs": [
    {
     "name": "stdout",
     "output_type": "stream",
     "text": [
      "5 torch.Size([1, 28, 28])\n"
     ]
    }
   ],
   "source": [
    "for x, y in train_data:\n",
    "    print(y, x.shape)\n",
    "    break"
   ]
  },
  {
   "cell_type": "code",
   "execution_count": 210,
   "id": "24686523-430d-45c7-bbd0-158f87b785ab",
   "metadata": {},
   "outputs": [],
   "source": [
    "img_seq = image_seq(x[0])"
   ]
  },
  {
   "cell_type": "code",
   "execution_count": 211,
   "id": "956c9540-df0b-40a6-9dc5-011206c5d668",
   "metadata": {},
   "outputs": [
    {
     "data": {
      "text/plain": [
       "torch.Size([3, 28, 28])"
      ]
     },
     "execution_count": 211,
     "metadata": {},
     "output_type": "execute_result"
    }
   ],
   "source": [
    "img_seq.shape"
   ]
  },
  {
   "cell_type": "code",
   "execution_count": 217,
   "id": "f04b6d1f-c296-4d06-8232-dba711e21168",
   "metadata": {},
   "outputs": [],
   "source": [
    "img2tensor = ToTensor()\n",
    "def custom_transform(x):\n",
    "    x = img2tensor(x)\n",
    "    print(x.shape)\n",
    "    return image_seq(x[0])\n",
    "    \n",
    "train_dataloader, val_dataloader, test_dataloader = load_MNIST(batch_size=128, subset_frac=0.1, transform=custom_transform)"
   ]
  },
  {
   "cell_type": "code",
   "execution_count": 219,
   "id": "9bd71e81-faea-45ff-8240-6152311a4a43",
   "metadata": {},
   "outputs": [
    {
     "data": {
      "text/plain": [
       "40"
      ]
     },
     "execution_count": 219,
     "metadata": {},
     "output_type": "execute_result"
    }
   ],
   "source": [
    "len(train_dataloader)"
   ]
  },
  {
   "cell_type": "markdown",
   "id": "ac0eaf39-974a-41b0-a2fd-872fdcede10d",
   "metadata": {},
   "source": [
    "## Set up model"
   ]
  },
  {
   "cell_type": "code",
   "execution_count": 218,
   "id": "51c24363-9e33-4b4c-8524-b3bfa14ac9cd",
   "metadata": {},
   "outputs": [],
   "source": [
    "model = create_prednet((1, 28, 28))"
   ]
  },
  {
   "cell_type": "code",
   "execution_count": 221,
   "id": "0e9bebef-42f1-416d-81a5-00c070eee2cd",
   "metadata": {},
   "outputs": [
    {
     "name": "stdout",
     "output_type": "stream",
     "text": [
      "torch.Size([1, 28, 28])\n",
      "torch.Size([1, 28, 28])\n",
      "torch.Size([1, 28, 28])\n",
      "torch.Size([1, 28, 28])\n",
      "torch.Size([1, 28, 28])\n",
      "torch.Size([1, 28, 28])\n",
      "torch.Size([1, 28, 28])\n",
      "torch.Size([1, 28, 28])\n",
      "torch.Size([1, 28, 28])\n",
      "torch.Size([1, 28, 28])\n",
      "torch.Size([1, 28, 28])\n",
      "torch.Size([1, 28, 28])\n",
      "torch.Size([1, 28, 28])\n",
      "torch.Size([1, 28, 28])\n",
      "torch.Size([1, 28, 28])\n",
      "torch.Size([1, 28, 28])\n",
      "torch.Size([1, 28, 28])\n",
      "torch.Size([1, 28, 28])\n",
      "torch.Size([1, 28, 28])\n",
      "torch.Size([1, 28, 28])\n",
      "torch.Size([1, 28, 28])\n",
      "torch.Size([1, 28, 28])\n",
      "torch.Size([1, 28, 28])\n",
      "torch.Size([1, 28, 28])\n",
      "torch.Size([1, 28, 28])\n",
      "torch.Size([1, 28, 28])\n",
      "torch.Size([1, 28, 28])\n",
      "torch.Size([1, 28, 28])\n",
      "torch.Size([1, 28, 28])\n",
      "torch.Size([1, 28, 28])\n",
      "torch.Size([1, 28, 28])\n",
      "torch.Size([1, 28, 28])\n",
      "torch.Size([1, 28, 28])\n",
      "torch.Size([1, 28, 28])\n",
      "torch.Size([1, 28, 28])\n",
      "torch.Size([1, 28, 28])\n",
      "torch.Size([1, 28, 28])\n",
      "torch.Size([1, 28, 28])\n",
      "torch.Size([1, 28, 28])\n",
      "torch.Size([1, 28, 28])\n",
      "torch.Size([1, 28, 28])\n",
      "torch.Size([1, 28, 28])\n",
      "torch.Size([1, 28, 28])\n",
      "torch.Size([1, 28, 28])\n",
      "torch.Size([1, 28, 28])\n",
      "torch.Size([1, 28, 28])\n",
      "torch.Size([1, 28, 28])\n",
      "torch.Size([1, 28, 28])\n",
      "torch.Size([1, 28, 28])\n",
      "torch.Size([1, 28, 28])\n",
      "torch.Size([1, 28, 28])\n",
      "torch.Size([1, 28, 28])\n",
      "torch.Size([1, 28, 28])\n",
      "torch.Size([1, 28, 28])\n",
      "torch.Size([1, 28, 28])\n",
      "torch.Size([1, 28, 28])\n",
      "torch.Size([1, 28, 28])\n",
      "torch.Size([1, 28, 28])\n",
      "torch.Size([1, 28, 28])\n",
      "torch.Size([1, 28, 28])\n",
      "torch.Size([1, 28, 28])\n",
      "torch.Size([1, 28, 28])\n",
      "torch.Size([1, 28, 28])\n",
      "torch.Size([1, 28, 28])\n",
      "torch.Size([1, 28, 28])\n",
      "torch.Size([1, 28, 28])\n",
      "torch.Size([1, 28, 28])\n",
      "torch.Size([1, 28, 28])\n",
      "torch.Size([1, 28, 28])\n",
      "torch.Size([1, 28, 28])\n",
      "torch.Size([1, 28, 28])\n",
      "torch.Size([1, 28, 28])\n",
      "torch.Size([1, 28, 28])\n",
      "torch.Size([1, 28, 28])\n",
      "torch.Size([1, 28, 28])\n",
      "torch.Size([1, 28, 28])\n",
      "torch.Size([1, 28, 28])\n",
      "torch.Size([1, 28, 28])\n",
      "torch.Size([1, 28, 28])\n",
      "torch.Size([1, 28, 28])\n",
      "torch.Size([1, 28, 28])\n",
      "torch.Size([1, 28, 28])\n",
      "torch.Size([1, 28, 28])\n",
      "torch.Size([1, 28, 28])\n",
      "torch.Size([1, 28, 28])\n",
      "torch.Size([1, 28, 28])\n",
      "torch.Size([1, 28, 28])\n",
      "torch.Size([1, 28, 28])\n",
      "torch.Size([1, 28, 28])\n",
      "torch.Size([1, 28, 28])\n",
      "torch.Size([1, 28, 28])\n",
      "torch.Size([1, 28, 28])\n",
      "torch.Size([1, 28, 28])\n",
      "torch.Size([1, 28, 28])\n",
      "torch.Size([1, 28, 28])\n",
      "torch.Size([1, 28, 28])\n",
      "torch.Size([1, 28, 28])\n",
      "torch.Size([1, 28, 28])\n",
      "torch.Size([1, 28, 28])\n",
      "torch.Size([1, 28, 28])\n",
      "torch.Size([1, 28, 28])\n",
      "torch.Size([1, 28, 28])\n",
      "torch.Size([1, 28, 28])\n",
      "torch.Size([1, 28, 28])\n",
      "torch.Size([1, 28, 28])\n",
      "torch.Size([1, 28, 28])\n",
      "torch.Size([1, 28, 28])\n",
      "torch.Size([1, 28, 28])\n",
      "torch.Size([1, 28, 28])\n",
      "torch.Size([1, 28, 28])\n",
      "torch.Size([1, 28, 28])\n",
      "torch.Size([1, 28, 28])\n",
      "torch.Size([1, 28, 28])\n",
      "torch.Size([1, 28, 28])\n",
      "torch.Size([1, 28, 28])\n",
      "torch.Size([1, 28, 28])\n",
      "torch.Size([1, 28, 28])\n",
      "torch.Size([1, 28, 28])\n",
      "torch.Size([1, 28, 28])\n",
      "torch.Size([1, 28, 28])\n",
      "torch.Size([1, 28, 28])\n",
      "torch.Size([1, 28, 28])\n",
      "torch.Size([1, 28, 28])\n",
      "torch.Size([1, 28, 28])\n",
      "torch.Size([1, 28, 28])\n",
      "torch.Size([1, 28, 28])\n",
      "torch.Size([1, 28, 28])\n",
      "torch.Size([1, 28, 28])\n"
     ]
    },
    {
     "ename": "AttributeError",
     "evalue": "'list' object has no attribute 'to'",
     "output_type": "error",
     "traceback": [
      "\u001b[0;31m---------------------------------------------------------------------------\u001b[0m",
      "\u001b[0;31mAttributeError\u001b[0m                            Traceback (most recent call last)",
      "Cell \u001b[0;32mIn[221], line 1\u001b[0m\n\u001b[0;32m----> 1\u001b[0m \u001b[43mtrain_prednet\u001b[49m\u001b[43m(\u001b[49m\u001b[43mmodel\u001b[49m\u001b[43m,\u001b[49m\u001b[43m \u001b[49m\u001b[43mtrain_dataloader\u001b[49m\u001b[43m,\u001b[49m\u001b[43m \u001b[49m\u001b[43mnum_epochs\u001b[49m\u001b[38;5;241;43m=\u001b[39;49m\u001b[38;5;241;43m5\u001b[39;49m\u001b[43m,\u001b[49m\u001b[43m \u001b[49m\u001b[43mdevice\u001b[49m\u001b[38;5;241;43m=\u001b[39;49m\u001b[38;5;124;43m'\u001b[39;49m\u001b[38;5;124;43mcpu\u001b[39;49m\u001b[38;5;124;43m'\u001b[39;49m\u001b[43m)\u001b[49m\n",
      "File \u001b[0;32m~/Desktop/phd_work/klab_rotation/src/PredNetPytorch.py:280\u001b[0m, in \u001b[0;36mtrain_prednet\u001b[0;34m(model, train_loader, num_epochs, device)\u001b[0m\n\u001b[1;32m    278\u001b[0m \u001b[38;5;28;01mfor\u001b[39;00m epoch \u001b[38;5;129;01min\u001b[39;00m \u001b[38;5;28mrange\u001b[39m(num_epochs):\n\u001b[1;32m    279\u001b[0m     total_loss \u001b[38;5;241m=\u001b[39m \u001b[38;5;241m0\u001b[39m\n\u001b[0;32m--> 280\u001b[0m     \u001b[38;5;28;01mfor\u001b[39;00m batch_idx, sequences \u001b[38;5;129;01min\u001b[39;00m \u001b[38;5;28menumerate\u001b[39m(train_loader):\n\u001b[1;32m    281\u001b[0m         sequences \u001b[38;5;241m=\u001b[39m sequences\u001b[38;5;241m.\u001b[39mto(device)\n\u001b[1;32m    282\u001b[0m         loss \u001b[38;5;241m=\u001b[39m train_step(model, optimizer, sequences)\n",
      "\u001b[0;31mAttributeError\u001b[0m: 'list' object has no attribute 'to'"
     ]
    }
   ],
   "source": [
    "train_prednet(model, train_dataloader, num_epochs=5, device='cpu')"
   ]
  },
  {
   "cell_type": "code",
   "execution_count": null,
   "id": "d8e92a5f-8eee-4898-8b2d-4f3fe6373039",
   "metadata": {},
   "outputs": [],
   "source": []
  }
 ],
 "metadata": {
  "kernelspec": {
   "display_name": "Python [conda env:klab_rotation_env]",
   "language": "python",
   "name": "conda-env-klab_rotation_env-py"
  },
  "language_info": {
   "codemirror_mode": {
    "name": "ipython",
    "version": 3
   },
   "file_extension": ".py",
   "mimetype": "text/x-python",
   "name": "python",
   "nbconvert_exporter": "python",
   "pygments_lexer": "ipython3",
   "version": "3.11.0"
  }
 },
 "nbformat": 4,
 "nbformat_minor": 5
}
