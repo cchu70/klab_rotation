


%load_ext autoreload
%autoreload 2


from src.simple_pruning_growth_model import DrLIMPruneGrowNetwork, ContrastiveLoss, constrative_test_loop
from src.training_testing_loop import full_train, save_model_attr
from src.load_MNIST import get_mnist_pairs_loader
import torch
import numpy as np
import pandas as pd
import matplotlib.pyplot as plt
import seaborn as sns


train_pair_dataloader, val_pair_dataloader = get_mnist_pairs_loader(batch_size=32, train=True, subset_frac=0.1, validation_ratio=6)


test_pair_dataloader = get_mnist_pairs_loader(batch_size=32, train=False, subset_frac=0.1)


DrLIM_model = DrLIMPruneGrowNetwork(
    gamma=0.1, init_density=0.5, num_training_iter=10,
    low_mapping_dim=2,
)

contrastive_loss_fn = ContrastiveLoss()

train_losses_epoch, val_losses_epoch, test_df = full_train(
    DrLIM_model, train_pair_dataloader, val_pair_dataloader, test_pair_dataloader,
    learning_rate = 1e-2, 
    loss_fn=contrastive_loss_fn,
    plot=False, verbose=False,
    test_loop_func=constrative_test_loop,
    margin=contrastive_loss_fn.m,
)


margin = 2.0
with torch.no_grad():
    for X, y in test_pair_dataloader:
        pred = DrLIM_model(X)
        y1, y2 = pred[0], pred[1]
        euc_dist = (y1 - y2).pow(2).sum(1).sqrt()
        # similar and within margin, disimilar and larger than margin
        num_correct = (
                ((euc_dist < margin) * (y == 0.0)) + ((euc_dist >= margin) * (y == 1.0)) # 1 for true, 0 for false
            ).int()
        out = torch.sum(num_correct)
        break


(y == 0.0)


(y == 0.0).int()


(euc_dist < margin).astype(torch.float)


(euc_dist < margin) * (y == 0.0)


num_correct



