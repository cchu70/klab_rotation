


%load_ext autoreload
%autoreload 2


import numpy as np
import torch
import torch.nn as nn


import matplotlib.pyplot as plt





from src.load_CIFAR10 import get_train_valid_loader, get_test_loader


train_loader, valid_loader = get_train_valid_loader(
    data_dir='./data/', batch_size=64, random_seed=1, augment=False, download=True
)


test_loader = get_test_loader(data_dir='./data', batch_size=64)





input = None
for X, y in test_loader:
    input = X[0].detach()
    break


input.shape


input.permute(1, 2, 0).shape


plt.imshow(input.permute(1, 2, 0))


m = nn.Conv2d(3, 3, kernel_size=5, stride=5)
m


output = m(input).detach().permute(1, 2, 0)


output.shape


plt.imshow(output)


rand_input = torch.randn(100, 100, 1)
print(rand_input.shape)
plt.imshow(rand_input, cmap='gray')


rand_m = nn.Conv1d(100, 100, 10)
rand_m


rand_output = rand_m(rand_input)
print(rand_output.shape)
plt.imshow(rand_output.detach(), cmap='gray')


class AlexNet(nn.Module):
    def __init__(self, num_classes=10):
        super(AlexNet, self).__init__()
        
        self.layer1 = nn.Sequential(
            nn.Conv2d(3, 96, kernel_size=11, stride=4, padding=0),
            nn.BatchNorm2d(96),
            nn.ReLU(),
            nn.MaxPool2d(kernel_size=3, stride=2),
        )
        self.layer2 = nn.Sequential(
            nn.Conv2d(96, 256, kernel_size=5, stride=1, padding=2),
            nn.BatchNorm2d(256),
            nn.ReLU(),
            nn.MaxPool2d(kernel_size=3, stride=2),
        )

        # no max pool
        self.layer3 = nn.Sequential(
            nn.Conv2d(256, 384, kernel_size=3, stride=1, padding=1),
            nn.BatchNorm2d(384),
            nn.ReLU(), 
        )
        self.layer4 = nn.Sequential(
            nn.Conv2d(384, 384, kernel_size=3, stride=1, padding=1),
            nn.BatchNorm2d(384),
            nn.ReLU(),
        )

        # include maxpool
        self.layer5 = nn.Sequential(
            nn.Conv2d(384, 256, kernel_size=3, stride=1, padding=1),
            nn.BatchNorm2d(256),
            nn.ReLU(),
            nn.MaxPool2d(kernel_size=3, stride=2),
        )

        self.fc = nn.Sequential(
            nn.Dropout(0.5),
            nn.Linear(9216, 4096), # fully connected layers
            nn.ReLU()
        )
        self.fc1 = nn.Sequential(
            nn.Linear(4096, num_classes)
        )

    def forward(self, x):
        out = self.layer1(x)
        out = self.layer2(out)
        out = self.layer3(out)
        out = self.layer4(out)
        out = self.layer5(out)
        out = out.reshape(out.size(0), -1) # what does this do?
        out = self.fc(out)
        out = self.fc1(out)
        out = self.fc2(out)
        return out
        
