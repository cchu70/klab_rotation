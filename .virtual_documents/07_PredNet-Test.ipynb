


import numpy as np
import pandas as pd
from src.PredNetPytorch import create_prednet, train_prednet
from src.load_MNIST import load_MNIST
import matplotlib.pyplot as plt





import torch
from torch import nn
from torchvision import datasets
from torchvision.transforms import ToTensor
from torch.utils.data import DataLoader


train_data = datasets.MNIST(
    root='./data',
    train=True,
    download=False,
    transform=ToTensor()
)


class ImageSeq:
    def __init__(
        self,
        num_h_shift,
        size_h_shift,
        plot=False
    ):
        self.num_h_shift = num_h_shift
        self.size_h_shift = size_h_shift
        self.h_shifts = tuple(self.size_h_shift * np.arange(self.num_h_shift))
        self.plot = self._plot if plot else lambda *arg, **kwargs: None

    def __call__(self, img):
        '''
        img: W x H matrix
        '''
        img_seq = img.unsqueeze(0).repeat(self.num_h_shift, 1, 1)
        self.plot(img_seq.reshape(img.shape[0] * self.num_h_shift, img.shape[1]))
        for i, s in enumerate(self.h_shifts):
            img_seq[i] = img_seq[i].roll(shifts=s, dims=1)

        self.plot(img_seq.reshape(img.shape[0] * self.num_h_shift, img.shape[1]))
        return img_seq

    def _plot(self, img):
        plt.imshow(img)
        plt.show()
        
            


image_seq = ImageSeq(num_h_shift=3, size_h_shift=3)
image_seq.h_shifts


for x, y in train_data:
    print(y, x.shape)
    break


img_seq = image_seq(x[0])


img_seq.shape


img2tensor = ToTensor()
def custom_transform(x):
    x = img2tensor(x)
    print(x.shape)
    return image_seq(x[0])
    
train_dataloader, val_dataloader, test_dataloader = load_MNIST(batch_size=128, subset_frac=0.1, transform=custom_transform)


len(train_dataloader)





model = create_prednet((1, 28, 28))


train_prednet(model, train_dataloader, num_epochs=5, device='cpu')



