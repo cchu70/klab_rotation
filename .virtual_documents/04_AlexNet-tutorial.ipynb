


%load_ext autoreload
%autoreload 2


import numpy as np
import torch
import torch.nn as nn
import tqdm

device = torch.device('cuda' if torch.cuda.is_available() else 'cpu')


import matplotlib.pyplot as plt
from  matplotlib.colors import TwoSlopeNorm 





from src.load_CIFAR10 import get_train_valid_loader, get_test_loader


train_loader, valid_loader = get_train_valid_loader(
    data_dir='./data/', batch_size=64, random_seed=1, 
    augment=False, download=True, subsample_frac=0.10
)


test_loader = get_test_loader(data_dir='./data', batch_size=64)








rand_input = torch.randn(1, 1, 10, 10) # (batch_size, channels, height, width)
print(rand_input[0].shape)
plt.imshow(rand_input[0].detach().permute(1, 2, 0), cmap='gray')


rand_m = nn.Conv2d(in_channels=1, out_channels=1, kernel_size=5, stride=1, padding=2)
rand_m


rand_output = rand_input.detach()

iters = 5
fig, axes = plt.subplots(1, 5, figsize=(20, 5))
for i in range(iters):
    rand_output = rand_m(rand_output)
    print(rand_output.shape)
    axes[i].imshow(rand_output[0].detach().permute(1, 2, 0), cmap='gray')
plt.show()


rand_input.shape


rand_input


print(rand_input.size(0))
rand_input.reshape(rand_input.size(0), -1) #.shape





rand_input = torch.randn(1, 1, 10, 10) # (batch_size, channels, height, width)
print(rand_input[0].shape)
plt.imshow(rand_input[0].detach().permute(1, 2, 0), cmap='seismic', norm=TwoSlopeNorm(0))


text_maxpool = nn.MaxPool2d(kernel_size=3, stride=3)


rand_maxpool_output = text_maxpool(rand_input)
print(rand_maxpool_output.shape)
plt.imshow(rand_maxpool_output[0].detach().permute(1, 2, 0), cmap='seismic', norm=TwoSlopeNorm(0))





dropout_fn = nn.Dropout(0.5)


rand_input = torch.randn(1, 1, 10, 10) # (batch_size, channels, height, width)
print(rand_input[0].shape)
plt.imshow(rand_input[0].detach().permute(1, 2, 0), cmap='seismic', norm=TwoSlopeNorm(0))
plt.colorbar()


rand_dropout_output = dropout_fn(rand_input)
print(rand_dropout_output.shape)
plt.imshow(rand_dropout_output[0].detach().permute(1, 2, 0), cmap='seismic', norm=TwoSlopeNorm(0))





class AlexNet(nn.Module):
    def __init__(self, num_classes=10):
        super(AlexNet, self).__init__()

        self.layer1 = nn.Sequential(
            nn.Conv2d(3, 96, kernel_size=11, stride=4, padding=0),
            nn.BatchNorm2d(96),
            nn.ReLU(),
            nn.MaxPool2d(kernel_size=3, stride=2),
        )
        self.layer2 = nn.Sequential(
            nn.Conv2d(96, 256, kernel_size=5, stride=1, padding=2),
            nn.BatchNorm2d(256),
            nn.ReLU(),
            nn.MaxPool2d(kernel_size=3, stride=2),
        )

        # no max pool
        self.layer3 = nn.Sequential(
            nn.Conv2d(256, 384, kernel_size=3, stride=1, padding=1),
            nn.BatchNorm2d(384),
            nn.ReLU(), 
        )
        self.layer4 = nn.Sequential(
            nn.Conv2d(384, 384, kernel_size=3, stride=1, padding=1),
            nn.BatchNorm2d(384),
            nn.ReLU(),
        )

        # include maxpool
        self.layer5 = nn.Sequential(
            nn.Conv2d(384, 256, kernel_size=3, stride=1, padding=1),
            nn.BatchNorm2d(256),
            nn.ReLU(),
            nn.MaxPool2d(kernel_size=3, stride=2),
        )

        self.fc = nn.Sequential(
            nn.Dropout(0.5),
            nn.Linear(9216, 4096), # fully connected layers
            nn.ReLU()
        )
        self.fc1 = nn.Sequential(
            nn.Linear(4096, 4096),
            nn.ReLU()
        )
        self.fc2 = nn.Sequential(
            nn.Linear(4096, num_classes)
        )

    def forward(self, x):
        # conv2, batch norm, relu, maxpool2d
        out = self.layer1(x)     # 1 x 3 x W X H --> 1 x 96 x W X H (match, channels, w, h)
        out = self.layer2(out)   # 1 x 96 x W X H --> 1 x 256 x W x H

        # conv2d, batchnorm, relu
        out = self.layer3(out)   # 1 x 256 x W x H --> 1 x 384 x W x H
        out = self.layer4(out)   # 1 x 384 x W x H --> 1 x 384 x W x H

        # conv2, batch norm, relu, max pool
        out = self.layer5(out)   # 1 x 384 x W x H --> 1 x 256 x W x H
        out = out.reshape(out.size(0), -1) # flattens --> 1 x 256*W*H

        # drop out, linear, relu
        out = self.fc(out) # 1 x 256*W*H (9216?) --> 4096

        # linear, relu
        out = self.fc1(out) # 4096 --> 4096

        # linear
        out = self.fc2(out) # 4096 --> 10
        return out
        m





num_classes = 10 # output number of classes
num_epochs = 5  # number of total training loops?
batch_size = 64  # how much data to train on at a time
learning_rate = 0.005 # SGD step size

model = AlexNet(num_classes).to(device)

# loss and optimizer
criterion = nn.CrossEntropyLoss()
optimizer = torch.optim.SGD(
    model.parameters(), 
    lr=learning_rate, 
    weight_decay = 0.005, 
    momentum = 0.9
)

total_step = len(train_loader)


total_step





total_step = len(train_loader)

for epoch in range(num_epochs):
    for i, (images, labels) in tqdm.tqdm(enumerate(train_loader), total=total_step, desc=f"Epoch {epoch} Training"):
        # move tensors to the configured device
        images = images.to(device)
        labels = labels.to(device)

        # forward pass
        outputs = model(images)
        loss = criterion(outputs, labels)

        # backward and optimize
        optimizer.zero_grad()
        loss.backward()
        optimizer.step()

    print(f"Epoch [{epoch + 1}/{num_epochs}], Step [{i + 1}, {total_step}], Loss: {loss.item():.4f}")

    # validation
    with torch.no_grad():
        correct = 0
        total = 0
        for images, labels in valid_loader:
            images = images.to(device)
            labels = labels.to(device)
            outputs = model(images)
            _, predicted = torch.max(outputs.data, 1)
            total += labels.size(0)
            correct += (predicted == labels).sum().item()
            del images, labels, outputs

        print(f"Accurace of network on validation images: {100 * correct / total}%")
        





with torch.no_grad():
    correct = 0
    total = 0
    for images, labels in tqdm.tqdm(test_loader, total=len(test_loader)):
        images = images.to(device)
        labels = labels.to(device)
        outputs = model(images)
        _, predicted = torch.max(outputs.data, 1)
        total += labels.size(0)
        correct += (predicted == labels).sum().item()
        del images, labels, outputs

    print(f"Accurace of network on test images: {100 * correct / total}%")






