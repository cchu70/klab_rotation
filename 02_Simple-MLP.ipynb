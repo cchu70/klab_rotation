{
 "cells": [
  {
   "cell_type": "markdown",
   "id": "c4853492-456e-4195-9d88-d91cda242a91",
   "metadata": {},
   "source": [
    "# 02_Simple-MLP\n",
    "\n",
    "Based on [Stothers 2018 thesis](https://klab.tch.harvard.edu/publications/PDFs/gk7817.pdf) Dense Network Model Section 2.3\n",
    "\n",
    "Fully connected (dense) Multi-layer perceptron (MLP):\n",
    "- fixed layers 1, ..., $m$ and units per layer $L_1, ..., L_m$\n",
    "- $m=3$\n",
    "    - 784 units in the input layer\n",
    "    - 16 units in layer 2\n",
    "    - 10 units in final classification layer\n",
    " \n",
    "**Packages**\n",
    "```\n",
    "pip install keras\n",
    "pip install tensorflow\n",
    "```"
   ]
  },
  {
   "cell_type": "code",
   "execution_count": 22,
   "id": "2eb94f0a-3309-4c33-99d0-201a8aa9674e",
   "metadata": {},
   "outputs": [
    {
     "name": "stdout",
     "output_type": "stream",
     "text": [
      "The autoreload extension is already loaded. To reload it, use:\n",
      "  %reload_ext autoreload\n"
     ]
    }
   ],
   "source": [
    "%load_ext autoreload\n",
    "%autoreload 2"
   ]
  },
  {
   "cell_type": "code",
   "execution_count": 277,
   "id": "000eacfa-0b8e-4927-9c5c-9682233e21eb",
   "metadata": {},
   "outputs": [],
   "source": [
    "import numpy as np\n",
    "import pandas as pd\n",
    "import matplotlib.pyplot as plt\n",
    "from sklearn import metrics\n",
    "import tqdm\n",
    "import seaborn as sns"
   ]
  },
  {
   "cell_type": "code",
   "execution_count": 61,
   "id": "27b10589-136b-4b3e-9f6f-c199599dc2a3",
   "metadata": {},
   "outputs": [],
   "source": [
    "import torch\n",
    "from torch import nn\n",
    "from torchvision import datasets\n",
    "from torchvision.transforms import ToTensor\n",
    "from torch.utils.data import DataLoader"
   ]
  },
  {
   "cell_type": "markdown",
   "id": "256f3de8-1d4b-479f-880b-4d4c2cfc2ad5",
   "metadata": {},
   "source": [
    "## Load Data"
   ]
  },
  {
   "cell_type": "code",
   "execution_count": 192,
   "id": "26e60559-8506-47b1-b84a-09dcd55eac54",
   "metadata": {},
   "outputs": [],
   "source": [
    "batch_size = 2048\n",
    "training_data = datasets.MNIST(\n",
    "    root=\"data\",\n",
    "    train=True,\n",
    "    download=False,\n",
    "    transform=ToTensor()\n",
    ")\n",
    "\n",
    "test_data = datasets.MNIST(\n",
    "    root=\"data\",\n",
    "    train=False,\n",
    "    download=False,\n",
    "    transform=ToTensor()\n",
    ")\n",
    "\n",
    "num_val = int(len(training_data) / 6)\n",
    "val_data, training_data = torch.utils.data.random_split(training_data, [num_val, int(len(training_data) - num_val)])\n",
    "\n",
    "train_dataloader = DataLoader(training_data, batch_size=batch_size)\n",
    "val_dataloader = DataLoader(val_data, batch_size=batch_size)\n",
    "test_dataloader = DataLoader(test_data, batch_size=batch_size)\n"
   ]
  },
  {
   "cell_type": "code",
   "execution_count": 193,
   "id": "67419ca9-7aaa-48c4-92a7-20448acef364",
   "metadata": {},
   "outputs": [
    {
     "data": {
      "text/plain": [
       "25"
      ]
     },
     "execution_count": 193,
     "metadata": {},
     "output_type": "execute_result"
    }
   ],
   "source": [
    "len(train_dataloader)"
   ]
  },
  {
   "cell_type": "code",
   "execution_count": 230,
   "id": "a0848ad3-025c-4652-bf64-0972f9b1c2ef",
   "metadata": {},
   "outputs": [
    {
     "data": {
      "text/plain": [
       "5"
      ]
     },
     "execution_count": 230,
     "metadata": {},
     "output_type": "execute_result"
    }
   ],
   "source": [
    "len(val_dataloader)"
   ]
  },
  {
   "cell_type": "code",
   "execution_count": 231,
   "id": "4e4d059d-c00c-4052-9566-34711236cd4b",
   "metadata": {},
   "outputs": [
    {
     "data": {
      "text/plain": [
       "5"
      ]
     },
     "execution_count": 231,
     "metadata": {},
     "output_type": "execute_result"
    }
   ],
   "source": [
    "len(test_dataloader)"
   ]
  },
  {
   "cell_type": "markdown",
   "id": "93948508-a6c7-47ac-ab33-e5c2ca30ed43",
   "metadata": {},
   "source": [
    "## Build Model\n",
    "\n",
    "Following this tutorial: https://medium.com/@artjovianprojects/deep-learning-project-multilayer-perceptron-e34017941918\n",
    "- Input layer: https://wandb.ai/ayush-thakur/dl-question-bank/reports/Input-Keras-Layer-Explanation-With-Code-Samples--VmlldzoyMDIzMDU"
   ]
  },
  {
   "cell_type": "code",
   "execution_count": 13,
   "id": "c05b3c39-5eef-4c6d-8e33-9f9433216b0f",
   "metadata": {},
   "outputs": [],
   "source": [
    "device = \"cpu\""
   ]
  },
  {
   "cell_type": "code",
   "execution_count": 119,
   "id": "9d1d3158-ead6-4ecc-b29b-9d4600bc6b7a",
   "metadata": {},
   "outputs": [
    {
     "data": {
      "text/plain": [
       "Parameter containing:\n",
       "tensor([[1., 1., 1., 1.],\n",
       "        [1., 1., 1., 1.]], requires_grad=True)"
      ]
     },
     "execution_count": 119,
     "metadata": {},
     "output_type": "execute_result"
    }
   ],
   "source": [
    "nn.Parameter(torch.ones((2, 4), dtype=torch.float))"
   ]
  },
  {
   "cell_type": "code",
   "execution_count": 156,
   "id": "ce931d1d-9f1e-4329-9443-61c8e29de8a9",
   "metadata": {},
   "outputs": [],
   "source": [
    "layer = BaseDenseLayer(10, 16)"
   ]
  },
  {
   "cell_type": "code",
   "execution_count": 157,
   "id": "40741152-4dc0-41b1-9f32-eebd6afa7853",
   "metadata": {},
   "outputs": [
    {
     "name": "stdout",
     "output_type": "stream",
     "text": [
      "tensor([[0.3295, 0.1285, 0.5969, 0.8309, 0.3792, 0.6996, 0.2975, 0.2454, 0.0623,\n",
      "         0.1110]])\n",
      "torch.Size([1, 16])\n"
     ]
    }
   ],
   "source": [
    "x = torch.rand((1, 10))\n",
    "print(x)\n",
    "new_x = layer.forward(x)\n",
    "print(new_x.shape)"
   ]
  },
  {
   "cell_type": "code",
   "execution_count": 380,
   "id": "345a3f55-e2c5-44a4-a44e-db0f9bbb8dab",
   "metadata": {},
   "outputs": [],
   "source": [
    "class BaseDenseLayer(nn.Module):\n",
    "    def __init__(\n",
    "        self,\n",
    "        input_dim,\n",
    "        output_dim\n",
    "    ):\n",
    "        super().__init__()\n",
    "        self.W = nn.Parameter(nn.init.kaiming_uniform_(torch.empty((input_dim, output_dim), dtype=torch.float)))\n",
    "        self.b = nn.Parameter(torch.zeros(output_dim, dtype=torch.float))\n",
    "        self.act = nn.ReLU()\n",
    "    def forward(self, x):\n",
    "        return self.act(x @ self.W + self.b)\n",
    "\n",
    "class PredictionHead(nn.Module):\n",
    "    \"\"\"\n",
    "    No Activation\n",
    "    \"\"\"\n",
    "    def __init__(\n",
    "        self,\n",
    "        input_dim: int,\n",
    "        num_classes: int\n",
    "    ):\n",
    "        super().__init__()\n",
    "        self.W = nn.Parameter(nn.init.kaiming_uniform_(torch.empty((input_dim, num_classes), dtype=torch.float)))\n",
    "        self.b = nn.Parameter(torch.zeros(num_classes, dtype=torch.float))\n",
    "        \n",
    "    def forward(self, x):\n",
    "        return x @ self.W + self.b\n",
    "        \n",
    "\n",
    "class FullNetwork(nn.Module):\n",
    "    def __init__(\n",
    "        self,\n",
    "    ):\n",
    "        super().__init__()\n",
    "        self.flatten = nn.Flatten()\n",
    "        l1 = BaseDenseLayer(28*28, 16)\n",
    "        l2 = PredictionHead(16, 10)\n",
    "        self.layers = nn.ModuleList([l1, l2])\n",
    "        self.trace = []\n",
    "        \n",
    "    def forward(self, x):\n",
    "        x = self.flatten(x)\n",
    "        for layer in self.layers:\n",
    "            x = layer(x)\n",
    "            self.trace.append(x)\n",
    "        return x\n",
    "        "
   ]
  },
  {
   "cell_type": "code",
   "execution_count": 381,
   "id": "0be86181-ced4-49bb-821a-9a8c60df1a54",
   "metadata": {},
   "outputs": [
    {
     "name": "stdout",
     "output_type": "stream",
     "text": [
      "FullNetwork(\n",
      "  (flatten): Flatten(start_dim=1, end_dim=-1)\n",
      "  (layers): ModuleList(\n",
      "    (0): BaseDenseLayer(\n",
      "      (act): ReLU()\n",
      "    )\n",
      "    (1): PredictionHead()\n",
      "  )\n",
      ")\n"
     ]
    }
   ],
   "source": [
    "model = FullNetwork()\n",
    "print(model)"
   ]
  },
  {
   "cell_type": "markdown",
   "id": "138fd21b-7f14-4847-bb63-844a6fa2a130",
   "metadata": {},
   "source": [
    "## Train Model\n",
    "\n",
    "In the tutorial, they use `sparse_categorical_crossentropy` since we have sparse labels (10 categories)"
   ]
  },
  {
   "cell_type": "code",
   "execution_count": 382,
   "id": "e86ff04e-5af0-4a5f-ab05-d8978579b528",
   "metadata": {},
   "outputs": [],
   "source": [
    "def train_loop(dataloader, model, loss_fn, optimizer, val_dataloader=None):\n",
    "    size = len(dataloader.dataset)\n",
    "    # set model to training mode\n",
    "    # generator = torch.Generator().manual_seed(42)\n",
    "    val_loss = 0\n",
    "\n",
    "    train_losses = dict()\n",
    "    val_losses = dict()\n",
    "\n",
    "    val_loss_fn = nn.CrossEntropyLoss(reduction='sum')\n",
    "    \n",
    "    for batch, (X, y) in enumerate(dataloader):\n",
    "        model.train()\n",
    "        pred = model(X)\n",
    "        loss = loss_fn(pred, y)\n",
    "        train_losses[batch] = loss.item()\n",
    "        \n",
    "        # backprop\n",
    "        loss.backward()\n",
    "        optimizer.step()\n",
    "        optimizer.zero_grad() #reset gradients of model parameters for each batch to avoid double counting\n",
    "\n",
    "        if batch % 10 == 0:\n",
    "            loss, current = loss.item(), batch * batch_size + len(X)\n",
    "            print(f\"loss: {loss:7f} [{current:>5d}/{size:>5d}]\")\n",
    "\n",
    "            # Validation\n",
    "            model.eval()\n",
    "            with torch.no_grad():\n",
    "                val_loss = 0.\n",
    "                for val_batch, (X_val, y_val) in enumerate(val_dataloader):\n",
    "                    pred = model(X_val)\n",
    "                    val_loss += val_loss_fn(pred, y_val).item()\n",
    "            val_losses[batch] = val_loss / len(val_dataloader.dataset)\n",
    "            print(f\"Val loss: {val_loss:7f}\")\n",
    "\n",
    "    return train_losses, val_losses\n",
    "\n",
    "def test_loop(dataloader, model, loss_fn):\n",
    "    # set to evaluation mode\n",
    "    model.eval()\n",
    "    size = len(dataloader.dataset)\n",
    "    num_batches = len(dataloader)\n",
    "    test_loss, correct = 0, 0\n",
    "    \n",
    "    with torch.no_grad(): # no gradients computed\n",
    "        for X, y in dataloader:\n",
    "            pred = model(X)\n",
    "            test_loss += loss_fn(pred, y).item()\n",
    "            correct += (pred.argmax(1) == y).type(torch.float).sum().item()\n",
    "        \n",
    "    test_loss /= num_batches\n",
    "    correct /= size\n",
    "    \n",
    "    print(f\"Test Error \\n Accuracy: {(100*correct):>0.1f}%, Avg loss: {test_loss:>3f}\\n\")\n",
    "    return correct, test_loss\n"
   ]
  },
  {
   "cell_type": "code",
   "execution_count": 383,
   "id": "8319a9a0-7c5a-4858-8893-2735287b5f0a",
   "metadata": {},
   "outputs": [
    {
     "data": {
      "text/plain": [
       "'./data/02.pytorch.model.pth'"
      ]
     },
     "execution_count": 383,
     "metadata": {},
     "output_type": "execute_result"
    }
   ],
   "source": [
    "model_pth = './data/02.pytorch.model.pth'\n",
    "model_pth"
   ]
  },
  {
   "cell_type": "code",
   "execution_count": 384,
   "id": "08720b71-826d-4189-b0c9-4f578120869e",
   "metadata": {
    "scrolled": true
   },
   "outputs": [
    {
     "name": "stdout",
     "output_type": "stream",
     "text": [
      "Epoch 1\n",
      "----------------\n",
      "loss: 6.663597 [ 2048/50000]\n",
      "Val loss: 63106.208008\n",
      "loss: 5.152418 [22528/50000]\n",
      "Val loss: 50591.173828\n",
      "loss: 4.385674 [43008/50000]\n",
      "Val loss: 43827.278809\n",
      "Test Error \n",
      " Accuracy: 12.5%, Avg loss: 4.201269\n",
      "\n",
      "Epoch 2\n",
      "----------------\n",
      "loss: 4.262953 [ 2048/50000]\n",
      "Val loss: 41345.017090\n",
      "loss: 3.759362 [22528/50000]\n",
      "Val loss: 37374.766113\n",
      "loss: 3.399887 [43008/50000]\n",
      "Val loss: 34315.831055\n",
      "Test Error \n",
      " Accuracy: 15.8%, Avg loss: 3.326109\n",
      "\n",
      "Epoch 3\n",
      "----------------\n",
      "loss: 3.391658 [ 2048/50000]\n",
      "Val loss: 33048.307617\n",
      "loss: 3.091268 [22528/50000]\n",
      "Val loss: 30874.026367\n",
      "loss: 2.860721 [43008/50000]\n",
      "Val loss: 29088.101562\n",
      "Test Error \n",
      " Accuracy: 19.1%, Avg loss: 2.828725\n",
      "\n",
      "Epoch 4\n",
      "----------------\n",
      "loss: 2.891117 [ 2048/50000]\n",
      "Val loss: 28317.814941\n",
      "loss: 2.690816 [22528/50000]\n",
      "Val loss: 26961.496094\n",
      "loss: 2.525162 [43008/50000]\n",
      "Val loss: 25808.534668\n",
      "Test Error \n",
      " Accuracy: 23.2%, Avg loss: 2.512785\n",
      "\n",
      "Epoch 5\n",
      "----------------\n",
      "loss: 2.570558 [ 2048/50000]\n",
      "Val loss: 25297.084473\n",
      "loss: 2.426883 [22528/50000]\n",
      "Val loss: 24380.812988\n",
      "loss: 2.300496 [43008/50000]\n",
      "Val loss: 23580.295410\n",
      "Test Error \n",
      " Accuracy: 26.9%, Avg loss: 2.294948\n",
      "\n",
      "Epoch 6\n",
      "----------------\n",
      "loss: 2.346158 [ 2048/50000]\n",
      "Val loss: 23218.412598\n",
      "loss: 2.240051 [22528/50000]\n",
      "Val loss: 22559.045898\n",
      "loss: 2.138324 [43008/50000]\n",
      "Val loss: 21966.944580\n",
      "Test Error \n",
      " Accuracy: 30.2%, Avg loss: 2.135856\n",
      "\n",
      "Epoch 7\n",
      "----------------\n",
      "loss: 2.182915 [ 2048/50000]\n",
      "Val loss: 21694.350586\n",
      "loss: 2.099888 [22528/50000]\n",
      "Val loss: 21188.207764\n",
      "loss: 2.015453 [43008/50000]\n",
      "Val loss: 20727.114258\n",
      "Test Error \n",
      " Accuracy: 33.1%, Avg loss: 2.013779\n",
      "\n",
      "Epoch 8\n",
      "----------------\n",
      "loss: 2.058185 [ 2048/50000]\n",
      "Val loss: 20512.526611\n",
      "loss: 1.989417 [22528/50000]\n",
      "Val loss: 20108.852539\n",
      "loss: 1.917510 [43008/50000]\n",
      "Val loss: 19736.687500\n",
      "Test Error \n",
      " Accuracy: 36.0%, Avg loss: 1.916281\n",
      "\n",
      "Epoch 9\n",
      "----------------\n",
      "loss: 1.958416 [ 2048/50000]\n",
      "Val loss: 19561.797363\n",
      "loss: 1.899554 [22528/50000]\n",
      "Val loss: 19229.320068\n",
      "loss: 1.836674 [43008/50000]\n",
      "Val loss: 18918.468994\n",
      "Test Error \n",
      " Accuracy: 38.8%, Avg loss: 1.835800\n",
      "\n",
      "Epoch 10\n",
      "----------------\n",
      "loss: 1.876368 [ 2048/50000]\n",
      "Val loss: 18771.623047\n",
      "loss: 1.824099 [22528/50000]\n",
      "Val loss: 18490.030762\n",
      "loss: 1.767914 [43008/50000]\n",
      "Val loss: 18224.817139\n",
      "Test Error \n",
      " Accuracy: 41.2%, Avg loss: 1.767475\n",
      "\n",
      "Epoch 11\n",
      "----------------\n",
      "loss: 1.807180 [ 2048/50000]\n",
      "Val loss: 18098.372559\n",
      "loss: 1.759142 [22528/50000]\n",
      "Val loss: 17853.431641\n",
      "loss: 1.707969 [43008/50000]\n",
      "Val loss: 17621.980957\n",
      "Test Error \n",
      " Accuracy: 43.6%, Avg loss: 1.708037\n",
      "\n",
      "Epoch 12\n",
      "----------------\n",
      "loss: 1.747290 [ 2048/50000]\n",
      "Val loss: 17510.984863\n",
      "loss: 1.702180 [22528/50000]\n",
      "Val loss: 17293.667480\n",
      "loss: 1.655137 [43008/50000]\n",
      "Val loss: 17087.123535\n",
      "Test Error \n",
      " Accuracy: 45.6%, Avg loss: 1.655230\n",
      "\n",
      "Epoch 13\n",
      "----------------\n",
      "loss: 1.694206 [ 2048/50000]\n",
      "Val loss: 16987.261719\n",
      "loss: 1.651475 [22528/50000]\n",
      "Val loss: 16791.089111\n",
      "loss: 1.607579 [43008/50000]\n",
      "Val loss: 16604.651123\n",
      "Test Error \n",
      " Accuracy: 47.5%, Avg loss: 1.607647\n",
      "\n",
      "Epoch 14\n",
      "----------------\n",
      "loss: 1.646323 [ 2048/50000]\n",
      "Val loss: 16514.221680\n",
      "loss: 1.605468 [22528/50000]\n",
      "Val loss: 16335.889160\n",
      "loss: 1.564266 [43008/50000]\n",
      "Val loss: 16165.761230\n",
      "Test Error \n",
      " Accuracy: 48.7%, Avg loss: 1.564418\n",
      "\n",
      "Epoch 15\n",
      "----------------\n",
      "loss: 1.602851 [ 2048/50000]\n",
      "Val loss: 16083.168457\n",
      "loss: 1.563364 [22528/50000]\n",
      "Val loss: 15919.029785\n",
      "loss: 1.524534 [43008/50000]\n",
      "Val loss: 15762.507568\n",
      "Test Error \n",
      " Accuracy: 50.1%, Avg loss: 1.524709\n",
      "\n",
      "Epoch 16\n",
      "----------------\n",
      "loss: 1.563240 [ 2048/50000]\n",
      "Val loss: 15686.231201\n",
      "loss: 1.524634 [22528/50000]\n",
      "Val loss: 15534.476074\n",
      "loss: 1.487880 [43008/50000]\n",
      "Val loss: 15389.717529\n",
      "Test Error \n",
      " Accuracy: 51.3%, Avg loss: 1.487992\n",
      "\n",
      "Epoch 17\n",
      "----------------\n",
      "loss: 1.526799 [ 2048/50000]\n",
      "Val loss: 15319.002197\n",
      "loss: 1.488780 [22528/50000]\n",
      "Val loss: 15177.220215\n",
      "loss: 1.453902 [43008/50000]\n",
      "Val loss: 15042.523682\n",
      "Test Error \n",
      " Accuracy: 52.2%, Avg loss: 1.453722\n",
      "\n",
      "Epoch 18\n",
      "----------------\n",
      "loss: 1.493068 [ 2048/50000]\n",
      "Val loss: 14976.087402\n",
      "loss: 1.455227 [22528/50000]\n",
      "Val loss: 14842.867432\n",
      "loss: 1.422196 [43008/50000]\n",
      "Val loss: 14716.364746\n",
      "Test Error \n",
      " Accuracy: 53.2%, Avg loss: 1.421544\n",
      "\n",
      "Epoch 19\n",
      "----------------\n",
      "loss: 1.461368 [ 2048/50000]\n",
      "Val loss: 14653.620605\n",
      "loss: 1.423733 [22528/50000]\n",
      "Val loss: 14527.949707\n",
      "loss: 1.392288 [43008/50000]\n",
      "Val loss: 14408.560059\n",
      "Test Error \n",
      " Accuracy: 54.2%, Avg loss: 1.391379\n",
      "\n",
      "Epoch 20\n",
      "----------------\n",
      "loss: 1.431359 [ 2048/50000]\n",
      "Val loss: 14349.763916\n",
      "loss: 1.394067 [22528/50000]\n",
      "Val loss: 14231.566650\n",
      "loss: 1.364022 [43008/50000]\n",
      "Val loss: 14119.187988\n",
      "Test Error \n",
      " Accuracy: 55.0%, Avg loss: 1.362987\n",
      "\n",
      "Epoch 21\n",
      "----------------\n",
      "loss: 1.403023 [ 2048/50000]\n",
      "Val loss: 14063.523438\n",
      "loss: 1.366032 [22528/50000]\n",
      "Val loss: 13951.812256\n",
      "loss: 1.337360 [43008/50000]\n",
      "Val loss: 13845.678223\n",
      "Test Error \n",
      " Accuracy: 55.8%, Avg loss: 1.336141\n",
      "\n",
      "Epoch 22\n",
      "----------------\n",
      "loss: 1.375931 [ 2048/50000]\n",
      "Val loss: 13792.997559\n",
      "loss: 1.339503 [22528/50000]\n",
      "Val loss: 13687.381348\n",
      "loss: 1.312159 [43008/50000]\n",
      "Val loss: 13586.939941\n",
      "Test Error \n",
      " Accuracy: 56.4%, Avg loss: 1.310741\n",
      "\n",
      "Epoch 23\n",
      "----------------\n",
      "loss: 1.350243 [ 2048/50000]\n",
      "Val loss: 13536.893066\n",
      "loss: 1.314573 [22528/50000]\n",
      "Val loss: 13436.575928\n",
      "loss: 1.288319 [43008/50000]\n",
      "Val loss: 13340.854492\n",
      "Test Error \n",
      " Accuracy: 57.2%, Avg loss: 1.286665\n",
      "\n",
      "Epoch 24\n",
      "----------------\n",
      "loss: 1.325801 [ 2048/50000]\n",
      "Val loss: 13292.843994\n",
      "loss: 1.291023 [22528/50000]\n",
      "Val loss: 13197.438477\n",
      "loss: 1.265650 [43008/50000]\n",
      "Val loss: 13106.423096\n",
      "Test Error \n",
      " Accuracy: 57.9%, Avg loss: 1.263759\n",
      "\n",
      "Epoch 25\n",
      "----------------\n",
      "loss: 1.302629 [ 2048/50000]\n",
      "Val loss: 13060.942139\n",
      "loss: 1.268575 [22528/50000]\n",
      "Val loss: 12970.224365\n",
      "loss: 1.244247 [43008/50000]\n",
      "Val loss: 12883.489258\n",
      "Test Error \n",
      " Accuracy: 58.8%, Avg loss: 1.241890\n",
      "\n",
      "Epoch 26\n",
      "----------------\n",
      "loss: 1.280545 [ 2048/50000]\n",
      "Val loss: 12839.849609\n",
      "loss: 1.247081 [22528/50000]\n",
      "Val loss: 12753.049316\n",
      "loss: 1.224057 [43008/50000]\n",
      "Val loss: 12670.012451\n",
      "Test Error \n",
      " Accuracy: 59.5%, Avg loss: 1.221055\n",
      "\n",
      "Epoch 27\n",
      "----------------\n",
      "loss: 1.259528 [ 2048/50000]\n",
      "Val loss: 12628.241455\n",
      "loss: 1.226480 [22528/50000]\n",
      "Val loss: 12545.293945\n",
      "loss: 1.204861 [43008/50000]\n",
      "Val loss: 12465.736328\n",
      "Test Error \n",
      " Accuracy: 60.3%, Avg loss: 1.201220\n",
      "\n",
      "Epoch 28\n",
      "----------------\n",
      "loss: 1.239397 [ 2048/50000]\n",
      "Val loss: 12425.885986\n",
      "loss: 1.206851 [22528/50000]\n",
      "Val loss: 12346.697998\n",
      "loss: 1.186473 [43008/50000]\n",
      "Val loss: 12270.638428\n",
      "Test Error \n",
      " Accuracy: 60.9%, Avg loss: 1.182266\n",
      "\n",
      "Epoch 29\n",
      "----------------\n",
      "loss: 1.220022 [ 2048/50000]\n",
      "Val loss: 12232.326660\n",
      "loss: 1.188103 [22528/50000]\n",
      "Val loss: 12156.140869\n",
      "loss: 1.168733 [43008/50000]\n",
      "Val loss: 12083.069824\n",
      "Test Error \n",
      " Accuracy: 61.4%, Avg loss: 1.164113\n",
      "\n",
      "Epoch 30\n",
      "----------------\n",
      "loss: 1.201326 [ 2048/50000]\n",
      "Val loss: 12046.290527\n",
      "loss: 1.170093 [22528/50000]\n",
      "Val loss: 11973.058105\n",
      "loss: 1.151677 [43008/50000]\n",
      "Val loss: 11902.928711\n",
      "Test Error \n",
      " Accuracy: 61.9%, Avg loss: 1.146707\n",
      "\n",
      "Epoch 31\n",
      "----------------\n",
      "loss: 1.183392 [ 2048/50000]\n",
      "Val loss: 11867.622559\n",
      "loss: 1.152795 [22528/50000]\n",
      "Val loss: 11797.310547\n",
      "loss: 1.135441 [43008/50000]\n",
      "Val loss: 11730.086182\n",
      "Test Error \n",
      " Accuracy: 62.7%, Avg loss: 1.129943\n",
      "\n",
      "Epoch 32\n",
      "----------------\n",
      "loss: 1.166118 [ 2048/50000]\n",
      "Val loss: 11696.112061\n",
      "loss: 1.136102 [22528/50000]\n",
      "Val loss: 11628.617676\n",
      "loss: 1.119705 [43008/50000]\n",
      "Val loss: 11563.843140\n",
      "Test Error \n",
      " Accuracy: 63.3%, Avg loss: 1.113797\n",
      "\n",
      "Epoch 33\n",
      "----------------\n",
      "loss: 1.149459 [ 2048/50000]\n",
      "Val loss: 11531.194336\n",
      "loss: 1.120084 [22528/50000]\n",
      "Val loss: 11466.271362\n",
      "loss: 1.104500 [43008/50000]\n",
      "Val loss: 11403.939819\n",
      "Test Error \n",
      " Accuracy: 63.8%, Avg loss: 1.098200\n",
      "\n",
      "Epoch 34\n",
      "----------------\n",
      "loss: 1.133310 [ 2048/50000]\n",
      "Val loss: 11372.469360\n",
      "loss: 1.104652 [22528/50000]\n",
      "Val loss: 11310.002930\n",
      "loss: 1.089784 [43008/50000]\n",
      "Val loss: 11250.087769\n",
      "Test Error \n",
      " Accuracy: 64.4%, Avg loss: 1.083126\n",
      "\n",
      "Epoch 35\n",
      "----------------\n",
      "loss: 1.117621 [ 2048/50000]\n",
      "Val loss: 11219.911255\n",
      "loss: 1.089779 [22528/50000]\n",
      "Val loss: 11159.872803\n",
      "loss: 1.075660 [43008/50000]\n",
      "Val loss: 11102.220947\n",
      "Test Error \n",
      " Accuracy: 65.0%, Avg loss: 1.068552\n",
      "\n",
      "Epoch 36\n",
      "----------------\n",
      "loss: 1.102503 [ 2048/50000]\n",
      "Val loss: 11073.030640\n",
      "loss: 1.075395 [22528/50000]\n",
      "Val loss: 11015.049194\n",
      "loss: 1.062021 [43008/50000]\n",
      "Val loss: 10959.410767\n",
      "Test Error \n",
      " Accuracy: 65.5%, Avg loss: 1.054474\n",
      "\n",
      "Epoch 37\n",
      "----------------\n",
      "loss: 1.087893 [ 2048/50000]\n",
      "Val loss: 10931.252319\n",
      "loss: 1.061449 [22528/50000]\n",
      "Val loss: 10875.219116\n",
      "loss: 1.048899 [43008/50000]\n",
      "Val loss: 10821.466309\n",
      "Test Error \n",
      " Accuracy: 66.0%, Avg loss: 1.040881\n",
      "\n",
      "Epoch 38\n",
      "----------------\n",
      "loss: 1.073733 [ 2048/50000]\n",
      "Val loss: 10794.132202\n",
      "loss: 1.047886 [22528/50000]\n",
      "Val loss: 10739.849609\n",
      "loss: 1.036299 [43008/50000]\n",
      "Val loss: 10688.069702\n",
      "Test Error \n",
      " Accuracy: 66.4%, Avg loss: 1.027780\n",
      "\n",
      "Epoch 39\n",
      "----------------\n",
      "loss: 1.060148 [ 2048/50000]\n",
      "Val loss: 10661.677368\n",
      "loss: 1.034807 [22528/50000]\n",
      "Val loss: 10609.070923\n",
      "loss: 1.024179 [43008/50000]\n",
      "Val loss: 10558.730835\n",
      "Test Error \n",
      " Accuracy: 66.9%, Avg loss: 1.015078\n",
      "\n",
      "Epoch 40\n",
      "----------------\n",
      "loss: 1.047052 [ 2048/50000]\n",
      "Val loss: 10532.956421\n",
      "loss: 1.022077 [22528/50000]\n",
      "Val loss: 10481.629028\n",
      "loss: 1.012514 [43008/50000]\n",
      "Val loss: 10432.801025\n",
      "Test Error \n",
      " Accuracy: 67.3%, Avg loss: 1.002768\n",
      "\n",
      "Epoch 41\n",
      "----------------\n",
      "loss: 1.034349 [ 2048/50000]\n",
      "Val loss: 10407.930664\n",
      "loss: 1.009793 [22528/50000]\n",
      "Val loss: 10358.383789\n",
      "loss: 1.001218 [43008/50000]\n",
      "Val loss: 10311.066772\n",
      "Test Error \n",
      " Accuracy: 67.7%, Avg loss: 0.990860\n",
      "\n",
      "Epoch 42\n",
      "----------------\n",
      "loss: 1.022033 [ 2048/50000]\n",
      "Val loss: 10286.986206\n",
      "loss: 0.997906 [22528/50000]\n",
      "Val loss: 10239.002808\n",
      "loss: 0.990231 [43008/50000]\n",
      "Val loss: 10193.137451\n",
      "Test Error \n",
      " Accuracy: 68.2%, Avg loss: 0.979267\n",
      "\n",
      "Epoch 43\n",
      "----------------\n",
      "loss: 1.010153 [ 2048/50000]\n",
      "Val loss: 10169.636841\n",
      "loss: 0.986317 [22528/50000]\n",
      "Val loss: 10123.051025\n",
      "loss: 0.979525 [43008/50000]\n",
      "Val loss: 10078.316040\n",
      "Test Error \n",
      " Accuracy: 68.6%, Avg loss: 0.967963\n",
      "\n",
      "Epoch 44\n",
      "----------------\n",
      "loss: 0.998646 [ 2048/50000]\n",
      "Val loss: 10055.504639\n",
      "loss: 0.975091 [22528/50000]\n",
      "Val loss: 10010.328125\n",
      "loss: 0.969113 [43008/50000]\n",
      "Val loss: 9966.847412\n",
      "Test Error \n",
      " Accuracy: 69.0%, Avg loss: 0.957018\n",
      "\n",
      "Epoch 45\n",
      "----------------\n",
      "loss: 0.987498 [ 2048/50000]\n",
      "Val loss: 9944.711548\n",
      "loss: 0.964150 [22528/50000]\n",
      "Val loss: 9900.888916\n",
      "loss: 0.959056 [43008/50000]\n",
      "Val loss: 9858.633423\n",
      "Test Error \n",
      " Accuracy: 69.5%, Avg loss: 0.946385\n",
      "\n",
      "Epoch 46\n",
      "----------------\n",
      "loss: 0.976686 [ 2048/50000]\n",
      "Val loss: 9837.124634\n",
      "loss: 0.953538 [22528/50000]\n",
      "Val loss: 9794.511719\n",
      "loss: 0.949279 [43008/50000]\n",
      "Val loss: 9753.527588\n",
      "Test Error \n",
      " Accuracy: 69.8%, Avg loss: 0.936054\n",
      "\n",
      "Epoch 47\n",
      "----------------\n",
      "loss: 0.966142 [ 2048/50000]\n",
      "Val loss: 9732.580811\n",
      "loss: 0.943272 [22528/50000]\n",
      "Val loss: 9691.087524\n",
      "loss: 0.939758 [43008/50000]\n",
      "Val loss: 9651.313110\n",
      "Test Error \n",
      " Accuracy: 70.2%, Avg loss: 0.925996\n",
      "\n",
      "Epoch 48\n",
      "----------------\n",
      "loss: 0.955915 [ 2048/50000]\n",
      "Val loss: 9630.942749\n",
      "loss: 0.933351 [22528/50000]\n",
      "Val loss: 9590.446411\n",
      "loss: 0.930492 [43008/50000]\n",
      "Val loss: 9551.838135\n",
      "Test Error \n",
      " Accuracy: 70.4%, Avg loss: 0.916244\n",
      "\n",
      "Epoch 49\n",
      "----------------\n",
      "loss: 0.945932 [ 2048/50000]\n",
      "Val loss: 9531.965820\n",
      "loss: 0.923671 [22528/50000]\n",
      "Val loss: 9492.587891\n",
      "loss: 0.921475 [43008/50000]\n",
      "Val loss: 9455.093262\n",
      "Test Error \n",
      " Accuracy: 70.8%, Avg loss: 0.906764\n",
      "\n",
      "Epoch 50\n",
      "----------------\n",
      "loss: 0.936210 [ 2048/50000]\n",
      "Val loss: 9435.727173\n",
      "loss: 0.914240 [22528/50000]\n",
      "Val loss: 9397.382324\n",
      "loss: 0.912654 [43008/50000]\n",
      "Val loss: 9361.198120\n",
      "Test Error \n",
      " Accuracy: 71.1%, Avg loss: 0.897567\n",
      "\n",
      "done!\n"
     ]
    }
   ],
   "source": [
    "model = FullNetwork()\n",
    "\n",
    "learning_rate = 1e-2 # how much to update model parameters at each epoch. Speed of learning\n",
    "epochs = 50 # number of times to iterate over dataset\n",
    "\n",
    "loss_fn = nn.CrossEntropyLoss()\n",
    "optimizer = torch.optim.SGD(model.parameters(), lr=learning_rate) # make sure model is the right instance\n",
    "test_df = pd.DataFrame(index=np.arange(epochs), columns=['test_err', 'test_loss'])\n",
    "test_df.index.name = 'epoch'\n",
    "train_losses_epoch = dict()\n",
    "val_losses_epoch = dict()\n",
    "for i, t in enumerate(range(epochs)):\n",
    "    print(f\"Epoch {t+1}\\n----------------\")\n",
    "    train_losses, val_losses = train_loop(train_dataloader, model, loss_fn, optimizer, val_dataloader)\n",
    "    train_losses_epoch[i] = train_losses\n",
    "    val_losses_epoch[i] = val_losses\n",
    "    \n",
    "    test_err, test_loss = test_loop(test_dataloader, model, loss_fn)\n",
    "    test_df.loc[i] = [test_err, test_loss]\n",
    "\n",
    "print(\"done!\")\n",
    "\n",
    "torch.save(model.state_dict(), model_pth)"
   ]
  },
  {
   "cell_type": "code",
   "execution_count": 392,
   "id": "606ee59c-646f-4df8-8e77-607c9fca771c",
   "metadata": {},
   "outputs": [],
   "source": [
    "torch.save(model.state_dict(), model_pth)"
   ]
  },
  {
   "cell_type": "code",
   "execution_count": 385,
   "id": "b1865736-031f-477f-b1e3-a4b7a5764a66",
   "metadata": {},
   "outputs": [
    {
     "data": {
      "text/html": [
       "<div>\n",
       "<style scoped>\n",
       "    .dataframe tbody tr th:only-of-type {\n",
       "        vertical-align: middle;\n",
       "    }\n",
       "\n",
       "    .dataframe tbody tr th {\n",
       "        vertical-align: top;\n",
       "    }\n",
       "\n",
       "    .dataframe thead th {\n",
       "        text-align: right;\n",
       "    }\n",
       "</style>\n",
       "<table border=\"1\" class=\"dataframe\">\n",
       "  <thead>\n",
       "    <tr style=\"text-align: right;\">\n",
       "      <th></th>\n",
       "      <th>test_err</th>\n",
       "      <th>test_loss</th>\n",
       "    </tr>\n",
       "    <tr>\n",
       "      <th>epoch</th>\n",
       "      <th></th>\n",
       "      <th></th>\n",
       "    </tr>\n",
       "  </thead>\n",
       "  <tbody>\n",
       "    <tr>\n",
       "      <th>0</th>\n",
       "      <td>0.1249</td>\n",
       "      <td>4.201269</td>\n",
       "    </tr>\n",
       "    <tr>\n",
       "      <th>1</th>\n",
       "      <td>0.1582</td>\n",
       "      <td>3.326109</td>\n",
       "    </tr>\n",
       "    <tr>\n",
       "      <th>2</th>\n",
       "      <td>0.1906</td>\n",
       "      <td>2.828725</td>\n",
       "    </tr>\n",
       "    <tr>\n",
       "      <th>3</th>\n",
       "      <td>0.2321</td>\n",
       "      <td>2.512785</td>\n",
       "    </tr>\n",
       "    <tr>\n",
       "      <th>4</th>\n",
       "      <td>0.2689</td>\n",
       "      <td>2.294948</td>\n",
       "    </tr>\n",
       "  </tbody>\n",
       "</table>\n",
       "</div>"
      ],
      "text/plain": [
       "      test_err test_loss\n",
       "epoch                   \n",
       "0       0.1249  4.201269\n",
       "1       0.1582  3.326109\n",
       "2       0.1906  2.828725\n",
       "3       0.2321  2.512785\n",
       "4       0.2689  2.294948"
      ]
     },
     "execution_count": 385,
     "metadata": {},
     "output_type": "execute_result"
    }
   ],
   "source": [
    "test_df.head()"
   ]
  },
  {
   "cell_type": "code",
   "execution_count": 386,
   "id": "2e83ebfb-2a87-44a9-bc2a-a67847815b92",
   "metadata": {},
   "outputs": [
    {
     "data": {
      "text/plain": [
       "ModuleList(\n",
       "  (0): BaseDenseLayer(\n",
       "    (act): ReLU()\n",
       "  )\n",
       "  (1): PredictionHead()\n",
       ")"
      ]
     },
     "execution_count": 386,
     "metadata": {},
     "output_type": "execute_result"
    }
   ],
   "source": [
    "model.layers"
   ]
  },
  {
   "cell_type": "code",
   "execution_count": 387,
   "id": "0d1e1fc3-b02a-4bc2-9367-e19b05a91386",
   "metadata": {},
   "outputs": [
    {
     "data": {
      "image/png": "[encoded data removed]",
      "text/plain": [
       "<Figure size 640x480 with 1 Axes>"
      ]
     },
     "metadata": {},
     "output_type": "display_data"
    }
   ],
   "source": [
    "sns.scatterplot(test_df.reset_index(), x='epoch', y='test_err') \n",
    "plt.show()"
   ]
  },
  {
   "cell_type": "code",
   "execution_count": 388,
   "id": "16a0b3f3-05dd-4928-a103-831bf10275fa",
   "metadata": {},
   "outputs": [],
   "source": [
    "training_losses_df = pd.DataFrame(train_losses_epoch).T\n",
    "training_losses_df.columns.name = 'batch'\n",
    "training_losses_df.index.name = 'epoch'\n",
    "\n",
    "val_losses_df = pd.DataFrame(val_losses_epoch).T\n",
    "val_losses_df.columns.name = 'batch'\n",
    "val_losses_df.index.name = 'epoch'"
   ]
  },
  {
   "cell_type": "code",
   "execution_count": 389,
   "id": "9404f82d-ea57-434f-baab-eedb9105a207",
   "metadata": {},
   "outputs": [],
   "source": [
    "stack_training_losses_df = training_losses_df.stack().reset_index().rename(columns={0: 'loss'})\n",
    "stack_training_losses_df.index = stack_training_losses_df['epoch'].astype(str) + '-' + stack_training_losses_df['batch'].astype(str)\n",
    "stack_training_losses_df.index.name = 'index'\n",
    "stack_val_losses_df = val_losses_df.stack().reset_index().rename(columns={0: 'loss'})\n",
    "stack_val_losses_df.index = stack_val_losses_df['epoch'].astype(str) + '-' + stack_val_losses_df['batch'].astype(str)\n",
    "stack_val_losses_df.index.name = 'index'"
   ]
  },
  {
   "cell_type": "code",
   "execution_count": 390,
   "id": "33872f87-55c7-4d45-95e8-af551d485936",
   "metadata": {},
   "outputs": [
    {
     "data": {
      "text/html": [
       "<div>\n",
       "<style scoped>\n",
       "    .dataframe tbody tr th:only-of-type {\n",
       "        vertical-align: middle;\n",
       "    }\n",
       "\n",
       "    .dataframe tbody tr th {\n",
       "        vertical-align: top;\n",
       "    }\n",
       "\n",
       "    .dataframe thead th {\n",
       "        text-align: right;\n",
       "    }\n",
       "</style>\n",
       "<table border=\"1\" class=\"dataframe\">\n",
       "  <thead>\n",
       "    <tr style=\"text-align: right;\">\n",
       "      <th></th>\n",
       "      <th>epoch</th>\n",
       "      <th>batch</th>\n",
       "      <th>loss</th>\n",
       "    </tr>\n",
       "    <tr>\n",
       "      <th>index</th>\n",
       "      <th></th>\n",
       "      <th></th>\n",
       "      <th></th>\n",
       "    </tr>\n",
       "  </thead>\n",
       "  <tbody>\n",
       "    <tr>\n",
       "      <th>0-0</th>\n",
       "      <td>0</td>\n",
       "      <td>0</td>\n",
       "      <td>6.310621</td>\n",
       "    </tr>\n",
       "    <tr>\n",
       "      <th>0-10</th>\n",
       "      <td>0</td>\n",
       "      <td>10</td>\n",
       "      <td>5.059117</td>\n",
       "    </tr>\n",
       "    <tr>\n",
       "      <th>0-20</th>\n",
       "      <td>0</td>\n",
       "      <td>20</td>\n",
       "      <td>4.382728</td>\n",
       "    </tr>\n",
       "    <tr>\n",
       "      <th>1-0</th>\n",
       "      <td>1</td>\n",
       "      <td>0</td>\n",
       "      <td>4.134502</td>\n",
       "    </tr>\n",
       "    <tr>\n",
       "      <th>1-10</th>\n",
       "      <td>1</td>\n",
       "      <td>10</td>\n",
       "      <td>3.737477</td>\n",
       "    </tr>\n",
       "  </tbody>\n",
       "</table>\n",
       "</div>"
      ],
      "text/plain": [
       "       epoch  batch      loss\n",
       "index                        \n",
       "0-0        0      0  6.310621\n",
       "0-10       0     10  5.059117\n",
       "0-20       0     20  4.382728\n",
       "1-0        1      0  4.134502\n",
       "1-10       1     10  3.737477"
      ]
     },
     "execution_count": 390,
     "metadata": {},
     "output_type": "execute_result"
    }
   ],
   "source": [
    "stack_val_losses_df.head()"
   ]
  },
  {
   "cell_type": "code",
   "execution_count": 391,
   "id": "9502c716-a225-4f8d-a210-411033516ad6",
   "metadata": {},
   "outputs": [
    {
     "data": {
      "image/png": "[encoded data removed]",
      "text/plain": [
       "<Figure size 640x480 with 1 Axes>"
      ]
     },
     "metadata": {},
     "output_type": "display_data"
    }
   ],
   "source": [
    "sns.scatterplot(stack_training_losses_df.reset_index(), x='index', y='loss', s=1, label='Training loss', alpha=0.5, c='gray')\n",
    "sns.scatterplot(stack_val_losses_df.reset_index(), x='index', y='loss', s=2, label='Validation loss', c='red')\n",
    "plt.xticks([])\n",
    "plt.xlabel('Training and validation epoch/batch')\n",
    "plt.show()"
   ]
  },
  {
   "cell_type": "markdown",
   "id": "8a173281-9405-47a6-84fc-39422583d01a",
   "metadata": {},
   "source": [
    "**TODO**: \n",
    "- Play with learning rate\n",
    "- Train and test on same dataset\n",
    "- draw your own digit"
   ]
  },
  {
   "cell_type": "markdown",
   "id": "84b01c27-7bf9-4e17-ab80-3beb4f024551",
   "metadata": {},
   "source": [
    "## Test Model"
   ]
  },
  {
   "cell_type": "code",
   "execution_count": 332,
   "id": "f70fc7a1-b580-4fc1-ab07-3e82dda02a84",
   "metadata": {},
   "outputs": [],
   "source": [
    "loaded_model = torch.load(model_pth)"
   ]
  },
  {
   "cell_type": "code",
   "execution_count": 343,
   "id": "df6ff47f-b6d5-47ce-b96e-83b1fdd9b8e7",
   "metadata": {},
   "outputs": [],
   "source": [
    "with torch.no_grad():\n",
    "    loaded_model.eval() # not training\n",
    "    ys = []\n",
    "    pred_ys = []\n",
    "    for X, y in test_dataloader:\n",
    "        pred_y = loaded_model(X)\n",
    "        ys.append(y)\n",
    "        pred_ys.append(torch.argmax(pred_y, axis=1))\n",
    "\n",
    "ys = torch.cat(ys)\n",
    "pred_ys = torch.cat(pred_ys)"
   ]
  },
  {
   "cell_type": "code",
   "execution_count": 344,
   "id": "9f1dfef7-447c-402e-b4b3-ea6dece80da5",
   "metadata": {},
   "outputs": [
    {
     "data": {
      "text/plain": [
       "tensor([7, 2, 1,  ..., 4, 5, 6])"
      ]
     },
     "execution_count": 344,
     "metadata": {},
     "output_type": "execute_result"
    }
   ],
   "source": [
    "ys"
   ]
  },
  {
   "cell_type": "code",
   "execution_count": 345,
   "id": "9420030b-f206-46dd-b791-b3fbb3eaa817",
   "metadata": {},
   "outputs": [
    {
     "data": {
      "text/plain": [
       "tensor([7, 2, 1,  ..., 4, 8, 6])"
      ]
     },
     "execution_count": 345,
     "metadata": {},
     "output_type": "execute_result"
    }
   ],
   "source": [
    "pred_ys"
   ]
  },
  {
   "cell_type": "code",
   "execution_count": 346,
   "id": "ffcd53ec-0584-4431-9935-d3c57372f751",
   "metadata": {},
   "outputs": [
    {
     "name": "stdout",
     "output_type": "stream",
     "text": [
      "Accuracy: 0.8627\n"
     ]
    }
   ],
   "source": [
    "print(f\"Accuracy: {metrics.accuracy_score(y_true=ys, y_pred=pred_ys)}\")"
   ]
  },
  {
   "cell_type": "code",
   "execution_count": 359,
   "id": "72427cd4-56d2-4f99-bd02-69d59cf49c79",
   "metadata": {},
   "outputs": [
    {
     "data": {
      "image/png": "[encoded data removed]",
      "text/plain": [
       "<Figure size 2500x500 with 5 Axes>"
      ]
     },
     "metadata": {},
     "output_type": "display_data"
    }
   ],
   "source": [
    "correct_idx = np.where(ys == pred_ys)[0]\n",
    "display_idx = correct_idx[np.random.randint(len(correct_idx), size=5)]\n",
    "num_subplots = len(display_idx)\n",
    "height = 5\n",
    "fig, axes = plt.subplots(1, num_subplots, figsize=(num_subplots * height, height))\n",
    "for i, di in enumerate(display_idx):\n",
    "    axes[i].imshow(test_data.data[di], cmap='gray') # normalized\n",
    "    axes[i].set_title(f\"Predicted: {pred_ys[di]}, Expected: {ys[di]}\")\n",
    "plt.show()"
   ]
  },
  {
   "cell_type": "code",
   "execution_count": 360,
   "id": "3de70f04-2816-4e30-be0c-9898d2019289",
   "metadata": {},
   "outputs": [
    {
     "data": {
      "image/png": "[encoded data removed]",
      "text/plain": [
       "<Figure size 2500x500 with 5 Axes>"
      ]
     },
     "metadata": {},
     "output_type": "display_data"
    }
   ],
   "source": [
    "incorrect_idx = np.where(ys != pred_ys)[0]\n",
    "display_idx = incorrect_idx[np.random.randint(len(incorrect_idx), size=5)]\n",
    "num_subplots = len(display_idx)\n",
    "height = 5\n",
    "fig, axes = plt.subplots(1, num_subplots, figsize=(num_subplots * height, height))\n",
    "for i, di in enumerate(display_idx):\n",
    "    axes[i].imshow(test_data.data[di], cmap='gray') # normalized\n",
    "    axes[i].set_title(f\"Predicted: {pred_ys[di]}, Expected: {ys[di]}\")\n",
    "plt.show()"
   ]
  },
  {
   "cell_type": "code",
   "execution_count": 361,
   "id": "51a52173-b793-41f8-8439-784f2a8d67cc",
   "metadata": {},
   "outputs": [],
   "source": [
    "confusion_matrix = metrics.confusion_matrix(y_true=ys, y_pred=pred_ys, labels=np.arange(10))"
   ]
  },
  {
   "cell_type": "code",
   "execution_count": 362,
   "id": "047de2b7-19f7-4533-8259-168fbcbc0636",
   "metadata": {},
   "outputs": [
    {
     "data": {
      "image/png": "[encoded data removed]",
      "text/plain": [
       "<Figure size 640x480 with 2 Axes>"
      ]
     },
     "metadata": {},
     "output_type": "display_data"
    }
   ],
   "source": [
    "disp = metrics.ConfusionMatrixDisplay(confusion_matrix, display_labels=np.arange(10))\n",
    "disp.plot()\n",
    "plt.show()"
   ]
  },
  {
   "cell_type": "code",
   "execution_count": null,
   "id": "473e8651-e59a-4894-a441-5ab3797dcb38",
   "metadata": {},
   "outputs": [],
   "source": []
  }
 ],
 "metadata": {
  "kernelspec": {
   "display_name": "Python [conda env:klab_rotation_env]",
   "language": "python",
   "name": "conda-env-klab_rotation_env-py"
  },
  "language_info": {
   "codemirror_mode": {
    "name": "ipython",
    "version": 3
   },
   "file_extension": ".py",
   "mimetype": "text/x-python",
   "name": "python",
   "nbconvert_exporter": "python",
   "pygments_lexer": "ipython3",
   "version": "3.11.0"
  }
 },
 "nbformat": 4,
 "nbformat_minor": 5
}
