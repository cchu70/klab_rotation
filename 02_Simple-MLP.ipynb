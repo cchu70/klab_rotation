{
 "cells": [
  {
   "cell_type": "markdown",
   "id": "c4853492-456e-4195-9d88-d91cda242a91",
   "metadata": {},
   "source": [
    "# 02_Simple-MLP\n",
    "\n",
    "Based on [Stothers 2018 thesis](https://klab.tch.harvard.edu/publications/PDFs/gk7817.pdf) Dense Network Model Section 2.3\n",
    "\n",
    "Fully connected (dense) Multi-layer perceptron (MLP):\n",
    "- fixed layers 1, ..., $m$ and units per layer $L_1, ..., L_m$\n",
    "- $m=3$\n",
    "    - 784 units in the input layer\n",
    "    - 16 units in layer 2\n",
    "    - 10 units in final classification layer\n",
    " \n",
    "**Packages**\n",
    "```\n",
    "pip install keras\n",
    "pip install tensorflow\n",
    "```"
   ]
  },
  {
   "cell_type": "code",
   "execution_count": 22,
   "id": "2eb94f0a-3309-4c33-99d0-201a8aa9674e",
   "metadata": {},
   "outputs": [
    {
     "name": "stdout",
     "output_type": "stream",
     "text": [
      "The autoreload extension is already loaded. To reload it, use:\n",
      "  %reload_ext autoreload\n"
     ]
    }
   ],
   "source": [
    "%load_ext autoreload\n",
    "%autoreload 2"
   ]
  },
  {
   "cell_type": "code",
   "execution_count": 277,
   "id": "000eacfa-0b8e-4927-9c5c-9682233e21eb",
   "metadata": {},
   "outputs": [],
   "source": [
    "import numpy as np\n",
    "import pandas as pd\n",
    "import matplotlib.pyplot as plt\n",
    "from sklearn import metrics\n",
    "import tqdm\n",
    "import seaborn as sns"
   ]
  },
  {
   "cell_type": "code",
   "execution_count": 61,
   "id": "27b10589-136b-4b3e-9f6f-c199599dc2a3",
   "metadata": {},
   "outputs": [],
   "source": [
    "import torch\n",
    "from torch import nn\n",
    "from torchvision import datasets\n",
    "from torchvision.transforms import ToTensor\n",
    "from torch.utils.data import DataLoader"
   ]
  },
  {
   "cell_type": "markdown",
   "id": "256f3de8-1d4b-479f-880b-4d4c2cfc2ad5",
   "metadata": {},
   "source": [
    "## Load Data"
   ]
  },
  {
   "cell_type": "code",
   "execution_count": 192,
   "id": "26e60559-8506-47b1-b84a-09dcd55eac54",
   "metadata": {},
   "outputs": [],
   "source": [
    "batch_size = 2048\n",
    "training_data = datasets.MNIST(\n",
    "    root=\"data\",\n",
    "    train=True,\n",
    "    download=False,\n",
    "    transform=ToTensor()\n",
    ")\n",
    "\n",
    "test_data = datasets.MNIST(\n",
    "    root=\"data\",\n",
    "    train=False,\n",
    "    download=False,\n",
    "    transform=ToTensor()\n",
    ")\n",
    "\n",
    "num_val = int(len(training_data) / 6)\n",
    "val_data, training_data = torch.utils.data.random_split(training_data, [num_val, int(len(training_data) - num_val)])\n",
    "\n",
    "train_dataloader = DataLoader(training_data, batch_size=batch_size)\n",
    "val_dataloader = DataLoader(val_data, batch_size=batch_size)\n",
    "test_dataloader = DataLoader(test_data, batch_size=batch_size)\n"
   ]
  },
  {
   "cell_type": "code",
   "execution_count": 193,
   "id": "67419ca9-7aaa-48c4-92a7-20448acef364",
   "metadata": {},
   "outputs": [
    {
     "data": {
      "text/plain": [
       "25"
      ]
     },
     "execution_count": 193,
     "metadata": {},
     "output_type": "execute_result"
    }
   ],
   "source": [
    "len(train_dataloader)"
   ]
  },
  {
   "cell_type": "code",
   "execution_count": 230,
   "id": "a0848ad3-025c-4652-bf64-0972f9b1c2ef",
   "metadata": {},
   "outputs": [
    {
     "data": {
      "text/plain": [
       "5"
      ]
     },
     "execution_count": 230,
     "metadata": {},
     "output_type": "execute_result"
    }
   ],
   "source": [
    "len(val_dataloader)"
   ]
  },
  {
   "cell_type": "code",
   "execution_count": 231,
   "id": "4e4d059d-c00c-4052-9566-34711236cd4b",
   "metadata": {},
   "outputs": [
    {
     "data": {
      "text/plain": [
       "5"
      ]
     },
     "execution_count": 231,
     "metadata": {},
     "output_type": "execute_result"
    }
   ],
   "source": [
    "len(test_dataloader)"
   ]
  },
  {
   "cell_type": "markdown",
   "id": "93948508-a6c7-47ac-ab33-e5c2ca30ed43",
   "metadata": {},
   "source": [
    "## Build Model\n",
    "\n",
    "Following this tutorial: https://medium.com/@artjovianprojects/deep-learning-project-multilayer-perceptron-e34017941918\n",
    "- Input layer: https://wandb.ai/ayush-thakur/dl-question-bank/reports/Input-Keras-Layer-Explanation-With-Code-Samples--VmlldzoyMDIzMDU"
   ]
  },
  {
   "cell_type": "code",
   "execution_count": 13,
   "id": "c05b3c39-5eef-4c6d-8e33-9f9433216b0f",
   "metadata": {},
   "outputs": [],
   "source": [
    "device = \"cpu\""
   ]
  },
  {
   "cell_type": "code",
   "execution_count": 119,
   "id": "9d1d3158-ead6-4ecc-b29b-9d4600bc6b7a",
   "metadata": {},
   "outputs": [
    {
     "data": {
      "text/plain": [
       "Parameter containing:\n",
       "tensor([[1., 1., 1., 1.],\n",
       "        [1., 1., 1., 1.]], requires_grad=True)"
      ]
     },
     "execution_count": 119,
     "metadata": {},
     "output_type": "execute_result"
    }
   ],
   "source": [
    "nn.Parameter(torch.ones((2, 4), dtype=torch.float))"
   ]
  },
  {
   "cell_type": "code",
   "execution_count": 156,
   "id": "ce931d1d-9f1e-4329-9443-61c8e29de8a9",
   "metadata": {},
   "outputs": [],
   "source": [
    "layer = BaseDenseLayer(10, 16)"
   ]
  },
  {
   "cell_type": "code",
   "execution_count": 157,
   "id": "40741152-4dc0-41b1-9f32-eebd6afa7853",
   "metadata": {},
   "outputs": [
    {
     "name": "stdout",
     "output_type": "stream",
     "text": [
      "tensor([[0.3295, 0.1285, 0.5969, 0.8309, 0.3792, 0.6996, 0.2975, 0.2454, 0.0623,\n",
      "         0.1110]])\n",
      "torch.Size([1, 16])\n"
     ]
    }
   ],
   "source": [
    "x = torch.rand((1, 10))\n",
    "print(x)\n",
    "new_x = layer.forward(x)\n",
    "print(new_x.shape)"
   ]
  },
  {
   "cell_type": "code",
   "execution_count": 171,
   "id": "345a3f55-e2c5-44a4-a44e-db0f9bbb8dab",
   "metadata": {},
   "outputs": [],
   "source": [
    "class BaseDenseLayer(nn.Module):\n",
    "    def __init__(\n",
    "        self,\n",
    "        input_dim,\n",
    "        output_dim\n",
    "    ):\n",
    "        super().__init__()\n",
    "        self.W = nn.Parameter(nn.init.kaiming_uniform_(torch.empty((input_dim, output_dim), dtype=torch.float)))\n",
    "        self.D = nn.Parameter(torch.ones((input_dim, output_dim), dtype=torch.float, requires_grad=False))\n",
    "        self.b = nn.Parameter(torch.zeros(output_dim, dtype=torch.float))\n",
    "        self.act = nn.ReLU()\n",
    "    def forward(self, x):\n",
    "        masked_W = self.W * self.D\n",
    "        return self.act(x @ masked_W + self.b)\n",
    "\n",
    "class PredictionHead(nn.Module):\n",
    "    \"\"\"\n",
    "    No Activation\n",
    "    \"\"\"\n",
    "    def __init__(\n",
    "        self,\n",
    "        input_dim: int,\n",
    "        num_classes: int\n",
    "    ):\n",
    "        super().__init__()\n",
    "        self.W = nn.Parameter(nn.init.kaiming_uniform_(torch.empty((input_dim, num_classes), dtype=torch.float)))\n",
    "        self.D = nn.Parameter(torch.ones((input_dim, num_classes), dtype=torch.float, requires_grad=False))\n",
    "        self.b = nn.Parameter(torch.zeros(num_classes, dtype=torch.float))\n",
    "        \n",
    "    def forward(self, x):\n",
    "        masked_W = self.W * self.D\n",
    "        return x @ masked_W + b\n",
    "        \n",
    "\n",
    "class FullNetwork(nn.Module):\n",
    "    def __init__(\n",
    "        self,\n",
    "    ):\n",
    "        super().__init__()\n",
    "        l1 = BaseDenseLayer(28*28, 16)\n",
    "        l2 = PredictionHead(16, 10)\n",
    "        self.layers = nn.ModuleList([l1, l2])\n",
    "        self.trace = []\n",
    "        \n",
    "    def forward(x):\n",
    "        x = self.flatten(x)\n",
    "        for layer in self.layers:\n",
    "            x = layer(x)\n",
    "            self.trace.append(x)\n",
    "        return x\n",
    "        "
   ]
  },
  {
   "cell_type": "code",
   "execution_count": 172,
   "id": "0be86181-ced4-49bb-821a-9a8c60df1a54",
   "metadata": {},
   "outputs": [
    {
     "name": "stdout",
     "output_type": "stream",
     "text": [
      "FullNetwork(\n",
      "  (layers): ModuleList(\n",
      "    (0): BaseDenseLayer(\n",
      "      (act): ReLU()\n",
      "    )\n",
      "    (1): PredictionHead()\n",
      "  )\n",
      ")\n"
     ]
    }
   ],
   "source": [
    "model = FullNetwork()\n",
    "print(model)"
   ]
  },
  {
   "cell_type": "markdown",
   "id": "138fd21b-7f14-4847-bb63-844a6fa2a130",
   "metadata": {},
   "source": [
    "## Train Model\n",
    "\n",
    "In the tutorial, they use `sparse_categorical_crossentropy` since we have sparse labels (10 categories)"
   ]
  },
  {
   "cell_type": "code",
   "execution_count": 197,
   "id": "10a70fbf-16d5-40e1-82d1-0768582cee83",
   "metadata": {},
   "outputs": [
    {
     "data": {
      "text/plain": [
       "<torch.utils.data.dataloader.DataLoader at 0x146da8bd0>"
      ]
     },
     "execution_count": 197,
     "metadata": {},
     "output_type": "execute_result"
    }
   ],
   "source": [
    "val_dataloader"
   ]
  },
  {
   "cell_type": "code",
   "execution_count": 233,
   "id": "e86ff04e-5af0-4a5f-ab05-d8978579b528",
   "metadata": {},
   "outputs": [],
   "source": [
    "def train_loop(dataloader, model, loss_fn, optimizer, val_dataloader=None):\n",
    "    size = len(dataloader.dataset)\n",
    "    # set model to training mode\n",
    "    # generator = torch.Generator().manual_seed(42)\n",
    "    val_loss = 0\n",
    "\n",
    "    train_losses = dict()\n",
    "    val_losses = dict()\n",
    "\n",
    "    val_loss_fn = nn.CrossEntropyLoss(reduction='sum')\n",
    "    \n",
    "    for batch, (X, y) in enumerate(dataloader):\n",
    "        model.train()\n",
    "        pred = model(X)\n",
    "        loss = loss_fn(pred, y)\n",
    "        train_losses[batch] = loss.item()\n",
    "        \n",
    "        # backprop\n",
    "        loss.backward()\n",
    "        optimizer.step()\n",
    "        optimizer.zero_grad() #reset gradients of model parameters for each batch to avoid double counting\n",
    "\n",
    "        if batch % 10 == 0:\n",
    "            loss, current = loss.item(), batch * batch_size + len(X)\n",
    "            print(f\"loss: {loss:7f} [{current:>5d}/{size:>5d}]\")\n",
    "\n",
    "            # Validation\n",
    "            model.eval()\n",
    "            with torch.no_grad():\n",
    "                val_loss = 0.\n",
    "                for val_batch, (X_val, y_val) in enumerate(val_dataloader):\n",
    "                    pred = model(X_val)\n",
    "                    val_loss += val_loss_fn(pred, y_val).item()\n",
    "            val_losses[batch] = val_loss / len(val_dataloader.dataset)\n",
    "            print(f\"Val loss: {val_loss:7f}\")\n",
    "\n",
    "    return train_losses, val_losses\n",
    "\n",
    "def test_loop(dataloader, model, loss_fn):\n",
    "    # set to evaluation mode\n",
    "    model.eval()\n",
    "    size = len(dataloader.dataset)\n",
    "    num_batches = len(dataloader)\n",
    "    test_loss, correct = 0, 0\n",
    "    \n",
    "    with torch.no_grad(): # no gradients computed\n",
    "        for X, y in dataloader:\n",
    "            pred = model(X)\n",
    "            test_loss += loss_fn(pred, y).item()\n",
    "            correct += (pred.argmax(1) == y).type(torch.float).sum().item()\n",
    "        \n",
    "    test_loss /= num_batches\n",
    "    correct /= size\n",
    "    \n",
    "    print(f\"Test Error \\n Accuracy: {(100*correct):>0.1f}%, Avg loss: {test_loss:>3f}\\n\")\n",
    "    return correct, test_loss\n"
   ]
  },
  {
   "cell_type": "code",
   "execution_count": 240,
   "id": "8319a9a0-7c5a-4858-8893-2735287b5f0a",
   "metadata": {},
   "outputs": [
    {
     "data": {
      "text/plain": [
       "'./data/02.pytorch.model.pth'"
      ]
     },
     "execution_count": 240,
     "metadata": {},
     "output_type": "execute_result"
    }
   ],
   "source": [
    "model_pth = './data/02.pytorch.model.pth'\n",
    "model_pth"
   ]
  },
  {
   "cell_type": "code",
   "execution_count": 267,
   "id": "08720b71-826d-4189-b0c9-4f578120869e",
   "metadata": {
    "scrolled": true
   },
   "outputs": [
    {
     "name": "stdout",
     "output_type": "stream",
     "text": [
      "Epoch 1\n",
      "----------------\n",
      "loss: 2.325687 [ 2048/50000]\n",
      "Val loss: 23243.111816\n",
      "loss: 2.310897 [22528/50000]\n",
      "Val loss: 23097.243652\n",
      "loss: 2.292435 [43008/50000]\n",
      "Val loss: 22974.390137\n",
      "Test Error \n",
      " Accuracy: 9.9%, Avg loss: 2.291822\n",
      "\n",
      "Epoch 2\n",
      "----------------\n",
      "loss: 2.292336 [ 2048/50000]\n",
      "Val loss: 22919.980469\n",
      "loss: 2.281748 [22528/50000]\n",
      "Val loss: 22813.280273\n",
      "loss: 2.265608 [43008/50000]\n",
      "Val loss: 22700.325684\n",
      "Test Error \n",
      " Accuracy: 10.7%, Avg loss: 2.263831\n",
      "\n",
      "Epoch 3\n",
      "----------------\n",
      "loss: 2.263825 [ 2048/50000]\n",
      "Val loss: 22641.076660\n",
      "loss: 2.252109 [22528/50000]\n",
      "Val loss: 22511.491943\n",
      "loss: 2.233105 [43008/50000]\n",
      "Val loss: 22366.697021\n",
      "Test Error \n",
      " Accuracy: 18.0%, Avg loss: 2.228790\n",
      "\n",
      "Epoch 4\n",
      "----------------\n",
      "loss: 2.228435 [ 2048/50000]\n",
      "Val loss: 22291.047852\n",
      "loss: 2.214233 [22528/50000]\n",
      "Val loss: 22124.582764\n",
      "loss: 2.191096 [43008/50000]\n",
      "Val loss: 21942.181152\n",
      "Test Error \n",
      " Accuracy: 33.5%, Avg loss: 2.184649\n",
      "\n",
      "Epoch 5\n",
      "----------------\n",
      "loss: 2.184400 [ 2048/50000]\n",
      "Val loss: 21850.572998\n",
      "loss: 2.167741 [22528/50000]\n",
      "Val loss: 21656.046387\n",
      "loss: 2.142576 [43008/50000]\n",
      "Val loss: 21449.295898\n",
      "Test Error \n",
      " Accuracy: 43.1%, Avg loss: 2.134073\n",
      "\n",
      "Epoch 6\n",
      "----------------\n",
      "loss: 2.134212 [ 2048/50000]\n",
      "Val loss: 21345.572266\n",
      "loss: 2.115614 [22528/50000]\n",
      "Val loss: 21130.880127\n",
      "loss: 2.090140 [43008/50000]\n",
      "Val loss: 20912.541504\n",
      "Test Error \n",
      " Accuracy: 50.0%, Avg loss: 2.079501\n",
      "\n",
      "Epoch 7\n",
      "----------------\n",
      "loss: 2.080786 [ 2048/50000]\n",
      "Val loss: 20804.632812\n",
      "loss: 2.061086 [22528/50000]\n",
      "Val loss: 20581.130615\n",
      "loss: 2.034806 [43008/50000]\n",
      "Val loss: 20350.162109\n",
      "Test Error \n",
      " Accuracy: 54.0%, Avg loss: 2.021819\n",
      "\n",
      "Epoch 8\n",
      "----------------\n",
      "loss: 2.024510 [ 2048/50000]\n",
      "Val loss: 20235.103516\n",
      "loss: 2.003124 [22528/50000]\n",
      "Val loss: 19996.285645\n",
      "loss: 1.975590 [43008/50000]\n",
      "Val loss: 19752.408447\n",
      "Test Error \n",
      " Accuracy: 56.5%, Avg loss: 1.960642\n",
      "\n",
      "Epoch 9\n",
      "----------------\n",
      "loss: 1.964826 [ 2048/50000]\n",
      "Val loss: 19631.927246\n",
      "loss: 1.941980 [22528/50000]\n",
      "Val loss: 19382.858154\n",
      "loss: 1.914162 [43008/50000]\n",
      "Val loss: 19129.191650\n",
      "Test Error \n",
      " Accuracy: 58.2%, Avg loss: 1.896782\n",
      "\n",
      "Epoch 10\n",
      "----------------\n",
      "loss: 1.902588 [ 2048/50000]\n",
      "Val loss: 19003.465576\n",
      "loss: 1.877845 [22528/50000]\n",
      "Val loss: 18743.252686\n",
      "loss: 1.850073 [43008/50000]\n",
      "Val loss: 18478.330566\n",
      "Test Error \n",
      " Accuracy: 60.4%, Avg loss: 1.829903\n",
      "\n",
      "Epoch 11\n",
      "----------------\n",
      "loss: 1.837517 [ 2048/50000]\n",
      "Val loss: 18346.839111\n",
      "loss: 1.810502 [22528/50000]\n",
      "Val loss: 18074.746338\n",
      "loss: 1.783056 [43008/50000]\n",
      "Val loss: 17798.498779\n",
      "Test Error \n",
      " Accuracy: 62.5%, Avg loss: 1.759959\n",
      "\n",
      "Epoch 12\n",
      "----------------\n",
      "loss: 1.769573 [ 2048/50000]\n",
      "Val loss: 17661.296631\n",
      "loss: 1.739977 [22528/50000]\n",
      "Val loss: 17378.019775\n",
      "loss: 1.713159 [43008/50000]\n",
      "Val loss: 17091.281738\n",
      "Test Error \n",
      " Accuracy: 64.2%, Avg loss: 1.687160\n",
      "\n",
      "Epoch 13\n",
      "----------------\n",
      "loss: 1.698875 [ 2048/50000]\n",
      "Val loss: 16948.820557\n",
      "loss: 1.666554 [22528/50000]\n",
      "Val loss: 16655.590088\n",
      "loss: 1.640760 [43008/50000]\n",
      "Val loss: 16360.097900\n",
      "Test Error \n",
      " Accuracy: 66.2%, Avg loss: 1.611870\n",
      "\n",
      "Epoch 14\n",
      "----------------\n",
      "loss: 1.625865 [ 2048/50000]\n",
      "Val loss: 16213.362549\n",
      "loss: 1.590967 [22528/50000]\n",
      "Val loss: 15912.901123\n",
      "loss: 1.566509 [43008/50000]\n",
      "Val loss: 15611.896973\n",
      "Test Error \n",
      " Accuracy: 68.2%, Avg loss: 1.534973\n",
      "\n",
      "Epoch 15\n",
      "----------------\n",
      "loss: 1.551172 [ 2048/50000]\n",
      "Val loss: 15462.449707\n",
      "loss: 1.514100 [22528/50000]\n",
      "Val loss: 15158.375000\n",
      "loss: 1.491278 [43008/50000]\n",
      "Val loss: 14854.528564\n",
      "Test Error \n",
      " Accuracy: 70.3%, Avg loss: 1.457221\n",
      "\n",
      "Epoch 16\n",
      "----------------\n",
      "loss: 1.475424 [ 2048/50000]\n",
      "Val loss: 14703.155518\n",
      "loss: 1.436614 [22528/50000]\n",
      "Val loss: 14396.588867\n",
      "loss: 1.415516 [43008/50000]\n",
      "Val loss: 14094.515625\n",
      "Test Error \n",
      " Accuracy: 72.2%, Avg loss: 1.379563\n",
      "\n",
      "Epoch 17\n",
      "----------------\n",
      "loss: 1.399724 [ 2048/50000]\n",
      "Val loss: 13946.622314\n",
      "loss: 1.360304 [22528/50000]\n",
      "Val loss: 13651.472900\n",
      "loss: 1.342949 [43008/50000]\n",
      "Val loss: 13364.753662\n",
      "Test Error \n",
      " Accuracy: 73.9%, Avg loss: 1.305585\n",
      "\n",
      "Epoch 18\n",
      "----------------\n",
      "loss: 1.327334 [ 2048/50000]\n",
      "Val loss: 13224.896484\n",
      "loss: 1.287975 [22528/50000]\n",
      "Val loss: 12947.213867\n",
      "loss: 1.275005 [43008/50000]\n",
      "Val loss: 12679.144287\n",
      "Test Error \n",
      " Accuracy: 75.4%, Avg loss: 1.236401\n",
      "\n",
      "Epoch 19\n",
      "----------------\n",
      "loss: 1.259460 [ 2048/50000]\n",
      "Val loss: 12548.718750\n",
      "loss: 1.220587 [22528/50000]\n",
      "Val loss: 12290.874023\n",
      "loss: 1.211992 [43008/50000]\n",
      "Val loss: 12043.049805\n",
      "Test Error \n",
      " Accuracy: 76.4%, Avg loss: 1.172456\n",
      "\n",
      "Epoch 20\n",
      "----------------\n",
      "loss: 1.196535 [ 2048/50000]\n",
      "Val loss: 11922.730713\n",
      "loss: 1.158533 [22528/50000]\n",
      "Val loss: 11685.688965\n",
      "loss: 1.154081 [43008/50000]\n",
      "Val loss: 11458.578613\n",
      "Test Error \n",
      " Accuracy: 77.3%, Avg loss: 1.113905\n",
      "\n",
      "Epoch 21\n",
      "----------------\n",
      "loss: 1.138752 [ 2048/50000]\n",
      "Val loss: 11348.459839\n",
      "loss: 1.101886 [22528/50000]\n",
      "Val loss: 11132.224121\n",
      "loss: 1.101220 [43008/50000]\n",
      "Val loss: 10925.450806\n",
      "Test Error \n",
      " Accuracy: 78.1%, Avg loss: 1.060657\n",
      "\n",
      "Epoch 22\n",
      "----------------\n",
      "loss: 1.086047 [ 2048/50000]\n",
      "Val loss: 10825.222046\n",
      "loss: 1.050475 [22528/50000]\n",
      "Val loss: 10628.935425\n",
      "loss: 1.053184 [43008/50000]\n",
      "Val loss: 10441.410156\n",
      "Test Error \n",
      " Accuracy: 79.1%, Avg loss: 1.012439\n",
      "\n",
      "Epoch 23\n",
      "----------------\n",
      "loss: 1.038183 [ 2048/50000]\n",
      "Val loss: 10350.468140\n",
      "loss: 1.003977 [22528/50000]\n",
      "Val loss: 10172.766968\n",
      "loss: 1.009638 [43008/50000]\n",
      "Val loss: 10002.998657\n",
      "Test Error \n",
      " Accuracy: 79.9%, Avg loss: 0.968876\n",
      "\n",
      "Epoch 24\n",
      "----------------\n",
      "loss: 0.994822 [ 2048/50000]\n",
      "Val loss: 9920.654907\n",
      "loss: 0.961970 [22528/50000]\n",
      "Val loss: 9759.890259\n",
      "loss: 0.970202 [43008/50000]\n",
      "Val loss: 9606.290161\n",
      "Test Error \n",
      " Accuracy: 80.4%, Avg loss: 0.929540\n",
      "\n",
      "Epoch 25\n",
      "----------------\n",
      "loss: 0.955565 [ 2048/50000]\n",
      "Val loss: 9531.717407\n",
      "loss: 0.924017 [22528/50000]\n",
      "Val loss: 9386.223267\n",
      "loss: 0.934470 [43008/50000]\n",
      "Val loss: 9247.110107\n",
      "Test Error \n",
      " Accuracy: 80.8%, Avg loss: 0.893994\n",
      "\n",
      "Epoch 26\n",
      "----------------\n",
      "loss: 0.920000 [ 2048/50000]\n",
      "Val loss: 9179.489014\n",
      "loss: 0.889679 [22528/50000]\n",
      "Val loss: 9047.651733\n",
      "loss: 0.902052 [43008/50000]\n",
      "Val loss: 8921.473511\n",
      "Test Error \n",
      " Accuracy: 81.2%, Avg loss: 0.861823\n",
      "\n",
      "Epoch 27\n",
      "----------------\n",
      "loss: 0.887744 [ 2048/50000]\n",
      "Val loss: 8860.069946\n",
      "loss: 0.858560 [22528/50000]\n",
      "Val loss: 8740.390503\n",
      "loss: 0.872590 [43008/50000]\n",
      "Val loss: 8625.683105\n",
      "Test Error \n",
      " Accuracy: 81.7%, Avg loss: 0.832642\n",
      "\n",
      "Epoch 28\n",
      "----------------\n",
      "loss: 0.858423 [ 2048/50000]\n",
      "Val loss: 8569.801636\n",
      "loss: 0.830294 [22528/50000]\n",
      "Val loss: 8460.868408\n",
      "loss: 0.845751 [43008/50000]\n",
      "Val loss: 8356.317627\n",
      "Test Error \n",
      " Accuracy: 82.0%, Avg loss: 0.806102\n",
      "\n",
      "Epoch 29\n",
      "----------------\n",
      "loss: 0.831702 [ 2048/50000]\n",
      "Val loss: 8305.304199\n",
      "loss: 0.804542 [22528/50000]\n",
      "Val loss: 8205.886597\n",
      "loss: 0.821234 [43008/50000]\n",
      "Val loss: 8110.342285\n",
      "Test Error \n",
      " Accuracy: 82.3%, Avg loss: 0.781895\n",
      "\n",
      "Epoch 30\n",
      "----------------\n",
      "loss: 0.807281 [ 2048/50000]\n",
      "Val loss: 8063.650635\n",
      "loss: 0.781011 [22528/50000]\n",
      "Val loss: 7972.659302\n",
      "loss: 0.798775 [43008/50000]\n",
      "Val loss: 7885.100952\n",
      "Test Error \n",
      " Accuracy: 82.5%, Avg loss: 0.759751\n",
      "\n",
      "Epoch 31\n",
      "----------------\n",
      "loss: 0.784902 [ 2048/50000]\n",
      "Val loss: 7842.230469\n",
      "loss: 0.759447 [22528/50000]\n",
      "Val loss: 7758.717041\n",
      "loss: 0.778144 [43008/50000]\n",
      "Val loss: 7678.216431\n",
      "Test Error \n",
      " Accuracy: 82.8%, Avg loss: 0.739435\n",
      "\n",
      "Epoch 32\n",
      "----------------\n",
      "loss: 0.764334 [ 2048/50000]\n",
      "Val loss: 7638.729492\n",
      "loss: 0.739621 [22528/50000]\n",
      "Val loss: 7561.817871\n",
      "loss: 0.759134 [43008/50000]\n",
      "Val loss: 7487.593506\n",
      "Test Error \n",
      " Accuracy: 83.0%, Avg loss: 0.720736\n",
      "\n",
      "Epoch 33\n",
      "----------------\n",
      "loss: 0.745371 [ 2048/50000]\n",
      "Val loss: 7451.114136\n",
      "loss: 0.721339 [22528/50000]\n",
      "Val loss: 7380.087036\n",
      "loss: 0.741567 [43008/50000]\n",
      "Val loss: 7311.445435\n",
      "Test Error \n",
      " Accuracy: 83.3%, Avg loss: 0.703475\n",
      "\n",
      "Epoch 34\n",
      "----------------\n",
      "loss: 0.727838 [ 2048/50000]\n",
      "Val loss: 7277.657104\n",
      "loss: 0.704429 [22528/50000]\n",
      "Val loss: 7211.878784\n",
      "loss: 0.725296 [43008/50000]\n",
      "Val loss: 7148.223877\n",
      "Test Error \n",
      " Accuracy: 83.5%, Avg loss: 0.687493\n",
      "\n",
      "Epoch 35\n",
      "----------------\n",
      "loss: 0.711589 [ 2048/50000]\n",
      "Val loss: 7116.846069\n",
      "loss: 0.688745 [22528/50000]\n",
      "Val loss: 7055.749146\n",
      "loss: 0.710184 [43008/50000]\n",
      "Val loss: 6996.565552\n",
      "Test Error \n",
      " Accuracy: 83.9%, Avg loss: 0.672654\n",
      "\n",
      "Epoch 36\n",
      "----------------\n",
      "loss: 0.696480 [ 2048/50000]\n",
      "Val loss: 6967.340698\n",
      "loss: 0.674152 [22528/50000]\n",
      "Val loss: 6910.439819\n",
      "loss: 0.696104 [43008/50000]\n",
      "Val loss: 6855.267212\n",
      "Test Error \n",
      " Accuracy: 84.0%, Avg loss: 0.658841\n",
      "\n",
      "Epoch 37\n",
      "----------------\n",
      "loss: 0.682401 [ 2048/50000]\n",
      "Val loss: 6827.976807\n",
      "loss: 0.660539 [22528/50000]\n",
      "Val loss: 6774.857666\n",
      "loss: 0.682952 [43008/50000]\n",
      "Val loss: 6723.281860\n",
      "Test Error \n",
      " Accuracy: 84.1%, Avg loss: 0.645949\n",
      "\n",
      "Epoch 38\n",
      "----------------\n",
      "loss: 0.669252 [ 2048/50000]\n",
      "Val loss: 6697.710815\n",
      "loss: 0.647809 [22528/50000]\n",
      "Val loss: 6647.995361\n",
      "loss: 0.670640 [43008/50000]\n",
      "Val loss: 6599.682983\n",
      "Test Error \n",
      " Accuracy: 84.3%, Avg loss: 0.633889\n",
      "\n",
      "Epoch 39\n",
      "----------------\n",
      "loss: 0.656938 [ 2048/50000]\n",
      "Val loss: 6575.671753\n",
      "loss: 0.635873 [22528/50000]\n",
      "Val loss: 6529.026489\n",
      "loss: 0.659088 [43008/50000]\n",
      "Val loss: 6483.668579\n",
      "Test Error \n",
      " Accuracy: 84.4%, Avg loss: 0.622576\n",
      "\n",
      "Epoch 40\n",
      "----------------\n",
      "loss: 0.645376 [ 2048/50000]\n",
      "Val loss: 6461.065430\n",
      "loss: 0.624656 [22528/50000]\n",
      "Val loss: 6417.203613\n",
      "loss: 0.648231 [43008/50000]\n",
      "Val loss: 6374.516846\n",
      "Test Error \n",
      " Accuracy: 84.6%, Avg loss: 0.611944\n",
      "\n",
      "Epoch 41\n",
      "----------------\n",
      "loss: 0.634501 [ 2048/50000]\n",
      "Val loss: 6353.196411\n",
      "loss: 0.614095 [22528/50000]\n",
      "Val loss: 6311.869507\n",
      "loss: 0.638000 [43008/50000]\n",
      "Val loss: 6271.622681\n",
      "Test Error \n",
      " Accuracy: 84.8%, Avg loss: 0.601928\n",
      "\n",
      "Epoch 42\n",
      "----------------\n",
      "loss: 0.624249 [ 2048/50000]\n",
      "Val loss: 6251.466675\n",
      "loss: 0.604129 [22528/50000]\n",
      "Val loss: 6212.436035\n",
      "loss: 0.628338 [43008/50000]\n",
      "Val loss: 6174.406494\n",
      "Test Error \n",
      " Accuracy: 85.0%, Avg loss: 0.592469\n",
      "\n",
      "Epoch 43\n",
      "----------------\n",
      "loss: 0.614562 [ 2048/50000]\n",
      "Val loss: 6155.301147\n",
      "loss: 0.594704 [22528/50000]\n",
      "Val loss: 6118.377197\n",
      "loss: 0.619194 [43008/50000]\n",
      "Val loss: 6082.385498\n",
      "Test Error \n",
      " Accuracy: 85.2%, Avg loss: 0.583523\n",
      "\n",
      "Epoch 44\n",
      "----------------\n",
      "loss: 0.605392 [ 2048/50000]\n",
      "Val loss: 6064.249390\n",
      "loss: 0.585773 [22528/50000]\n",
      "Val loss: 6029.252563\n",
      "loss: 0.610524 [43008/50000]\n",
      "Val loss: 5995.117188\n",
      "Test Error \n",
      " Accuracy: 85.3%, Avg loss: 0.575047\n",
      "\n",
      "Epoch 45\n",
      "----------------\n",
      "loss: 0.596699 [ 2048/50000]\n",
      "Val loss: 5977.873291\n",
      "loss: 0.577293 [22528/50000]\n",
      "Val loss: 5944.647461\n",
      "loss: 0.602291 [43008/50000]\n",
      "Val loss: 5912.227295\n",
      "Test Error \n",
      " Accuracy: 85.5%, Avg loss: 0.567002\n",
      "\n",
      "Epoch 46\n",
      "----------------\n",
      "loss: 0.588442 [ 2048/50000]\n",
      "Val loss: 5895.802979\n",
      "loss: 0.569229 [22528/50000]\n",
      "Val loss: 5864.205811\n",
      "loss: 0.594462 [43008/50000]\n",
      "Val loss: 5833.366577\n",
      "Test Error \n",
      " Accuracy: 85.7%, Avg loss: 0.559354\n",
      "\n",
      "Epoch 47\n",
      "----------------\n",
      "loss: 0.580588 [ 2048/50000]\n",
      "Val loss: 5817.706970\n",
      "loss: 0.561549 [22528/50000]\n",
      "Val loss: 5787.608826\n",
      "loss: 0.587005 [43008/50000]\n",
      "Val loss: 5758.238464\n",
      "Test Error \n",
      " Accuracy: 85.9%, Avg loss: 0.552070\n",
      "\n",
      "Epoch 48\n",
      "----------------\n",
      "loss: 0.573105 [ 2048/50000]\n",
      "Val loss: 5743.275208\n",
      "loss: 0.554221 [22528/50000]\n",
      "Val loss: 5714.560303\n",
      "loss: 0.579889 [43008/50000]\n",
      "Val loss: 5686.543213\n",
      "Test Error \n",
      " Accuracy: 86.0%, Avg loss: 0.545123\n",
      "\n",
      "Epoch 49\n",
      "----------------\n",
      "loss: 0.565964 [ 2048/50000]\n",
      "Val loss: 5672.227295\n",
      "loss: 0.547222 [22528/50000]\n",
      "Val loss: 5644.803711\n",
      "loss: 0.573091 [43008/50000]\n",
      "Val loss: 5618.044983\n",
      "Test Error \n",
      " Accuracy: 86.1%, Avg loss: 0.538492\n",
      "\n",
      "Epoch 50\n",
      "----------------\n",
      "loss: 0.559141 [ 2048/50000]\n",
      "Val loss: 5604.328613\n",
      "loss: 0.540525 [22528/50000]\n",
      "Val loss: 5578.104919\n",
      "loss: 0.566593 [43008/50000]\n",
      "Val loss: 5552.510315\n",
      "Test Error \n",
      " Accuracy: 86.3%, Avg loss: 0.532151\n",
      "\n",
      "done!\n"
     ]
    }
   ],
   "source": [
    "model = NeuralNetwork()\n",
    "\n",
    "learning_rate = 1e-2 # how much to update model parameters at each epoch. Speed of learning\n",
    "epochs = 50 # number of times to iterate over dataset\n",
    "\n",
    "loss_fn = nn.CrossEntropyLoss()\n",
    "optimizer = torch.optim.SGD(model.parameters(), lr=learning_rate) # make sure model is the right instance\n",
    "test_df = pd.DataFrame(index=np.arange(epochs), columns=['test_err', 'test_loss'])\n",
    "test_df.index.name = 'epoch'\n",
    "train_losses_epoch = dict()\n",
    "val_losses_epoch = dict()\n",
    "for i, t in enumerate(range(epochs)):\n",
    "    print(f\"Epoch {t+1}\\n----------------\")\n",
    "    train_losses, val_losses = train_loop(train_dataloader, model, loss_fn, optimizer, val_dataloader)\n",
    "    train_losses_epoch[i] = train_losses\n",
    "    val_losses_epoch[i] = val_losses\n",
    "    \n",
    "    test_err, test_loss = test_loop(test_dataloader, model, loss_fn)\n",
    "    test_df.loc[i] = [test_err, test_loss]\n",
    "\n",
    "print(\"done!\")\n",
    "\n",
    "torch.save(model, model_pth)"
   ]
  },
  {
   "cell_type": "code",
   "execution_count": 270,
   "id": "b1865736-031f-477f-b1e3-a4b7a5764a66",
   "metadata": {},
   "outputs": [
    {
     "data": {
      "text/html": [
       "<div>\n",
       "<style scoped>\n",
       "    .dataframe tbody tr th:only-of-type {\n",
       "        vertical-align: middle;\n",
       "    }\n",
       "\n",
       "    .dataframe tbody tr th {\n",
       "        vertical-align: top;\n",
       "    }\n",
       "\n",
       "    .dataframe thead th {\n",
       "        text-align: right;\n",
       "    }\n",
       "</style>\n",
       "<table border=\"1\" class=\"dataframe\">\n",
       "  <thead>\n",
       "    <tr style=\"text-align: right;\">\n",
       "      <th></th>\n",
       "      <th>test_err</th>\n",
       "      <th>test_loss</th>\n",
       "    </tr>\n",
       "    <tr>\n",
       "      <th>epoch</th>\n",
       "      <th></th>\n",
       "      <th></th>\n",
       "    </tr>\n",
       "  </thead>\n",
       "  <tbody>\n",
       "    <tr>\n",
       "      <th>0</th>\n",
       "      <td>0.099</td>\n",
       "      <td>2.291822</td>\n",
       "    </tr>\n",
       "    <tr>\n",
       "      <th>1</th>\n",
       "      <td>0.1073</td>\n",
       "      <td>2.263831</td>\n",
       "    </tr>\n",
       "    <tr>\n",
       "      <th>2</th>\n",
       "      <td>0.1798</td>\n",
       "      <td>2.22879</td>\n",
       "    </tr>\n",
       "    <tr>\n",
       "      <th>3</th>\n",
       "      <td>0.3352</td>\n",
       "      <td>2.184649</td>\n",
       "    </tr>\n",
       "    <tr>\n",
       "      <th>4</th>\n",
       "      <td>0.4308</td>\n",
       "      <td>2.134073</td>\n",
       "    </tr>\n",
       "  </tbody>\n",
       "</table>\n",
       "</div>"
      ],
      "text/plain": [
       "      test_err test_loss\n",
       "epoch                   \n",
       "0        0.099  2.291822\n",
       "1       0.1073  2.263831\n",
       "2       0.1798   2.22879\n",
       "3       0.3352  2.184649\n",
       "4       0.4308  2.134073"
      ]
     },
     "execution_count": 270,
     "metadata": {},
     "output_type": "execute_result"
    }
   ],
   "source": [
    "test_df.head()"
   ]
  },
  {
   "cell_type": "code",
   "execution_count": 316,
   "id": "0d1e1fc3-b02a-4bc2-9367-e19b05a91386",
   "metadata": {},
   "outputs": [
    {
     "data": {
      "image/png": "[encoded data removed]",
      "text/plain": [
       "<Figure size 640x480 with 1 Axes>"
      ]
     },
     "metadata": {},
     "output_type": "display_data"
    }
   ],
   "source": [
    "sns.scatterplot(test_df.reset_index(), x='epoch', y='test_err') \n",
    "plt.show()"
   ]
  },
  {
   "cell_type": "code",
   "execution_count": 293,
   "id": "16a0b3f3-05dd-4928-a103-831bf10275fa",
   "metadata": {},
   "outputs": [],
   "source": [
    "training_losses_df = pd.DataFrame(train_losses_epoch).T\n",
    "training_losses_df.columns.name = 'batch'\n",
    "training_losses_df.index.name = 'epoch'\n",
    "\n",
    "val_losses_df = pd.DataFrame(val_losses_epoch).T\n",
    "val_losses_df.columns.name = 'batch'\n",
    "val_losses_df.index.name = 'epoch'"
   ]
  },
  {
   "cell_type": "code",
   "execution_count": 299,
   "id": "9404f82d-ea57-434f-baab-eedb9105a207",
   "metadata": {},
   "outputs": [],
   "source": [
    "stack_training_losses_df = training_losses_df.stack().reset_index().rename(columns={0: 'loss'})\n",
    "stack_training_losses_df.index = stack_training_losses_df['epoch'].astype(str) + '-' + stack_training_losses_df['batch'].astype(str)\n",
    "stack_training_losses_df.index.name = 'index'\n",
    "stack_val_losses_df = val_losses_df.stack().reset_index().rename(columns={0: 'loss'})\n",
    "stack_val_losses_df.index = stack_val_losses_df['epoch'].astype(str) + '-' + stack_val_losses_df['batch'].astype(str)\n",
    "stack_val_losses_df.index.name = 'index'"
   ]
  },
  {
   "cell_type": "code",
   "execution_count": 315,
   "id": "33872f87-55c7-4d45-95e8-af551d485936",
   "metadata": {},
   "outputs": [
    {
     "data": {
      "text/html": [
       "<div>\n",
       "<style scoped>\n",
       "    .dataframe tbody tr th:only-of-type {\n",
       "        vertical-align: middle;\n",
       "    }\n",
       "\n",
       "    .dataframe tbody tr th {\n",
       "        vertical-align: top;\n",
       "    }\n",
       "\n",
       "    .dataframe thead th {\n",
       "        text-align: right;\n",
       "    }\n",
       "</style>\n",
       "<table border=\"1\" class=\"dataframe\">\n",
       "  <thead>\n",
       "    <tr style=\"text-align: right;\">\n",
       "      <th></th>\n",
       "      <th>epoch</th>\n",
       "      <th>batch</th>\n",
       "      <th>loss</th>\n",
       "    </tr>\n",
       "    <tr>\n",
       "      <th>index</th>\n",
       "      <th></th>\n",
       "      <th></th>\n",
       "      <th></th>\n",
       "    </tr>\n",
       "  </thead>\n",
       "  <tbody>\n",
       "    <tr>\n",
       "      <th>0-0</th>\n",
       "      <td>0</td>\n",
       "      <td>0</td>\n",
       "      <td>2.324311</td>\n",
       "    </tr>\n",
       "    <tr>\n",
       "      <th>0-10</th>\n",
       "      <td>0</td>\n",
       "      <td>10</td>\n",
       "      <td>2.309724</td>\n",
       "    </tr>\n",
       "    <tr>\n",
       "      <th>0-20</th>\n",
       "      <td>0</td>\n",
       "      <td>20</td>\n",
       "      <td>2.297439</td>\n",
       "    </tr>\n",
       "    <tr>\n",
       "      <th>1-0</th>\n",
       "      <td>1</td>\n",
       "      <td>0</td>\n",
       "      <td>2.291998</td>\n",
       "    </tr>\n",
       "    <tr>\n",
       "      <th>1-10</th>\n",
       "      <td>1</td>\n",
       "      <td>10</td>\n",
       "      <td>2.281328</td>\n",
       "    </tr>\n",
       "  </tbody>\n",
       "</table>\n",
       "</div>"
      ],
      "text/plain": [
       "       epoch  batch      loss\n",
       "index                        \n",
       "0-0        0      0  2.324311\n",
       "0-10       0     10  2.309724\n",
       "0-20       0     20  2.297439\n",
       "1-0        1      0  2.291998\n",
       "1-10       1     10  2.281328"
      ]
     },
     "execution_count": 315,
     "metadata": {},
     "output_type": "execute_result"
    }
   ],
   "source": [
    "stack_val_losses_df.head()"
   ]
  },
  {
   "cell_type": "code",
   "execution_count": 314,
   "id": "9502c716-a225-4f8d-a210-411033516ad6",
   "metadata": {},
   "outputs": [
    {
     "data": {
      "image/png": "[encoded data removed]",
      "text/plain": [
       "<Figure size 640x480 with 1 Axes>"
      ]
     },
     "metadata": {},
     "output_type": "display_data"
    }
   ],
   "source": [
    "sns.scatterplot(stack_training_losses_df.reset_index(), x='index', y='loss', s=1, label='Training loss', alpha=0.5, c='gray')\n",
    "sns.scatterplot(stack_val_losses_df.reset_index(), x='index', y='loss', s=2, label='Validation loss', c='red')\n",
    "plt.xticks([])\n",
    "plt.xlabel('Training and validation epoch/batch')\n",
    "plt.show()"
   ]
  },
  {
   "cell_type": "markdown",
   "id": "8a173281-9405-47a6-84fc-39422583d01a",
   "metadata": {},
   "source": [
    "**TODO**: \n",
    "- Play with learning rate\n",
    "- Train and test on same dataset\n",
    "- draw your own digit"
   ]
  },
  {
   "cell_type": "markdown",
   "id": "84b01c27-7bf9-4e17-ab80-3beb4f024551",
   "metadata": {},
   "source": [
    "## Test Model"
   ]
  },
  {
   "cell_type": "code",
   "execution_count": 332,
   "id": "f70fc7a1-b580-4fc1-ab07-3e82dda02a84",
   "metadata": {},
   "outputs": [],
   "source": [
    "loaded_model = torch.load(model_pth)"
   ]
  },
  {
   "cell_type": "code",
   "execution_count": 343,
   "id": "df6ff47f-b6d5-47ce-b96e-83b1fdd9b8e7",
   "metadata": {},
   "outputs": [],
   "source": [
    "with torch.no_grad():\n",
    "    loaded_model.eval() # not training\n",
    "    ys = []\n",
    "    pred_ys = []\n",
    "    for X, y in test_dataloader:\n",
    "        pred_y = loaded_model(X)\n",
    "        ys.append(y)\n",
    "        pred_ys.append(torch.argmax(pred_y, axis=1))\n",
    "\n",
    "ys = torch.cat(ys)\n",
    "pred_ys = torch.cat(pred_ys)"
   ]
  },
  {
   "cell_type": "code",
   "execution_count": 344,
   "id": "9f1dfef7-447c-402e-b4b3-ea6dece80da5",
   "metadata": {},
   "outputs": [
    {
     "data": {
      "text/plain": [
       "tensor([7, 2, 1,  ..., 4, 5, 6])"
      ]
     },
     "execution_count": 344,
     "metadata": {},
     "output_type": "execute_result"
    }
   ],
   "source": [
    "ys"
   ]
  },
  {
   "cell_type": "code",
   "execution_count": 345,
   "id": "9420030b-f206-46dd-b791-b3fbb3eaa817",
   "metadata": {},
   "outputs": [
    {
     "data": {
      "text/plain": [
       "tensor([7, 2, 1,  ..., 4, 8, 6])"
      ]
     },
     "execution_count": 345,
     "metadata": {},
     "output_type": "execute_result"
    }
   ],
   "source": [
    "pred_ys"
   ]
  },
  {
   "cell_type": "code",
   "execution_count": 346,
   "id": "ffcd53ec-0584-4431-9935-d3c57372f751",
   "metadata": {},
   "outputs": [
    {
     "name": "stdout",
     "output_type": "stream",
     "text": [
      "Accuracy: 0.8627\n"
     ]
    }
   ],
   "source": [
    "print(f\"Accuracy: {metrics.accuracy_score(y_true=ys, y_pred=pred_ys)}\")"
   ]
  },
  {
   "cell_type": "code",
   "execution_count": 359,
   "id": "72427cd4-56d2-4f99-bd02-69d59cf49c79",
   "metadata": {},
   "outputs": [
    {
     "data": {
      "image/png": "[encoded data removed]",
      "text/plain": [
       "<Figure size 2500x500 with 5 Axes>"
      ]
     },
     "metadata": {},
     "output_type": "display_data"
    }
   ],
   "source": [
    "correct_idx = np.where(ys == pred_ys)[0]\n",
    "display_idx = correct_idx[np.random.randint(len(correct_idx), size=5)]\n",
    "num_subplots = len(display_idx)\n",
    "height = 5\n",
    "fig, axes = plt.subplots(1, num_subplots, figsize=(num_subplots * height, height))\n",
    "for i, di in enumerate(display_idx):\n",
    "    axes[i].imshow(test_data.data[di], cmap='gray') # normalized\n",
    "    axes[i].set_title(f\"Predicted: {pred_ys[di]}, Expected: {ys[di]}\")\n",
    "plt.show()"
   ]
  },
  {
   "cell_type": "code",
   "execution_count": 360,
   "id": "3de70f04-2816-4e30-be0c-9898d2019289",
   "metadata": {},
   "outputs": [
    {
     "data": {
      "image/png": "[encoded data removed]",
      "text/plain": [
       "<Figure size 2500x500 with 5 Axes>"
      ]
     },
     "metadata": {},
     "output_type": "display_data"
    }
   ],
   "source": [
    "incorrect_idx = np.where(ys != pred_ys)[0]\n",
    "display_idx = incorrect_idx[np.random.randint(len(incorrect_idx), size=5)]\n",
    "num_subplots = len(display_idx)\n",
    "height = 5\n",
    "fig, axes = plt.subplots(1, num_subplots, figsize=(num_subplots * height, height))\n",
    "for i, di in enumerate(display_idx):\n",
    "    axes[i].imshow(test_data.data[di], cmap='gray') # normalized\n",
    "    axes[i].set_title(f\"Predicted: {pred_ys[di]}, Expected: {ys[di]}\")\n",
    "plt.show()"
   ]
  },
  {
   "cell_type": "code",
   "execution_count": 361,
   "id": "51a52173-b793-41f8-8439-784f2a8d67cc",
   "metadata": {},
   "outputs": [],
   "source": [
    "confusion_matrix = metrics.confusion_matrix(y_true=ys, y_pred=pred_ys, labels=np.arange(10))"
   ]
  },
  {
   "cell_type": "code",
   "execution_count": 362,
   "id": "047de2b7-19f7-4533-8259-168fbcbc0636",
   "metadata": {},
   "outputs": [
    {
     "data": {
      "image/png": "[encoded data removed]",
      "text/plain": [
       "<Figure size 640x480 with 2 Axes>"
      ]
     },
     "metadata": {},
     "output_type": "display_data"
    }
   ],
   "source": [
    "disp = metrics.ConfusionMatrixDisplay(confusion_matrix, display_labels=np.arange(10))\n",
    "disp.plot()\n",
    "plt.show()"
   ]
  },
  {
   "cell_type": "code",
   "execution_count": null,
   "id": "473e8651-e59a-4894-a441-5ab3797dcb38",
   "metadata": {},
   "outputs": [],
   "source": []
  }
 ],
 "metadata": {
  "kernelspec": {
   "display_name": "Python [conda env:klab_rotation_env]",
   "language": "python",
   "name": "conda-env-klab_rotation_env-py"
  },
  "language_info": {
   "codemirror_mode": {
    "name": "ipython",
    "version": 3
   },
   "file_extension": ".py",
   "mimetype": "text/x-python",
   "name": "python",
   "nbconvert_exporter": "python",
   "pygments_lexer": "ipython3",
   "version": "3.11.0"
  }
 },
 "nbformat": 4,
 "nbformat_minor": 5
}
