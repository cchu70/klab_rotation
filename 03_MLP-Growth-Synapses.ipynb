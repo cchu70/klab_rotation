{
 "cells": [
  {
   "cell_type": "markdown",
   "id": "9d757789-efbf-4d57-8ff4-98a326adbefa",
   "metadata": {},
   "source": [
    "# 03_MLP-Growth-Synapses\n",
    "\n",
    "Decision to grow or prune. For $d \\sim \\text{Bern}(\\epsilon_i)$. We set a priori the number of training cycles $n$. So we set $\\epsilon_i = \\epsilon_{i - 1} - 1/n$\n",
    "\n",
    "$$A_i = \\begin{cases}\n",
    "\\text{RandExpand}(A_{i-1}) & d=0 \\\\\n",
    "\\text{ActivityPrune}(A_{i-1}) & d=1 \\\\\n",
    "\\end{cases}$$\n",
    "\n",
    "Hypter parameter $\\gamma$ to control grow and pruning.\n",
    "$$|\\text{RandExpand}(A_{i})| = |A_{i - 1}| + \\gamma$$\n",
    "$$|\\text{ActivityPrune}(A_{i})| = |A_{i - 1}| - \\gamma$$\n",
    "\n",
    "The idea is to create an tensor attribute for the $D$ matrix. In the original text, Stothers describes using $D$ such that 1 refers to a dead neuron, and 0 for an alive one. I will change this tensor to $A$ for active. This way, 1 is alive and 0 is dead. Thus, the new forward step is:\n",
    "\n",
    "$$y = a \\cdot w \\cdot x + b$$\n",
    "$$Y = (A * W)X + \\beta$$\n",
    "\n",
    "Where $*$ is element wise multiplication. If $a_{i,j}$ is 0, then $dL/dw = a * x = 0 * x = 0$, so no updates will be made."
   ]
  },
  {
   "cell_type": "code",
   "execution_count": null,
   "id": "214b5d2c-cf88-44d2-ae22-6989303e7fca",
   "metadata": {},
   "outputs": [],
   "source": []
  },
  {
   "cell_type": "code",
   "execution_count": null,
   "id": "f7b73adf-eb1c-4110-ae8f-4e940140aa02",
   "metadata": {},
   "outputs": [],
   "source": []
  }
 ],
 "metadata": {
  "kernelspec": {
   "display_name": "Python [conda env:klab_rotation_env]",
   "language": "python",
   "name": "conda-env-klab_rotation_env-py"
  },
  "language_info": {
   "codemirror_mode": {
    "name": "ipython",
    "version": 3
   },
   "file_extension": ".py",
   "mimetype": "text/x-python",
   "name": "python",
   "nbconvert_exporter": "python",
   "pygments_lexer": "ipython3",
   "version": "3.11.0"
  }
 },
 "nbformat": 4,
 "nbformat_minor": 5
}
