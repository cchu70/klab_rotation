{
 "cells": [
  {
   "cell_type": "markdown",
   "id": "eeec75cf-a5ea-47cd-a7d0-dc1030fca7c5",
   "metadata": {},
   "source": [
    "# 05_mini-AlexNet-train"
   ]
  },
  {
   "cell_type": "code",
   "execution_count": 1,
   "id": "df273c80-08b2-4b87-a353-6b1718d11aad",
   "metadata": {},
   "outputs": [],
   "source": [
    "%load_ext autoreload\n",
    "%autoreload 2"
   ]
  },
  {
   "cell_type": "code",
   "execution_count": 2,
   "id": "f0c5a20c-c20f-47d3-8daa-633bb64e73d5",
   "metadata": {},
   "outputs": [],
   "source": [
    "import numpy as np\n",
    "import torch\n",
    "import torch.nn as nn\n",
    "import tqdm\n",
    "\n",
    "device = torch.device('cuda' if torch.cuda.is_available() else 'cpu')"
   ]
  },
  {
   "cell_type": "code",
   "execution_count": 3,
   "id": "177f0bf5-52a2-44e6-a7a2-c3c7cb00e765",
   "metadata": {},
   "outputs": [],
   "source": [
    "import matplotlib.pyplot as plt\n",
    "from  matplotlib.colors import TwoSlopeNorm\n",
    "import torch.nn.functional as F\n",
    "from scipy.stats import bernoulli"
   ]
  },
  {
   "cell_type": "code",
   "execution_count": 4,
   "id": "a97766b6-15aa-4974-8e24-46739e5a356a",
   "metadata": {},
   "outputs": [],
   "source": [
    "from src.CNN_pruning import PruneNet"
   ]
  },
  {
   "cell_type": "markdown",
   "id": "5c0a97e8-d8bd-4ea0-942f-905d18ad40ea",
   "metadata": {},
   "source": [
    "# Data"
   ]
  },
  {
   "cell_type": "code",
   "execution_count": 5,
   "id": "03f72f39-721d-47ac-8e56-87aed2fb1b58",
   "metadata": {},
   "outputs": [],
   "source": [
    "from src.load_CIFAR10 import get_train_valid_loader, get_test_loader"
   ]
  },
  {
   "cell_type": "code",
   "execution_count": 6,
   "id": "6166af30-c8b4-4627-88b3-3451c3ddaca7",
   "metadata": {},
   "outputs": [
    {
     "name": "stdout",
     "output_type": "stream",
     "text": [
      "Files already downloaded and verified\n",
      "Files already downloaded and verified\n"
     ]
    }
   ],
   "source": [
    "train_loader, valid_loader = get_train_valid_loader(\n",
    "    data_dir='./data/', batch_size=128, random_seed=1, \n",
    "    augment=False, download=True, subsample_frac=0.10\n",
    ")"
   ]
  },
  {
   "cell_type": "code",
   "execution_count": 7,
   "id": "54d9d606-ec00-4c4b-966a-60e080831954",
   "metadata": {},
   "outputs": [
    {
     "name": "stdout",
     "output_type": "stream",
     "text": [
      "Files already downloaded and verified\n"
     ]
    }
   ],
   "source": [
    "test_loader = get_test_loader(data_dir='./data', batch_size=128)"
   ]
  },
  {
   "cell_type": "markdown",
   "id": "c746b38e-c041-46cb-a14e-5d0cf75140af",
   "metadata": {},
   "source": [
    "# Train"
   ]
  },
  {
   "cell_type": "code",
   "execution_count": 9,
   "id": "95b8918e-fcee-4c2b-9d2a-434a5663e1f8",
   "metadata": {},
   "outputs": [],
   "source": [
    "num_classes = 10 # output number of classes\n",
    "num_epochs = 20  # number of total training loops?\n",
    "# batch_size = 128  # how much data to train on at a time\n",
    "learning_rate = 0.005 # SGD step size. Scheduler with 0.1 for 0-100, 0.01 for 100-200, and 0.001 for 200 to 250\n",
    "\n",
    "model = PruneNet(num_training_iter=num_epochs, num_classes=num_classes, verbose=False).to(device)\n",
    "\n",
    "# loss and optimizer\n",
    "criterion = nn.CrossEntropyLoss()\n",
    "optimizer = torch.optim.SGD(\n",
    "    model.parameters(), \n",
    "    lr=learning_rate, \n",
    ")\n",
    "\n",
    "# TODO: what is weight_decay and momentum?\n",
    "\n",
    "total_step = len(train_loader)"
   ]
  },
  {
   "cell_type": "code",
   "execution_count": 383,
   "id": "883a3d9c-d858-4b0d-96e5-5410aa5d4a56",
   "metadata": {},
   "outputs": [
    {
     "name": "stderr",
     "output_type": "stream",
     "text": [
      "Epoch 0 Training: 100%|███████████████████████████████████████████████████████████████████████████████████████████████████████| 36/36 [00:08<00:00,  4.22it/s]\n"
     ]
    },
    {
     "name": "stdout",
     "output_type": "stream",
     "text": [
      "Epoch [1/20], Average Training Loss: 2.9580\n",
      "Average Val loss: 2.020741\n",
      "Accuracy of network on validation images: 28.6%\n"
     ]
    },
    {
     "name": "stderr",
     "output_type": "stream",
     "text": [
      "Epoch 1 Training: 100%|███████████████████████████████████████████████████████████████████████████████████████████████████████| 36/36 [00:07<00:00,  4.53it/s]\n"
     ]
    },
    {
     "name": "stdout",
     "output_type": "stream",
     "text": [
      "Epoch [2/20], Average Training Loss: 2.3840\n",
      "Average Val loss: 1.936081\n",
      "Accuracy of network on validation images: 30.6%\n"
     ]
    },
    {
     "name": "stderr",
     "output_type": "stream",
     "text": [
      "Epoch 2 Training: 100%|███████████████████████████████████████████████████████████████████████████████████████████████████████| 36/36 [00:07<00:00,  4.88it/s]\n"
     ]
    },
    {
     "name": "stdout",
     "output_type": "stream",
     "text": [
      "Epoch [3/20], Average Training Loss: 2.2346\n",
      "Average Val loss: 1.912420\n",
      "Accuracy of network on validation images: 32.0%\n"
     ]
    },
    {
     "name": "stderr",
     "output_type": "stream",
     "text": [
      "Epoch 3 Training: 100%|███████████████████████████████████████████████████████████████████████████████████████████████████████| 36/36 [00:07<00:00,  4.91it/s]\n"
     ]
    },
    {
     "name": "stdout",
     "output_type": "stream",
     "text": [
      "Epoch [4/20], Average Training Loss: 2.1472\n",
      "Average Val loss: 1.901748\n",
      "Accuracy of network on validation images: 31.2%\n"
     ]
    },
    {
     "name": "stderr",
     "output_type": "stream",
     "text": [
      "Epoch 4 Training: 100%|███████████████████████████████████████████████████████████████████████████████████████████████████████| 36/36 [00:07<00:00,  4.96it/s]\n"
     ]
    },
    {
     "name": "stdout",
     "output_type": "stream",
     "text": [
      "Epoch [5/20], Average Training Loss: 2.0797\n",
      "Average Val loss: 1.863315\n",
      "Accuracy of network on validation images: 34.4%\n"
     ]
    },
    {
     "name": "stderr",
     "output_type": "stream",
     "text": [
      "Epoch 5 Training: 100%|███████████████████████████████████████████████████████████████████████████████████████████████████████| 36/36 [00:07<00:00,  4.89it/s]\n"
     ]
    },
    {
     "name": "stdout",
     "output_type": "stream",
     "text": [
      "Epoch [6/20], Average Training Loss: 2.0044\n",
      "Average Val loss: 1.836933\n",
      "Accuracy of network on validation images: 32.6%\n"
     ]
    },
    {
     "name": "stderr",
     "output_type": "stream",
     "text": [
      "Epoch 6 Training: 100%|███████████████████████████████████████████████████████████████████████████████████████████████████████| 36/36 [00:07<00:00,  4.58it/s]\n"
     ]
    },
    {
     "name": "stdout",
     "output_type": "stream",
     "text": [
      "Epoch [7/20], Average Training Loss: 2.0045\n",
      "Average Val loss: 1.817687\n",
      "Accuracy of network on validation images: 34.4%\n"
     ]
    },
    {
     "name": "stderr",
     "output_type": "stream",
     "text": [
      "Epoch 7 Training: 100%|███████████████████████████████████████████████████████████████████████████████████████████████████████| 36/36 [00:10<00:00,  3.49it/s]\n"
     ]
    },
    {
     "name": "stdout",
     "output_type": "stream",
     "text": [
      "Epoch [8/20], Average Training Loss: 1.9429\n",
      "Average Val loss: 1.791286\n",
      "Accuracy of network on validation images: 37.4%\n"
     ]
    },
    {
     "name": "stderr",
     "output_type": "stream",
     "text": [
      "Epoch 8 Training: 100%|███████████████████████████████████████████████████████████████████████████████████████████████████████| 36/36 [00:07<00:00,  4.59it/s]\n"
     ]
    },
    {
     "name": "stdout",
     "output_type": "stream",
     "text": [
      "Epoch [9/20], Average Training Loss: 1.8944\n",
      "Average Val loss: 1.758522\n",
      "Accuracy of network on validation images: 40.0%\n"
     ]
    },
    {
     "name": "stderr",
     "output_type": "stream",
     "text": [
      "Epoch 9 Training: 100%|███████████████████████████████████████████████████████████████████████████████████████████████████████| 36/36 [00:08<00:00,  4.35it/s]\n"
     ]
    },
    {
     "name": "stdout",
     "output_type": "stream",
     "text": [
      "Epoch [10/20], Average Training Loss: 1.8964\n",
      "Average Val loss: 1.751452\n",
      "Accuracy of network on validation images: 38.6%\n"
     ]
    },
    {
     "name": "stderr",
     "output_type": "stream",
     "text": [
      "Epoch 10 Training: 100%|██████████████████████████████████████████████████████████████████████████████████████████████████████| 36/36 [00:10<00:00,  3.47it/s]\n"
     ]
    },
    {
     "name": "stdout",
     "output_type": "stream",
     "text": [
      "Epoch [11/20], Average Training Loss: 1.8766\n",
      "Average Val loss: 1.726188\n",
      "Accuracy of network on validation images: 40.6%\n"
     ]
    },
    {
     "name": "stderr",
     "output_type": "stream",
     "text": [
      "Epoch 11 Training: 100%|██████████████████████████████████████████████████████████████████████████████████████████████████████| 36/36 [00:11<00:00,  3.17it/s]\n"
     ]
    },
    {
     "name": "stdout",
     "output_type": "stream",
     "text": [
      "Epoch [12/20], Average Training Loss: 1.8516\n",
      "Average Val loss: 1.696284\n",
      "Accuracy of network on validation images: 39.8%\n"
     ]
    },
    {
     "name": "stderr",
     "output_type": "stream",
     "text": [
      "Epoch 12 Training: 100%|██████████████████████████████████████████████████████████████████████████████████████████████████████| 36/36 [00:11<00:00,  3.24it/s]\n"
     ]
    },
    {
     "name": "stdout",
     "output_type": "stream",
     "text": [
      "Epoch [13/20], Average Training Loss: 1.8330\n",
      "Average Val loss: 1.671166\n",
      "Accuracy of network on validation images: 41.4%\n"
     ]
    },
    {
     "name": "stderr",
     "output_type": "stream",
     "text": [
      "Epoch 13 Training: 100%|██████████████████████████████████████████████████████████████████████████████████████████████████████| 36/36 [00:08<00:00,  4.29it/s]\n"
     ]
    },
    {
     "name": "stdout",
     "output_type": "stream",
     "text": [
      "Epoch [14/20], Average Training Loss: 1.8035\n",
      "Average Val loss: 1.670646\n",
      "Accuracy of network on validation images: 42.0%\n"
     ]
    },
    {
     "name": "stderr",
     "output_type": "stream",
     "text": [
      "Epoch 14 Training: 100%|██████████████████████████████████████████████████████████████████████████████████████████████████████| 36/36 [00:09<00:00,  3.60it/s]\n"
     ]
    },
    {
     "name": "stdout",
     "output_type": "stream",
     "text": [
      "Epoch [15/20], Average Training Loss: 1.7921\n",
      "Average Val loss: 1.655135\n",
      "Accuracy of network on validation images: 43.4%\n"
     ]
    },
    {
     "name": "stderr",
     "output_type": "stream",
     "text": [
      "Epoch 15 Training: 100%|██████████████████████████████████████████████████████████████████████████████████████████████████████| 36/36 [00:08<00:00,  4.19it/s]\n"
     ]
    },
    {
     "name": "stdout",
     "output_type": "stream",
     "text": [
      "Epoch [16/20], Average Training Loss: 1.7803\n",
      "Average Val loss: 1.641866\n",
      "Accuracy of network on validation images: 41.8%\n"
     ]
    },
    {
     "name": "stderr",
     "output_type": "stream",
     "text": [
      "Epoch 16 Training: 100%|██████████████████████████████████████████████████████████████████████████████████████████████████████| 36/36 [00:07<00:00,  4.57it/s]\n"
     ]
    },
    {
     "name": "stdout",
     "output_type": "stream",
     "text": [
      "Epoch [17/20], Average Training Loss: 1.7135\n",
      "Average Val loss: 1.623502\n",
      "Accuracy of network on validation images: 40.4%\n"
     ]
    },
    {
     "name": "stderr",
     "output_type": "stream",
     "text": [
      "Epoch 17 Training: 100%|██████████████████████████████████████████████████████████████████████████████████████████████████████| 36/36 [00:08<00:00,  4.48it/s]\n"
     ]
    },
    {
     "name": "stdout",
     "output_type": "stream",
     "text": [
      "Epoch [18/20], Average Training Loss: 1.7264\n",
      "Average Val loss: 1.615244\n",
      "Accuracy of network on validation images: 43.2%\n"
     ]
    },
    {
     "name": "stderr",
     "output_type": "stream",
     "text": [
      "Epoch 18 Training: 100%|██████████████████████████████████████████████████████████████████████████████████████████████████████| 36/36 [00:08<00:00,  4.41it/s]\n"
     ]
    },
    {
     "name": "stdout",
     "output_type": "stream",
     "text": [
      "Epoch [19/20], Average Training Loss: 1.7294\n",
      "Average Val loss: 1.603103\n",
      "Accuracy of network on validation images: 43.4%\n"
     ]
    },
    {
     "name": "stderr",
     "output_type": "stream",
     "text": [
      "Epoch 19 Training: 100%|██████████████████████████████████████████████████████████████████████████████████████████████████████| 36/36 [00:07<00:00,  4.60it/s]\n"
     ]
    },
    {
     "name": "stdout",
     "output_type": "stream",
     "text": [
      "Epoch [20/20], Average Training Loss: 1.7004\n",
      "Average Val loss: 1.580858\n",
      "Accuracy of network on validation images: 44.2%\n"
     ]
    }
   ],
   "source": [
    "total_step = len(train_loader)\n",
    "\n",
    "train_losses = {}\n",
    "val_losses = {}\n",
    "for epoch in range(num_epochs):\n",
    "    model.train()\n",
    "    running_loss = 0.0\n",
    "    num_train_batches = 0\n",
    "    \n",
    "    for i, (images, labels) in tqdm.tqdm(enumerate(train_loader), total=total_step, desc=f\"Epoch {epoch} Training\"):\n",
    "        # forward pass\n",
    "        outputs = model(images)\n",
    "        loss = criterion(outputs, labels)\n",
    "\n",
    "        # backward and optimize\n",
    "        optimizer.zero_grad()\n",
    "        loss.backward()\n",
    "        optimizer.step()\n",
    "        \n",
    "        # Accumulate loss\n",
    "        running_loss += loss.item()\n",
    "        num_train_batches += 1\n",
    "    \n",
    "    # Store average loss for the epoch\n",
    "    train_losses[epoch] = running_loss / num_train_batches\n",
    "    \n",
    "    print(f\"Epoch [{epoch + 1}/{num_epochs}], Average Training Loss: {train_losses[epoch]:.4f}\")\n",
    "    \n",
    "    # validation (your existing validation code)\n",
    "    model.eval()\n",
    "    \n",
    "    val_loss_fn = nn.CrossEntropyLoss(reduction='sum')\n",
    "    with torch.no_grad():\n",
    "        val_loss = 0.\n",
    "        total = 0.\n",
    "        correct = 0.\n",
    "\n",
    "        num_val_batches = 0\n",
    "        for val_batch, (images, labels) in enumerate(valid_loader):\n",
    "            pred = model(images)\n",
    "            val_loss += val_loss_fn(pred, labels).item()\n",
    "\n",
    "            # print(\"pred.data\", pred.data)\n",
    "            _, predicted = torch.max(pred.data, 1)\n",
    "            # print(\"predicted= \", predicted)\n",
    "            correct += (predicted == labels).sum().item()\n",
    "            total += labels.size(0)\n",
    "            num_val_batches += 1.0\n",
    "            \n",
    "        val_losses[epoch] = val_loss / total\n",
    "        print(f\"Average Val loss: {val_losses[epoch]:7f}\")\n",
    "        print(f\"Accuracy of network on validation images: {100 * correct / total}%\")\n",
    "\n",
    "\n",
    "    # prune\n",
    "    \n",
    "    \n",
    "        "
   ]
  },
  {
   "cell_type": "code",
   "execution_count": 384,
   "id": "fdd97706-3142-4d0c-bea3-0a3e3a391472",
   "metadata": {},
   "outputs": [
    {
     "data": {
      "image/png": "[encoded data removed]",
      "text/plain": [
       "<Figure size 640x480 with 1 Axes>"
      ]
     },
     "metadata": {},
     "output_type": "display_data"
    }
   ],
   "source": [
    "plt.plot(train_losses.keys(), train_losses.values(), label='train')\n",
    "plt.plot(val_losses.keys(), val_losses.values(), label='validation')\n",
    "plt.legend(bbox_to_anchor=(1, 1))\n",
    "plt.show()"
   ]
  },
  {
   "cell_type": "code",
   "execution_count": 386,
   "id": "461471fb-f20d-43f0-a625-6bfd140dd098",
   "metadata": {},
   "outputs": [
    {
     "name": "stdout",
     "output_type": "stream",
     "text": [
      "Average test loss: 1.633429\n",
      "Accuracy of network on test images: 40.03%\n"
     ]
    }
   ],
   "source": [
    "model.eval()\n",
    "    \n",
    "test_loss_fn = nn.CrossEntropyLoss(reduction='sum')\n",
    "test_losses = {}\n",
    "with torch.no_grad():\n",
    "    test_loss = 0.\n",
    "    total = 0.\n",
    "    correct = 0.\n",
    "\n",
    "    num_test_batches = 0\n",
    "    for test_batch, (images, labels) in enumerate(test_loader):\n",
    "        pred = model(images)\n",
    "        test_loss += test_loss_fn(pred, labels).item()\n",
    "\n",
    "        # print(\"pred.data\", pred.data)\n",
    "        _, predicted = torch.max(pred.data, 1)\n",
    "        # print(\"predicted= \", predicted)\n",
    "        correct += (predicted == labels).sum().item()\n",
    "        total += labels.size(0)\n",
    "        num_test_batches += 1.0\n",
    "        \n",
    "    test_losses[epoch] = test_loss / total\n",
    "    print(f\"Average test loss: {test_losses[epoch]:7f}\")\n",
    "    print(f\"Accuracy of network on test images: {100 * correct / total}%\")"
   ]
  },
  {
   "cell_type": "code",
   "execution_count": null,
   "id": "036e1475-b884-432e-870e-a7c94a05c8d0",
   "metadata": {},
   "outputs": [],
   "source": [
    "# print(model.conv1.weight)\n",
    "print((model.active_conv1_kernels == 0.0).sum())"
   ]
  },
  {
   "cell_type": "code",
   "execution_count": 282,
   "id": "03849d03-c309-4041-acef-032e4c5ca89c",
   "metadata": {},
   "outputs": [
    {
     "data": {
      "text/plain": [
       "torch.Size([64])"
      ]
     },
     "execution_count": 282,
     "metadata": {},
     "output_type": "execute_result"
    }
   ],
   "source": [
    "(model.conv1.weight == 0.0).all(axis=(1, 2, 3))"
   ]
  },
  {
   "cell_type": "code",
   "execution_count": 174,
   "id": "3ce47515-363b-4470-ae97-c3ac17b962b2",
   "metadata": {},
   "outputs": [
    {
     "name": "stdout",
     "output_type": "stream",
     "text": [
      "torch.Size([64, 3, 5, 5])\n",
      "tensor([  0.0000,   8.6603,  17.3205,  25.9808,  34.6410,  43.3013,  51.9615,\n",
      "         60.6218,  69.2820,  77.9423,  86.6025,  95.2628, 103.9230, 112.5833,\n",
      "        121.2436, 129.9038, 138.5641, 147.2243, 155.8846, 164.5448, 173.2051,\n",
      "        181.8653, 190.5256, 199.1858, 207.8461, 216.5064, 225.1666, 233.8269,\n",
      "        242.4871, 251.1474, 259.8076, 268.4679, 277.1281, 285.7884, 294.4486,\n",
      "        303.1089, 311.7691, 320.4294, 329.0897, 337.7499, 346.4102, 355.0704,\n",
      "        363.7307, 372.3909, 381.0512, 389.7114, 398.3717, 407.0319, 415.6922,\n",
      "        424.3524, 433.0127, 441.6730, 450.3332, 458.9935, 467.6537, 476.3140,\n",
      "        484.9742, 493.6345, 502.2947, 510.9550, 519.6152, 528.2755, 536.9358,\n",
      "        545.5960], dtype=torch.float64)\n",
      "tensor([ 0,  1,  2,  3,  4,  5,  6,  7,  8,  9, 10, 11, 12, 13, 14, 15, 16, 17,\n",
      "        18, 19, 20, 21, 22, 23, 24, 25, 26, 27, 28, 29, 30, 31, 32, 33, 34, 35,\n",
      "        36, 37, 38, 39, 40, 41, 42, 43, 44, 45, 46, 47, 48, 49, 50, 51, 52, 53,\n",
      "        54, 55, 56, 57, 58, 59, 60, 61, 62, 63])\n",
      "6\n",
      "tensor([ 6,  7,  8,  9, 10, 11, 12, 13, 14, 15, 16, 17, 18, 19, 20, 21, 22, 23,\n",
      "        24, 25, 26, 27, 28, 29, 30, 31, 32, 33, 34, 35, 36, 37, 38, 39, 40, 41,\n",
      "        42, 43, 44, 45, 46, 47, 48, 49, 50, 51, 52, 53, 54, 55, 56, 57, 58, 59,\n",
      "        60, 61, 62, 63])\n",
      "torch.Size([58])\n"
     ]
    }
   ],
   "source": [
    "X = torch.ones(64,3,5,5) * np.arange(64).reshape(-1, 1, 1, 1)\n",
    "print(X.shape)\n",
    "# print(X)\n",
    "\n",
    "L2 = X.pow(2).sum(dim=(1, 2, 3)).pow(0.5)\n",
    "print(L2)\n",
    "sort_idx = np.argsort(L2)\n",
    "print(sort_idx)\n",
    "\n",
    "# remove lowest k\n",
    "gamma = 0.1\n",
    "remove_num = int(len(sort_idx) * gamma )\n",
    "print(remove_num)\n",
    "\n",
    "print(sort_idx[remove_num:])\n",
    "print(sort_idx[remove_num:].shape)\n"
   ]
  },
  {
   "cell_type": "code",
   "execution_count": 130,
   "id": "dc4d00c0-2ff3-44a0-8b6e-363bb2ca8beb",
   "metadata": {},
   "outputs": [
    {
     "data": {
      "text/plain": [
       "17.320508075688775"
      ]
     },
     "execution_count": 130,
     "metadata": {},
     "output_type": "execute_result"
    }
   ],
   "source": [
    "np.sqrt(300)"
   ]
  },
  {
   "cell_type": "code",
   "execution_count": null,
   "id": "85757ba7-9b40-466f-9e84-90b32d2df2a1",
   "metadata": {},
   "outputs": [],
   "source": []
  }
 ],
 "metadata": {
  "kernelspec": {
   "display_name": "Python [conda env:klab_rotation_env]",
   "language": "python",
   "name": "conda-env-klab_rotation_env-py"
  },
  "language_info": {
   "codemirror_mode": {
    "name": "ipython",
    "version": 3
   },
   "file_extension": ".py",
   "mimetype": "text/x-python",
   "name": "python",
   "nbconvert_exporter": "python",
   "pygments_lexer": "ipython3",
   "version": "3.11.0"
  }
 },
 "nbformat": 4,
 "nbformat_minor": 5
}
