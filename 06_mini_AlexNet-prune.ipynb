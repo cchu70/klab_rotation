{
 "cells": [
  {
   "cell_type": "markdown",
   "id": "eeec75cf-a5ea-47cd-a7d0-dc1030fca7c5",
   "metadata": {},
   "source": [
    "# 05_mini-AlexNet-train"
   ]
  },
  {
   "cell_type": "code",
   "execution_count": 1,
   "id": "df273c80-08b2-4b87-a353-6b1718d11aad",
   "metadata": {},
   "outputs": [],
   "source": [
    "%load_ext autoreload\n",
    "%autoreload 2"
   ]
  },
  {
   "cell_type": "code",
   "execution_count": 2,
   "id": "f0c5a20c-c20f-47d3-8daa-633bb64e73d5",
   "metadata": {},
   "outputs": [],
   "source": [
    "import numpy as np\n",
    "import torch\n",
    "import torch.nn as nn\n",
    "import tqdm\n",
    "import pandas as pd\n",
    "\n",
    "device = torch.device('cuda' if torch.cuda.is_available() else 'cpu')"
   ]
  },
  {
   "cell_type": "code",
   "execution_count": 3,
   "id": "177f0bf5-52a2-44e6-a7a2-c3c7cb00e765",
   "metadata": {},
   "outputs": [],
   "source": [
    "import matplotlib.pyplot as plt\n",
    "from  matplotlib.colors import TwoSlopeNorm\n",
    "import torch.nn.functional as F\n",
    "from scipy.stats import bernoulli\n",
    "import seaborn as sns"
   ]
  },
  {
   "cell_type": "code",
   "execution_count": 4,
   "id": "57c1ef98-e651-4360-a08c-35fa84a25175",
   "metadata": {},
   "outputs": [],
   "source": [
    "from src.training_testing_loop import full_train, format_training_outputs, train_loop, test_loop"
   ]
  },
  {
   "cell_type": "markdown",
   "id": "5c0a97e8-d8bd-4ea0-942f-905d18ad40ea",
   "metadata": {},
   "source": [
    "# Data"
   ]
  },
  {
   "cell_type": "code",
   "execution_count": 5,
   "id": "03f72f39-721d-47ac-8e56-87aed2fb1b58",
   "metadata": {},
   "outputs": [],
   "source": [
    "from src.load_CIFAR10 import get_train_valid_loader, get_test_loader"
   ]
  },
  {
   "cell_type": "code",
   "execution_count": 6,
   "id": "6166af30-c8b4-4627-88b3-3451c3ddaca7",
   "metadata": {},
   "outputs": [
    {
     "name": "stdout",
     "output_type": "stream",
     "text": [
      "Files already downloaded and verified\n",
      "Files already downloaded and verified\n"
     ]
    }
   ],
   "source": [
    "train_loader, valid_loader = get_train_valid_loader(\n",
    "    data_dir='./data/', batch_size=128, random_seed=1, \n",
    "    augment=False, download=True, subsample_frac=0.10\n",
    ")"
   ]
  },
  {
   "cell_type": "code",
   "execution_count": 7,
   "id": "54d9d606-ec00-4c4b-966a-60e080831954",
   "metadata": {},
   "outputs": [
    {
     "name": "stdout",
     "output_type": "stream",
     "text": [
      "Files already downloaded and verified\n"
     ]
    }
   ],
   "source": [
    "test_loader = get_test_loader(data_dir='./data', batch_size=128)"
   ]
  },
  {
   "cell_type": "markdown",
   "id": "c746b38e-c041-46cb-a14e-5d0cf75140af",
   "metadata": {},
   "source": [
    "# Train random"
   ]
  },
  {
   "cell_type": "code",
   "execution_count": 8,
   "id": "7d1d1aa4-7a50-4909-87e4-a2b7cccd2a9a",
   "metadata": {},
   "outputs": [],
   "source": [
    "from src.CNN_pruning import RandomPruneNet"
   ]
  },
  {
   "cell_type": "code",
   "execution_count": 10,
   "id": "6152c774-fc6f-4d32-ae26-0988306e9c2e",
   "metadata": {
    "scrolled": true
   },
   "outputs": [
    {
     "name": "stderr",
     "output_type": "stream",
     "text": [
      "Epochs:   0%|                                                                                                                          | 0/20 [00:00<?, ?it/s]"
     ]
    },
    {
     "name": "stdout",
     "output_type": "stream",
     "text": [
      "0 tensor(4.2155, grad_fn=<NllLossBackward0>)\n"
     ]
    },
    {
     "name": "stderr",
     "output_type": "stream",
     "text": [
      "Epochs:   0%|                                                                                                                          | 0/20 [00:00<?, ?it/s]\n"
     ]
    },
    {
     "ename": "TypeError",
     "evalue": "CrossEntropyLoss.forward() takes 3 positional arguments but 130 were given",
     "output_type": "error",
     "traceback": [
      "\u001b[0;31m---------------------------------------------------------------------------\u001b[0m",
      "\u001b[0;31mTypeError\u001b[0m                                 Traceback (most recent call last)",
      "Cell \u001b[0;32mIn[10], line 8\u001b[0m\n\u001b[1;32m      4\u001b[0m learning_rate \u001b[38;5;241m=\u001b[39m \u001b[38;5;241m0.005\u001b[39m \u001b[38;5;66;03m# SGD step size. Scheduler with 0.1 for 0-100, 0.01 for 100-200, and 0.001 for 200 to 250\u001b[39;00m\n\u001b[1;32m      6\u001b[0m random_model \u001b[38;5;241m=\u001b[39m RandomPruneNet(num_training_iter\u001b[38;5;241m=\u001b[39mnum_epochs, num_classes\u001b[38;5;241m=\u001b[39mnum_classes, verbose\u001b[38;5;241m=\u001b[39m\u001b[38;5;28;01mFalse\u001b[39;00m)\u001b[38;5;241m.\u001b[39mto(device)\n\u001b[0;32m----> 8\u001b[0m random_train_losses_epoch, random_val_losses_epoch, random_test_df \u001b[38;5;241m=\u001b[39m \u001b[43mfull_train\u001b[49m\u001b[43m(\u001b[49m\n\u001b[1;32m      9\u001b[0m \u001b[43m    \u001b[49m\u001b[43mrandom_model\u001b[49m\u001b[43m,\u001b[49m\n\u001b[1;32m     10\u001b[0m \u001b[43m    \u001b[49m\u001b[43mtrain_loader\u001b[49m\u001b[43m,\u001b[49m\u001b[43m \u001b[49m\u001b[43mvalid_loader\u001b[49m\u001b[43m,\u001b[49m\u001b[43m \u001b[49m\u001b[43mtest_loader\u001b[49m\u001b[43m,\u001b[49m\n\u001b[1;32m     11\u001b[0m \u001b[43m    \u001b[49m\u001b[43mlearning_rate\u001b[49m\u001b[43m \u001b[49m\u001b[38;5;241;43m=\u001b[39;49m\u001b[43m \u001b[49m\u001b[38;5;241;43m0.005\u001b[39;49m\u001b[43m,\u001b[49m\n\u001b[1;32m     12\u001b[0m \u001b[43m    \u001b[49m\u001b[43mloss_fn\u001b[49m\u001b[43m \u001b[49m\u001b[38;5;241;43m=\u001b[39;49m\u001b[43m \u001b[49m\u001b[43mnn\u001b[49m\u001b[38;5;241;43m.\u001b[39;49m\u001b[43mCrossEntropyLoss\u001b[49m\u001b[43m(\u001b[49m\u001b[43m)\u001b[49m\u001b[43m,\u001b[49m\n\u001b[1;32m     13\u001b[0m \u001b[43m    \u001b[49m\u001b[43mmodel_update_params\u001b[49m\u001b[38;5;241;43m=\u001b[39;49m\u001b[38;5;28;43;01mTrue\u001b[39;49;00m\u001b[43m,\u001b[49m\n\u001b[1;32m     14\u001b[0m \u001b[43m    \u001b[49m\u001b[43mplot\u001b[49m\u001b[38;5;241;43m=\u001b[39;49m\u001b[38;5;28;43;01mFalse\u001b[39;49;00m\u001b[43m,\u001b[49m\n\u001b[1;32m     15\u001b[0m \u001b[43m    \u001b[49m\u001b[43mverbose\u001b[49m\u001b[38;5;241;43m=\u001b[39;49m\u001b[38;5;28;43;01mFalse\u001b[39;49;00m\u001b[43m,\u001b[49m\n\u001b[1;32m     16\u001b[0m \u001b[43m)\u001b[49m\n",
      "File \u001b[0;32m~/Desktop/phd_work/klab_rotation/src/training_testing_loop.py:111\u001b[0m, in \u001b[0;36mfull_train\u001b[0;34m(model, train_dataloader, val_dataloader, test_dataloader, learning_rate, loss_fn, model_update_params, plot, verbose, test_loop_func, **test_loop_kwargs)\u001b[0m\n\u001b[1;32m    109\u001b[0m \u001b[38;5;28;01mif\u001b[39;00m plot: plot_model_state(model)\n\u001b[1;32m    110\u001b[0m \u001b[38;5;28;01mfor\u001b[39;00m i, t \u001b[38;5;129;01min\u001b[39;00m tqdm\u001b[38;5;241m.\u001b[39mtqdm(\u001b[38;5;28menumerate\u001b[39m(\u001b[38;5;28mrange\u001b[39m(epochs)), desc\u001b[38;5;241m=\u001b[39m\u001b[38;5;124m'\u001b[39m\u001b[38;5;124mEpochs\u001b[39m\u001b[38;5;124m'\u001b[39m, total\u001b[38;5;241m=\u001b[39mepochs):\n\u001b[0;32m--> 111\u001b[0m     train_losses, val_losses \u001b[38;5;241m=\u001b[39m \u001b[43mtrain_loop\u001b[49m\u001b[43m(\u001b[49m\u001b[43mtrain_dataloader\u001b[49m\u001b[43m,\u001b[49m\u001b[43m \u001b[49m\u001b[43mmodel\u001b[49m\u001b[43m,\u001b[49m\u001b[43m \u001b[49m\u001b[43mloss_fn\u001b[49m\u001b[43m,\u001b[49m\u001b[43m \u001b[49m\u001b[43moptimizer\u001b[49m\u001b[43m,\u001b[49m\u001b[43m \u001b[49m\u001b[43mverbose_print\u001b[49m\u001b[43m,\u001b[49m\u001b[43m \u001b[49m\u001b[43mval_dataloader\u001b[49m\u001b[43m,\u001b[49m\u001b[43m \u001b[49m\u001b[43mval_loss_fn\u001b[49m\u001b[38;5;241;43m=\u001b[39;49m\u001b[43mloss_fn\u001b[49m\u001b[43m)\u001b[49m\n\u001b[1;32m    112\u001b[0m     train_losses_epoch[i] \u001b[38;5;241m=\u001b[39m train_losses\n\u001b[1;32m    113\u001b[0m     val_losses_epoch[i] \u001b[38;5;241m=\u001b[39m val_losses\n",
      "File \u001b[0;32m~/Desktop/phd_work/klab_rotation/src/training_testing_loop.py:62\u001b[0m, in \u001b[0;36mtrain_loop\u001b[0;34m(dataloader, model, loss_fn, optimizer, verbose_print, val_dataloader, val_batch_freq, val_loss_fn)\u001b[0m\n\u001b[1;32m     60\u001b[0m     \u001b[38;5;28;01mfor\u001b[39;00m val_batch, (X_val, y_val) \u001b[38;5;129;01min\u001b[39;00m \u001b[38;5;28menumerate\u001b[39m(val_dataloader):\n\u001b[1;32m     61\u001b[0m         pred \u001b[38;5;241m=\u001b[39m model(X_val)\n\u001b[0;32m---> 62\u001b[0m         val_loss \u001b[38;5;241m+\u001b[39m\u001b[38;5;241m=\u001b[39m \u001b[43mval_loss_fn\u001b[49m\u001b[43m(\u001b[49m\u001b[38;5;241;43m*\u001b[39;49m\u001b[43mpred\u001b[49m\u001b[43m,\u001b[49m\u001b[43m \u001b[49m\u001b[43my_val\u001b[49m\u001b[43m)\u001b[49m\u001b[38;5;241m.\u001b[39mitem()\n\u001b[1;32m     63\u001b[0m         num_data \u001b[38;5;241m+\u001b[39m\u001b[38;5;241m=\u001b[39m \u001b[38;5;28mlen\u001b[39m(y_val)\n\u001b[1;32m     64\u001b[0m val_losses[batch] \u001b[38;5;241m=\u001b[39m val_loss \u001b[38;5;241m/\u001b[39m num_data\n",
      "File \u001b[0;32m~/opt/anaconda3/envs/klab_rotation_env/lib/python3.11/site-packages/torch/nn/modules/module.py:1511\u001b[0m, in \u001b[0;36mModule._wrapped_call_impl\u001b[0;34m(self, *args, **kwargs)\u001b[0m\n\u001b[1;32m   1509\u001b[0m     \u001b[38;5;28;01mreturn\u001b[39;00m \u001b[38;5;28mself\u001b[39m\u001b[38;5;241m.\u001b[39m_compiled_call_impl(\u001b[38;5;241m*\u001b[39margs, \u001b[38;5;241m*\u001b[39m\u001b[38;5;241m*\u001b[39mkwargs)  \u001b[38;5;66;03m# type: ignore[misc]\u001b[39;00m\n\u001b[1;32m   1510\u001b[0m \u001b[38;5;28;01melse\u001b[39;00m:\n\u001b[0;32m-> 1511\u001b[0m     \u001b[38;5;28;01mreturn\u001b[39;00m \u001b[38;5;28;43mself\u001b[39;49m\u001b[38;5;241;43m.\u001b[39;49m\u001b[43m_call_impl\u001b[49m\u001b[43m(\u001b[49m\u001b[38;5;241;43m*\u001b[39;49m\u001b[43margs\u001b[49m\u001b[43m,\u001b[49m\u001b[43m \u001b[49m\u001b[38;5;241;43m*\u001b[39;49m\u001b[38;5;241;43m*\u001b[39;49m\u001b[43mkwargs\u001b[49m\u001b[43m)\u001b[49m\n",
      "File \u001b[0;32m~/opt/anaconda3/envs/klab_rotation_env/lib/python3.11/site-packages/torch/nn/modules/module.py:1520\u001b[0m, in \u001b[0;36mModule._call_impl\u001b[0;34m(self, *args, **kwargs)\u001b[0m\n\u001b[1;32m   1515\u001b[0m \u001b[38;5;66;03m# If we don't have any hooks, we want to skip the rest of the logic in\u001b[39;00m\n\u001b[1;32m   1516\u001b[0m \u001b[38;5;66;03m# this function, and just call forward.\u001b[39;00m\n\u001b[1;32m   1517\u001b[0m \u001b[38;5;28;01mif\u001b[39;00m \u001b[38;5;129;01mnot\u001b[39;00m (\u001b[38;5;28mself\u001b[39m\u001b[38;5;241m.\u001b[39m_backward_hooks \u001b[38;5;129;01mor\u001b[39;00m \u001b[38;5;28mself\u001b[39m\u001b[38;5;241m.\u001b[39m_backward_pre_hooks \u001b[38;5;129;01mor\u001b[39;00m \u001b[38;5;28mself\u001b[39m\u001b[38;5;241m.\u001b[39m_forward_hooks \u001b[38;5;129;01mor\u001b[39;00m \u001b[38;5;28mself\u001b[39m\u001b[38;5;241m.\u001b[39m_forward_pre_hooks\n\u001b[1;32m   1518\u001b[0m         \u001b[38;5;129;01mor\u001b[39;00m _global_backward_pre_hooks \u001b[38;5;129;01mor\u001b[39;00m _global_backward_hooks\n\u001b[1;32m   1519\u001b[0m         \u001b[38;5;129;01mor\u001b[39;00m _global_forward_hooks \u001b[38;5;129;01mor\u001b[39;00m _global_forward_pre_hooks):\n\u001b[0;32m-> 1520\u001b[0m     \u001b[38;5;28;01mreturn\u001b[39;00m \u001b[43mforward_call\u001b[49m\u001b[43m(\u001b[49m\u001b[38;5;241;43m*\u001b[39;49m\u001b[43margs\u001b[49m\u001b[43m,\u001b[49m\u001b[43m \u001b[49m\u001b[38;5;241;43m*\u001b[39;49m\u001b[38;5;241;43m*\u001b[39;49m\u001b[43mkwargs\u001b[49m\u001b[43m)\u001b[49m\n\u001b[1;32m   1522\u001b[0m \u001b[38;5;28;01mtry\u001b[39;00m:\n\u001b[1;32m   1523\u001b[0m     result \u001b[38;5;241m=\u001b[39m \u001b[38;5;28;01mNone\u001b[39;00m\n",
      "\u001b[0;31mTypeError\u001b[0m: CrossEntropyLoss.forward() takes 3 positional arguments but 130 were given"
     ]
    }
   ],
   "source": [
    "num_classes = 10 # output number of classes\n",
    "num_epochs = 20  # number of total training loops?\n",
    "# batch_size = 128  # how much data to train on at a time\n",
    "learning_rate = 0.005 # SGD step size. Scheduler with 0.1 for 0-100, 0.01 for 100-200, and 0.001 for 200 to 250\n",
    "\n",
    "random_model = RandomPruneNet(num_training_iter=num_epochs, num_classes=num_classes, verbose=False).to(device)\n",
    "\n",
    "random_train_losses_epoch, random_val_losses_epoch, random_test_df = full_train(\n",
    "    random_model,\n",
    "    train_loader, valid_loader, test_loader,\n",
    "    learning_rate = 0.005,\n",
    "    loss_fn = nn.CrossEntropyLoss(),\n",
    "    model_update_params=True,\n",
    "    plot=False,\n",
    "    verbose=False,\n",
    ")"
   ]
  },
  {
   "cell_type": "code",
   "execution_count": 328,
   "id": "ef1368bf-0be9-4e73-b1ba-3c9913965383",
   "metadata": {},
   "outputs": [],
   "source": [
    "random_stack_training_losses_df, random_stack_val_losses_df = format_training_outputs(random_train_losses_epoch, random_val_losses_epoch)"
   ]
  },
  {
   "cell_type": "code",
   "execution_count": 337,
   "id": "b25eacbf-b0f9-43e5-94cb-2d7ec9cdffdd",
   "metadata": {},
   "outputs": [
    {
     "data": {
      "image/png": "[encoded data removed]",
      "text/plain": [
       "<Figure size 1000x500 with 1 Axes>"
      ]
     },
     "metadata": {},
     "output_type": "display_data"
    }
   ],
   "source": [
    "fig, ax = plt.subplots(figsize=(10, 5))\n",
    "sns.scatterplot(random_stack_training_losses_df.reset_index(), x='index', y='loss', label='Training loss', alpha=1.0, c='gray', s=4, ax=ax)\n",
    "sns.lineplot(random_stack_val_losses_df.reset_index(), x='index', y='loss',  label='Validation loss', c='red', ax=ax)\n",
    "plt.xticks([])\n",
    "plt.xlabel('Training and validation epoch/batch')\n",
    "plt.show()"
   ]
  },
  {
   "cell_type": "code",
   "execution_count": 330,
   "id": "0d8d2570-8f3c-4ca1-84f2-4847797aaed3",
   "metadata": {},
   "outputs": [
    {
     "data": {
      "image/png": "[encoded data removed]",
      "text/plain": [
       "<Figure size 700x500 with 3 Axes>"
      ]
     },
     "metadata": {},
     "output_type": "display_data"
    }
   ],
   "source": [
    "fig, axes = plt.subplots(3, 1, figsize=(7, 5), sharex=True, height_ratios=[1, 5, 5])\n",
    "axes[0].imshow(np.array(np.array(random_model.prune_history).reshape(1, -1)), cmap='gray')\n",
    "axes[0].set_yticks([])\n",
    "axes[0].set_ylabel(\"Grow/prune\", rotation=0, ha='right')\n",
    "\n",
    "axes[1].plot(\n",
    "    (np.array(random_model.conv1_kernel_count_history) + np.array(random_model.conv2_kernel_count_history)), \n",
    "    c='k'\n",
    ") \n",
    "axes[1].set_ylabel(\"Total model size\")\n",
    "\n",
    "sns.scatterplot(random_test_df.reset_index(), x='epoch', y='test_err', ax=axes[2], c='k', s=5) \n",
    "axes[2].set_ylim(0, 1.0)\n",
    "plt.tight_layout()\n",
    "plt.show()\n"
   ]
  },
  {
   "cell_type": "markdown",
   "id": "c25aada9-5c39-4a07-bc34-b1d513d1e0cb",
   "metadata": {},
   "source": [
    "# Activity pruning"
   ]
  },
  {
   "cell_type": "code",
   "execution_count": 331,
   "id": "73a786f6-d80a-4056-ae73-e5019a85c47e",
   "metadata": {},
   "outputs": [],
   "source": [
    "from src.CNN_pruning import ActivityPruneNet"
   ]
  },
  {
   "cell_type": "code",
   "execution_count": 332,
   "id": "6e2ab437-a0c2-43a3-9540-3c9e0d34a3e8",
   "metadata": {
    "scrolled": true
   },
   "outputs": [
    {
     "name": "stderr",
     "output_type": "stream",
     "text": [
      "Epochs: 100%|█████████████████████████████████████████████████████████████████████████████████████████████████████████████████| 20/20 [04:48<00:00, 14.42s/it]"
     ]
    },
    {
     "name": "stdout",
     "output_type": "stream",
     "text": [
      "done!\n"
     ]
    },
    {
     "name": "stderr",
     "output_type": "stream",
     "text": [
      "\n"
     ]
    }
   ],
   "source": [
    "num_classes = 10 # output number of classes\n",
    "num_epochs = 20  # number of total training loops?\n",
    "# batch_size = 128  # how much data to train on at a time\n",
    "learning_rate = 0.005 # SGD step size. Scheduler with 0.1 for 0-100, 0.01 for 100-200, and 0.001 for 200 to 250\n",
    "\n",
    "activity_model = ActivityPruneNet(num_training_iter=num_epochs, num_classes=num_classes, verbose=False).to(device)\n",
    "\n",
    "activity_train_losses_epoch, activity_val_losses_epoch, activity_test_df = full_train(\n",
    "    activity_model,\n",
    "    train_loader, valid_loader, test_loader,\n",
    "    learning_rate = 0.005,\n",
    "    loss_fn = nn.CrossEntropyLoss(),\n",
    "    model_update_params=True,\n",
    "    plot=False,\n",
    "    verbose=False,\n",
    ")"
   ]
  },
  {
   "cell_type": "code",
   "execution_count": 333,
   "id": "eda65942-2718-4090-b8fb-097c38e3c13e",
   "metadata": {},
   "outputs": [],
   "source": [
    "activity_stack_training_losses_df, activity_stack_val_losses_df = format_training_outputs(activity_train_losses_epoch, activity_val_losses_epoch)"
   ]
  },
  {
   "cell_type": "code",
   "execution_count": 334,
   "id": "81a3f477-fad4-492a-80e8-08694a82e10b",
   "metadata": {},
   "outputs": [
    {
     "data": {
      "image/png": "[encoded data removed]",
      "text/plain": [
       "<Figure size 1000x500 with 1 Axes>"
      ]
     },
     "metadata": {},
     "output_type": "display_data"
    }
   ],
   "source": [
    "fig, ax = plt.subplots(figsize=(10, 5))\n",
    "sns.scatterplot(activity_stack_training_losses_df.reset_index(), x='index', y='loss', label='Training loss', alpha=1.0, c='gray', s=4, ax=ax)\n",
    "sns.lineplot(activity_stack_val_losses_df.reset_index(), x='index', y='loss',  label='Validation loss', c='red', ax=ax)\n",
    "plt.xticks([])\n",
    "plt.xlabel('Training and validation epoch/batch')\n",
    "plt.show()"
   ]
  },
  {
   "cell_type": "code",
   "execution_count": 335,
   "id": "31909026-9016-40d2-ba22-be4ab63191a5",
   "metadata": {},
   "outputs": [
    {
     "data": {
      "image/png": "[encoded data removed]",
      "text/plain": [
       "<Figure size 700x500 with 3 Axes>"
      ]
     },
     "metadata": {},
     "output_type": "display_data"
    }
   ],
   "source": [
    "fig, axes = plt.subplots(3, figsize=(7, 5), sharex=True, height_ratios=[1, 5, 5])\n",
    "axes[0].imshow(np.array(activity_model.prune_history).reshape(1, -1), cmap='gray')\n",
    "axes[0].set_yticks([])\n",
    "axes[0].set_ylabel(\"prune\", rotation=0, ha='right')\n",
    "\n",
    "axes[1].plot(\n",
    "    (np.array(activity_model.conv1_kernel_count_history) + np.array(activity_model.conv2_kernel_count_history)), \n",
    "    c='k'\n",
    ") \n",
    "axes[1].set_ylabel(\"Total model size\")\n",
    "\n",
    "sns.scatterplot(activity_test_df.reset_index(), x='epoch', y='test_err', ax=axes[2], c='k', s=5) \n",
    "axes[2].set_ylim(0, 1.0)\n",
    "plt.tight_layout()\n",
    "plt.show()\n"
   ]
  },
  {
   "cell_type": "markdown",
   "id": "b9587705-9eed-47c9-8882-415b2a9d0461",
   "metadata": {},
   "source": [
    "## Activity pruning with extra training epochs"
   ]
  },
  {
   "cell_type": "code",
   "execution_count": 338,
   "id": "11cfbb50-36a5-42a6-aab8-3a390221a255",
   "metadata": {},
   "outputs": [],
   "source": [
    "num_classes = 10 # output number of classes\n",
    "num_epochs = 20  # number of total training loops?\n",
    "# batch_size = 128  # how much data to train on at a time\n",
    "learning_rate = 0.005 # SGD step size. Scheduler with 0.1 for 0-100, 0.01 for 100-200, and 0.001 for 200 to 250\n",
    "\n",
    "activity_retrain_model = ActivityPruneNet(num_training_iter=num_epochs, num_classes=num_classes, verbose=False).to(device)"
   ]
  },
  {
   "cell_type": "code",
   "execution_count": 344,
   "id": "2ca8ecf4-47c4-4c7e-a34c-d9827b6492e5",
   "metadata": {},
   "outputs": [],
   "source": [
    "def train_prune_with_retraining(\n",
    "    model,\n",
    "    train_dataloader, val_dataloader, test_dataloader,\n",
    "    num_retrain_epochs=15,\n",
    "    learning_rate = 1e-2, # how much to update model parameters at each epoch. Speed of learning\n",
    "    loss_fn = nn.CrossEntropyLoss(),\n",
    "    model_update_params=True,\n",
    "    plot=False,\n",
    "    verbose=True,\n",
    "):\n",
    "    verbose_print = print if verbose else lambda *x: None\n",
    "    \n",
    "    epochs = model.num_training_iter\n",
    "    \n",
    "    optimizer = torch.optim.SGD(model.parameters(), lr=learning_rate) # make sure model is the right instance\n",
    "    test_df = pd.DataFrame(index=np.arange(epochs), columns=['test_err', 'test_loss'])\n",
    "    test_df.index.name = 'epoch'\n",
    "    train_losses_epoch = dict()\n",
    "    val_losses_epoch = dict()\n",
    "\n",
    "    if plot: plot_model_state(model)\n",
    "    for i, t in tqdm.tqdm(enumerate(range(epochs)), desc='Epochs', total=epochs):\n",
    "        train_losses, val_losses = train_loop(train_dataloader, model, loss_fn, optimizer, verbose_print, val_dataloader)\n",
    "        train_losses_epoch[i] = train_losses\n",
    "        val_losses_epoch[i] = val_losses\n",
    "\n",
    "        model.eval()\n",
    "\n",
    "        if model_update_params:\n",
    "            decision = model.update_params()\n",
    "            if decision == 1.0:\n",
    "                print(\"retraining\")\n",
    "                for i in tqdm.tqdm(range(num_retrain_epochs), total=num_retrain_epochs):\n",
    "                    train_losses, val_losses = train_loop(train_dataloader, model, loss_fn, optimizer, verbose_print, val_dataloader)\n",
    "\n",
    "        if plot: \n",
    "            verbose_print(f\"Decision: {decision}\")\n",
    "            plot_model_state(model)\n",
    "        \n",
    "        test_err, test_loss = test_loop(test_dataloader, model, loss_fn, verbose_print)\n",
    "        test_df.loc[i] = [test_err, test_loss]\n",
    "    \n",
    "    print(\"done!\")\n",
    "    return train_losses_epoch, val_losses_epoch, test_df\n"
   ]
  },
  {
   "cell_type": "code",
   "execution_count": 345,
   "id": "57113378-0088-43a2-ad7c-4a383a582d62",
   "metadata": {},
   "outputs": [
    {
     "name": "stderr",
     "output_type": "stream",
     "text": [
      "Epochs:   0%|                                                                                                                          | 0/20 [00:00<?, ?it/s]"
     ]
    },
    {
     "name": "stdout",
     "output_type": "stream",
     "text": [
      "loss: 2.514019 [  128/50000]\n",
      "Val loss: 1010.889038\n",
      "loss: 2.101661 [ 1408/50000]\n",
      "Val loss: 994.435516\n",
      "loss: 2.333321 [ 2688/50000]\n",
      "Val loss: 983.818970\n",
      "loss: 2.154864 [ 3968/50000]\n",
      "Val loss: 967.672318\n"
     ]
    },
    {
     "name": "stderr",
     "output_type": "stream",
     "text": [
      "Epochs:   5%|█████▋                                                                                                            | 1/20 [00:14<04:42, 14.86s/it]"
     ]
    },
    {
     "name": "stdout",
     "output_type": "stream",
     "text": [
      "Test Error \n",
      " Accuracy: 29.1%, Avg loss: 1.950381\n",
      "\n",
      "loss: 2.305603 [  128/50000]\n",
      "Val loss: 964.792053\n",
      "loss: 2.071610 [ 1408/50000]\n",
      "Val loss: 952.145920\n",
      "loss: 2.057697 [ 2688/50000]\n",
      "Val loss: 946.075409\n",
      "loss: 1.988728 [ 3968/50000]\n",
      "Val loss: 930.235367\n"
     ]
    },
    {
     "name": "stderr",
     "output_type": "stream",
     "text": [
      "Epochs:  10%|███████████▍                                                                                                      | 2/20 [00:36<05:41, 19.00s/it]"
     ]
    },
    {
     "name": "stdout",
     "output_type": "stream",
     "text": [
      "Test Error \n",
      " Accuracy: 32.8%, Avg loss: 1.906128\n",
      "\n",
      "loss: 2.126278 [  128/50000]\n",
      "Val loss: 928.444244\n",
      "loss: 2.016974 [ 1408/50000]\n",
      "Val loss: 916.372971\n",
      "loss: 1.965512 [ 2688/50000]\n",
      "Val loss: 909.296661\n",
      "loss: 2.001904 [ 3968/50000]\n",
      "Val loss: 902.436920\n"
     ]
    },
    {
     "name": "stderr",
     "output_type": "stream",
     "text": [
      "Epochs:  15%|█████████████████                                                                                                 | 3/20 [00:53<05:06, 18.05s/it]"
     ]
    },
    {
     "name": "stdout",
     "output_type": "stream",
     "text": [
      "Test Error \n",
      " Accuracy: 34.1%, Avg loss: 1.839160\n",
      "\n",
      "loss: 1.977178 [  128/50000]\n",
      "Val loss: 891.247635\n",
      "loss: 1.925719 [ 1408/50000]\n",
      "Val loss: 888.647568\n",
      "loss: 2.030544 [ 2688/50000]\n",
      "Val loss: 886.900146\n",
      "loss: 1.894548 [ 3968/50000]\n",
      "Val loss: 880.505554\n"
     ]
    },
    {
     "name": "stderr",
     "output_type": "stream",
     "text": [
      "Epochs:  20%|██████████████████████▊                                                                                           | 4/20 [01:09<04:34, 17.15s/it]"
     ]
    },
    {
     "name": "stdout",
     "output_type": "stream",
     "text": [
      "Test Error \n",
      " Accuracy: 35.1%, Avg loss: 1.795748\n",
      "\n",
      "loss: 1.808810 [  128/50000]\n",
      "Val loss: 872.490631\n",
      "loss: 2.038520 [ 1408/50000]\n",
      "Val loss: 865.612411\n",
      "loss: 1.900325 [ 2688/50000]\n",
      "Val loss: 859.557251\n",
      "loss: 2.021493 [ 3968/50000]\n",
      "Val loss: 858.383667\n"
     ]
    },
    {
     "name": "stderr",
     "output_type": "stream",
     "text": [
      "Epochs:  25%|████████████████████████████▌                                                                                     | 5/20 [01:24<04:05, 16.37s/it]"
     ]
    },
    {
     "name": "stdout",
     "output_type": "stream",
     "text": [
      "Test Error \n",
      " Accuracy: 35.7%, Avg loss: 1.804979\n",
      "\n",
      "loss: 1.658665 [  128/50000]\n",
      "Val loss: 862.716705\n",
      "loss: 1.952339 [ 1408/50000]\n",
      "Val loss: 854.103638\n",
      "loss: 1.759284 [ 2688/50000]\n",
      "Val loss: 847.367279\n",
      "loss: 1.889567 [ 3968/50000]\n",
      "Val loss: 856.729858\n"
     ]
    },
    {
     "name": "stderr",
     "output_type": "stream",
     "text": [
      "Epochs:  30%|██████████████████████████████████▏                                                                               | 6/20 [01:38<03:39, 15.70s/it]"
     ]
    },
    {
     "name": "stdout",
     "output_type": "stream",
     "text": [
      "Test Error \n",
      " Accuracy: 38.0%, Avg loss: 1.756858\n",
      "\n",
      "loss: 1.805336 [  128/50000]\n",
      "Val loss: 851.488403\n",
      "loss: 1.860919 [ 1408/50000]\n",
      "Val loss: 838.976715\n",
      "loss: 1.888754 [ 2688/50000]\n",
      "Val loss: 837.208496\n",
      "loss: 1.880906 [ 3968/50000]\n",
      "Val loss: 830.171432\n"
     ]
    },
    {
     "name": "stderr",
     "output_type": "stream",
     "text": [
      "Epochs:  35%|███████████████████████████████████████▉                                                                          | 7/20 [01:52<03:17, 15.16s/it]"
     ]
    },
    {
     "name": "stdout",
     "output_type": "stream",
     "text": [
      "Test Error \n",
      " Accuracy: 35.3%, Avg loss: 1.753798\n",
      "\n",
      "loss: 1.697530 [  128/50000]\n",
      "Val loss: 834.121017\n",
      "loss: 1.862140 [ 1408/50000]\n",
      "Val loss: 832.486847\n",
      "loss: 1.780234 [ 2688/50000]\n",
      "Val loss: 825.001022\n",
      "loss: 1.866115 [ 3968/50000]\n",
      "Val loss: 818.802460\n"
     ]
    },
    {
     "name": "stderr",
     "output_type": "stream",
     "text": [
      "Epochs:  40%|█████████████████████████████████████████████▌                                                                    | 8/20 [02:10<03:12, 16.07s/it]"
     ]
    },
    {
     "name": "stdout",
     "output_type": "stream",
     "text": [
      "Test Error \n",
      " Accuracy: 37.6%, Avg loss: 1.731729\n",
      "\n",
      "loss: 1.808419 [  128/50000]\n",
      "Val loss: 842.613876\n",
      "loss: 1.773471 [ 1408/50000]\n",
      "Val loss: 823.167526\n",
      "loss: 1.835073 [ 2688/50000]\n",
      "Val loss: 823.774124\n",
      "loss: 1.842741 [ 3968/50000]\n",
      "Val loss: 809.546631\n"
     ]
    },
    {
     "name": "stderr",
     "output_type": "stream",
     "text": [
      "Epochs:  45%|███████████████████████████████████████████████████▎                                                              | 9/20 [02:25<02:51, 15.58s/it]"
     ]
    },
    {
     "name": "stdout",
     "output_type": "stream",
     "text": [
      "Test Error \n",
      " Accuracy: 37.8%, Avg loss: 1.697812\n",
      "\n",
      "loss: 1.760131 [  128/50000]\n",
      "Val loss: 819.478668\n",
      "loss: 1.684323 [ 1408/50000]\n",
      "Val loss: 804.458740\n",
      "loss: 1.727734 [ 2688/50000]\n",
      "Val loss: 808.348495\n",
      "loss: 1.768986 [ 3968/50000]\n",
      "Val loss: 798.603333\n"
     ]
    },
    {
     "name": "stderr",
     "output_type": "stream",
     "text": [
      "Epochs:  50%|████████████████████████████████████████████████████████▌                                                        | 10/20 [02:40<02:33, 15.33s/it]"
     ]
    },
    {
     "name": "stdout",
     "output_type": "stream",
     "text": [
      "Test Error \n",
      " Accuracy: 40.7%, Avg loss: 1.644869\n",
      "\n",
      "loss: 1.751086 [  128/50000]\n",
      "Val loss: 803.530487\n",
      "loss: 1.591979 [ 1408/50000]\n",
      "Val loss: 798.831726\n",
      "loss: 1.812948 [ 2688/50000]\n",
      "Val loss: 780.743103\n",
      "loss: 1.703174 [ 3968/50000]\n",
      "Val loss: 783.124405\n"
     ]
    },
    {
     "name": "stderr",
     "output_type": "stream",
     "text": [
      "Epochs:  55%|██████████████████████████████████████████████████████████████▏                                                  | 11/20 [02:54<02:15, 15.02s/it]"
     ]
    },
    {
     "name": "stdout",
     "output_type": "stream",
     "text": [
      "Test Error \n",
      " Accuracy: 40.4%, Avg loss: 1.621887\n",
      "\n",
      "loss: 1.672778 [  128/50000]\n",
      "Val loss: 782.768204\n",
      "loss: 1.690998 [ 1408/50000]\n",
      "Val loss: 784.495178\n",
      "loss: 1.654965 [ 2688/50000]\n",
      "Val loss: 775.120056\n",
      "loss: 1.589241 [ 3968/50000]\n",
      "Val loss: 780.663528\n",
      "retraining\n"
     ]
    },
    {
     "name": "stderr",
     "output_type": "stream",
     "text": [
      "\n",
      "  0%|                                                                                                                                  | 0/15 [00:00<?, ?it/s]\u001b[A"
     ]
    },
    {
     "name": "stdout",
     "output_type": "stream",
     "text": [
      "loss: 1.708324 [  128/50000]\n",
      "Val loss: 802.393112\n",
      "loss: 1.852112 [ 1408/50000]\n",
      "Val loss: 783.067368\n",
      "loss: 1.790293 [ 2688/50000]\n",
      "Val loss: 784.027695\n",
      "loss: 1.536765 [ 3968/50000]\n",
      "Val loss: 782.117355\n"
     ]
    },
    {
     "name": "stderr",
     "output_type": "stream",
     "text": [
      "\n",
      "  7%|████████▏                                                                                                                 | 1/15 [00:08<01:55,  8.24s/it]\u001b[A"
     ]
    },
    {
     "name": "stdout",
     "output_type": "stream",
     "text": [
      "loss: 1.829150 [  128/50000]\n",
      "Val loss: 776.534195\n",
      "loss: 1.597116 [ 1408/50000]\n",
      "Val loss: 770.980453\n",
      "loss: 1.679719 [ 2688/50000]\n",
      "Val loss: 770.018188\n",
      "loss: 1.764736 [ 3968/50000]\n",
      "Val loss: 776.380463\n"
     ]
    },
    {
     "name": "stderr",
     "output_type": "stream",
     "text": [
      "\n",
      " 13%|████████████████▎                                                                                                         | 2/15 [00:17<01:51,  8.55s/it]\u001b[A"
     ]
    },
    {
     "name": "stdout",
     "output_type": "stream",
     "text": [
      "loss: 1.654316 [  128/50000]\n",
      "Val loss: 771.478043\n",
      "loss: 1.706154 [ 1408/50000]\n",
      "Val loss: 764.786224\n",
      "loss: 1.652134 [ 2688/50000]\n",
      "Val loss: 763.884354\n",
      "loss: 1.733107 [ 3968/50000]\n",
      "Val loss: 764.159073\n"
     ]
    },
    {
     "name": "stderr",
     "output_type": "stream",
     "text": [
      "\n",
      " 20%|████████████████████████▍                                                                                                 | 3/15 [00:25<01:41,  8.49s/it]\u001b[A"
     ]
    },
    {
     "name": "stdout",
     "output_type": "stream",
     "text": [
      "loss: 1.607090 [  128/50000]\n",
      "Val loss: 765.917679\n",
      "loss: 1.708127 [ 1408/50000]\n",
      "Val loss: 756.682922\n",
      "loss: 1.686713 [ 2688/50000]\n",
      "Val loss: 753.921219\n",
      "loss: 1.588363 [ 3968/50000]\n",
      "Val loss: 759.908783\n"
     ]
    },
    {
     "name": "stderr",
     "output_type": "stream",
     "text": [
      "\n",
      " 27%|████████████████████████████████▌                                                                                         | 4/15 [00:38<01:53, 10.32s/it]\u001b[A"
     ]
    },
    {
     "name": "stdout",
     "output_type": "stream",
     "text": [
      "loss: 1.556914 [  128/50000]\n",
      "Val loss: 761.574356\n",
      "loss: 1.408133 [ 1408/50000]\n",
      "Val loss: 754.072433\n",
      "loss: 1.688562 [ 2688/50000]\n",
      "Val loss: 756.195816\n",
      "loss: 1.410023 [ 3968/50000]\n",
      "Val loss: 750.809677\n"
     ]
    },
    {
     "name": "stderr",
     "output_type": "stream",
     "text": [
      "\n",
      " 33%|████████████████████████████████████████▋                                                                                 | 5/15 [00:47<01:36,  9.65s/it]\u001b[A"
     ]
    },
    {
     "name": "stdout",
     "output_type": "stream",
     "text": [
      "loss: 1.594425 [  128/50000]\n",
      "Val loss: 762.340988\n",
      "loss: 1.439031 [ 1408/50000]\n",
      "Val loss: 745.719513\n",
      "loss: 1.625646 [ 2688/50000]\n",
      "Val loss: 743.651062\n",
      "loss: 1.671118 [ 3968/50000]\n",
      "Val loss: 738.136810\n"
     ]
    },
    {
     "name": "stderr",
     "output_type": "stream",
     "text": [
      "\n",
      " 40%|████████████████████████████████████████████████▊                                                                         | 6/15 [02:04<04:53, 32.57s/it]\u001b[A"
     ]
    },
    {
     "name": "stdout",
     "output_type": "stream",
     "text": [
      "loss: 1.585318 [  128/50000]\n",
      "Val loss: 754.967987\n",
      "loss: 1.476060 [ 1408/50000]\n",
      "Val loss: 741.230087\n",
      "loss: 1.481338 [ 2688/50000]\n",
      "Val loss: 738.571182\n",
      "loss: 1.680780 [ 3968/50000]\n",
      "Val loss: 742.143814\n"
     ]
    },
    {
     "name": "stderr",
     "output_type": "stream",
     "text": [
      "\n",
      " 47%|████████████████████████████████████████████████████████▍                                                                | 7/15 [06:16<13:56, 104.52s/it]\u001b[A"
     ]
    },
    {
     "name": "stdout",
     "output_type": "stream",
     "text": [
      "loss: 1.637630 [  128/50000]\n",
      "Val loss: 744.035675\n",
      "loss: 1.532619 [ 1408/50000]\n",
      "Val loss: 730.338318\n",
      "loss: 1.513959 [ 2688/50000]\n",
      "Val loss: 728.509537\n",
      "loss: 1.560876 [ 3968/50000]\n",
      "Val loss: 734.290298\n"
     ]
    },
    {
     "name": "stderr",
     "output_type": "stream",
     "text": [
      "\n",
      " 53%|█████████████████████████████████████████████████████████████████                                                         | 8/15 [06:46<09:24, 80.65s/it]\u001b[A"
     ]
    },
    {
     "name": "stdout",
     "output_type": "stream",
     "text": [
      "loss: 1.519305 [  128/50000]\n",
      "Val loss: 733.256531\n",
      "loss: 1.592802 [ 1408/50000]\n",
      "Val loss: 742.664093\n",
      "loss: 1.668683 [ 2688/50000]\n",
      "Val loss: 729.938889\n",
      "loss: 1.604031 [ 3968/50000]\n",
      "Val loss: 730.064987\n"
     ]
    },
    {
     "name": "stderr",
     "output_type": "stream",
     "text": [
      "\n",
      " 60%|████████████████████████████████████████████████████████████████████████▌                                                | 9/15 [10:53<13:16, 132.82s/it]\u001b[A"
     ]
    },
    {
     "name": "stdout",
     "output_type": "stream",
     "text": [
      "loss: 1.591485 [  128/50000]\n",
      "Val loss: 723.632370\n",
      "loss: 1.564934 [ 1408/50000]\n",
      "Val loss: 719.113266\n",
      "loss: 1.443894 [ 2688/50000]\n",
      "Val loss: 732.245834\n",
      "loss: 1.400816 [ 3968/50000]\n",
      "Val loss: 714.787949\n"
     ]
    },
    {
     "name": "stderr",
     "output_type": "stream",
     "text": [
      "\n",
      " 67%|████████████████████████████████████████████████████████████████████████████████                                        | 10/15 [17:14<17:27, 209.43s/it]\u001b[A"
     ]
    },
    {
     "name": "stdout",
     "output_type": "stream",
     "text": [
      "loss: 1.485938 [  128/50000]\n",
      "Val loss: 732.623322\n",
      "loss: 1.415956 [ 1408/50000]\n",
      "Val loss: 718.481598\n",
      "loss: 1.584197 [ 2688/50000]\n",
      "Val loss: 715.280441\n",
      "loss: 1.410681 [ 3968/50000]\n",
      "Val loss: 714.411011\n"
     ]
    },
    {
     "name": "stderr",
     "output_type": "stream",
     "text": [
      "\n",
      " 73%|████████████████████████████████████████████████████████████████████████████████████████                                | 11/15 [17:34<10:05, 151.44s/it]\u001b[A"
     ]
    },
    {
     "name": "stdout",
     "output_type": "stream",
     "text": [
      "loss: 1.603554 [  128/50000]\n",
      "Val loss: 717.296707\n",
      "loss: 1.473716 [ 1408/50000]\n",
      "Val loss: 715.460526\n",
      "loss: 1.541930 [ 2688/50000]\n",
      "Val loss: 713.546280\n",
      "loss: 1.614660 [ 3968/50000]\n",
      "Val loss: 706.142456\n"
     ]
    },
    {
     "name": "stderr",
     "output_type": "stream",
     "text": [
      "\n",
      " 80%|████████████████████████████████████████████████████████████████████████████████████████████████                        | 12/15 [17:44<05:24, 108.23s/it]\u001b[A"
     ]
    },
    {
     "name": "stdout",
     "output_type": "stream",
     "text": [
      "loss: 1.454173 [  128/50000]\n",
      "Val loss: 712.206177\n",
      "loss: 1.507649 [ 1408/50000]\n",
      "Val loss: 715.817520\n",
      "loss: 1.558188 [ 2688/50000]\n",
      "Val loss: 696.687180\n",
      "loss: 1.547024 [ 3968/50000]\n",
      "Val loss: 707.623077\n"
     ]
    },
    {
     "name": "stderr",
     "output_type": "stream",
     "text": [
      "\n",
      " 87%|████████████████████████████████████████████████████████████████████████████████████████████████████████▊                | 13/15 [17:53<02:36, 78.13s/it]\u001b[A"
     ]
    },
    {
     "name": "stdout",
     "output_type": "stream",
     "text": [
      "loss: 1.448082 [  128/50000]\n",
      "Val loss: 710.836334\n",
      "loss: 1.324922 [ 1408/50000]\n",
      "Val loss: 690.204910\n",
      "loss: 1.414362 [ 2688/50000]\n",
      "Val loss: 693.590668\n",
      "loss: 1.506204 [ 3968/50000]\n",
      "Val loss: 692.253571\n"
     ]
    },
    {
     "name": "stderr",
     "output_type": "stream",
     "text": [
      "\n",
      " 93%|████████████████████████████████████████████████████████████████████████████████████████████████████████████████▉        | 14/15 [18:00<00:56, 56.90s/it]\u001b[A"
     ]
    },
    {
     "name": "stdout",
     "output_type": "stream",
     "text": [
      "loss: 1.587531 [  128/50000]\n",
      "Val loss: 704.425659\n",
      "loss: 1.514725 [ 1408/50000]\n",
      "Val loss: 690.366470\n",
      "loss: 1.326390 [ 2688/50000]\n",
      "Val loss: 701.377975\n",
      "loss: 1.561234 [ 3968/50000]\n",
      "Val loss: 684.831985\n"
     ]
    },
    {
     "name": "stderr",
     "output_type": "stream",
     "text": [
      "\n",
      "100%|█████████████████████████████████████████████████████████████████████████████████████████████████████████████████████████| 15/15 [18:09<00:00, 72.65s/it]\u001b[A\n",
      "Epochs:  60%|███████████████████████████████████████████████████████████████████▏                                            | 12/20 [21:20<46:14, 346.77s/it]"
     ]
    },
    {
     "name": "stdout",
     "output_type": "stream",
     "text": [
      "Test Error \n",
      " Accuracy: 46.5%, Avg loss: 1.534615\n",
      "\n",
      "loss: 1.586278 [  128/50000]\n",
      "Val loss: 712.004501\n",
      "loss: 1.274607 [ 1408/50000]\n",
      "Val loss: 689.186371\n",
      "loss: 1.366159 [ 2688/50000]\n",
      "Val loss: 697.190964\n",
      "loss: 1.330689 [ 3968/50000]\n",
      "Val loss: 678.906830\n"
     ]
    },
    {
     "name": "stderr",
     "output_type": "stream",
     "text": [
      "Epochs:  65%|████████████████████████████████████████████████████████████████████████▊                                       | 13/20 [21:35<28:43, 246.26s/it]"
     ]
    },
    {
     "name": "stdout",
     "output_type": "stream",
     "text": [
      "Test Error \n",
      " Accuracy: 44.9%, Avg loss: 1.498304\n",
      "\n",
      "loss: 1.458635 [  128/50000]\n",
      "Val loss: 693.899994\n",
      "loss: 1.376587 [ 1408/50000]\n",
      "Val loss: 676.242767\n",
      "loss: 1.440979 [ 2688/50000]\n",
      "Val loss: 677.637604\n",
      "loss: 1.360051 [ 3968/50000]\n",
      "Val loss: 675.603073\n",
      "retraining\n"
     ]
    },
    {
     "name": "stderr",
     "output_type": "stream",
     "text": [
      "\n",
      "  0%|                                                                                                                                  | 0/15 [00:00<?, ?it/s]\u001b[A"
     ]
    },
    {
     "name": "stdout",
     "output_type": "stream",
     "text": [
      "loss: 1.398491 [  128/50000]\n",
      "Val loss: 700.921661\n",
      "loss: 1.514570 [ 1408/50000]\n",
      "Val loss: 697.660995\n",
      "loss: 1.568860 [ 2688/50000]\n",
      "Val loss: 684.642502\n",
      "loss: 1.477679 [ 3968/50000]\n",
      "Val loss: 713.831604\n"
     ]
    },
    {
     "name": "stderr",
     "output_type": "stream",
     "text": [
      "\n",
      "  7%|████████▏                                                                                                                 | 1/15 [00:08<02:03,  8.79s/it]\u001b[A"
     ]
    },
    {
     "name": "stdout",
     "output_type": "stream",
     "text": [
      "loss: 1.582378 [  128/50000]\n",
      "Val loss: 714.881226\n",
      "loss: 1.468592 [ 1408/50000]\n",
      "Val loss: 683.467880\n",
      "loss: 1.327826 [ 2688/50000]\n",
      "Val loss: 674.009949\n",
      "loss: 1.504000 [ 3968/50000]\n",
      "Val loss: 674.330597\n"
     ]
    },
    {
     "name": "stderr",
     "output_type": "stream",
     "text": [
      "\n",
      " 13%|████████████████▎                                                                                                         | 2/15 [00:17<01:51,  8.60s/it]\u001b[A"
     ]
    },
    {
     "name": "stdout",
     "output_type": "stream",
     "text": [
      "loss: 1.476021 [  128/50000]\n",
      "Val loss: 695.712097\n",
      "loss: 1.448179 [ 1408/50000]\n",
      "Val loss: 681.136520\n",
      "loss: 1.424315 [ 2688/50000]\n",
      "Val loss: 680.093033\n",
      "loss: 1.456688 [ 3968/50000]\n",
      "Val loss: 673.349060\n"
     ]
    },
    {
     "name": "stderr",
     "output_type": "stream",
     "text": [
      "\n",
      " 20%|████████████████████████▍                                                                                                 | 3/15 [00:24<01:36,  8.05s/it]\u001b[A"
     ]
    },
    {
     "name": "stdout",
     "output_type": "stream",
     "text": [
      "loss: 1.339527 [  128/50000]\n",
      "Val loss: 694.636719\n",
      "loss: 1.427915 [ 1408/50000]\n",
      "Val loss: 667.107224\n",
      "loss: 1.375202 [ 2688/50000]\n",
      "Val loss: 664.510498\n",
      "loss: 1.484502 [ 3968/50000]\n",
      "Val loss: 665.505203\n"
     ]
    },
    {
     "name": "stderr",
     "output_type": "stream",
     "text": [
      "\n",
      " 27%|████████████████████████████████▌                                                                                         | 4/15 [00:32<01:28,  8.07s/it]\u001b[A"
     ]
    },
    {
     "name": "stdout",
     "output_type": "stream",
     "text": [
      "loss: 1.584402 [  128/50000]\n",
      "Val loss: 671.074219\n",
      "loss: 1.408567 [ 1408/50000]\n",
      "Val loss: 664.869293\n",
      "loss: 1.359276 [ 2688/50000]\n",
      "Val loss: 658.156540\n",
      "loss: 1.374716 [ 3968/50000]\n",
      "Val loss: 662.252106\n"
     ]
    },
    {
     "name": "stderr",
     "output_type": "stream",
     "text": [
      "\n",
      " 33%|████████████████████████████████████████▋                                                                                 | 5/15 [00:40<01:21,  8.13s/it]\u001b[A"
     ]
    },
    {
     "name": "stdout",
     "output_type": "stream",
     "text": [
      "loss: 1.432646 [  128/50000]\n",
      "Val loss: 670.742493\n",
      "loss: 1.315592 [ 1408/50000]\n",
      "Val loss: 666.223846\n",
      "loss: 1.472841 [ 2688/50000]\n",
      "Val loss: 654.607193\n",
      "loss: 1.281555 [ 3968/50000]\n",
      "Val loss: 671.007141\n"
     ]
    },
    {
     "name": "stderr",
     "output_type": "stream",
     "text": [
      "\n",
      " 40%|████████████████████████████████████████████████▊                                                                         | 6/15 [00:48<01:12,  8.02s/it]\u001b[A"
     ]
    },
    {
     "name": "stdout",
     "output_type": "stream",
     "text": [
      "loss: 1.339247 [  128/50000]\n",
      "Val loss: 656.069199\n",
      "loss: 1.379746 [ 1408/50000]\n",
      "Val loss: 657.685333\n",
      "loss: 1.619306 [ 2688/50000]\n",
      "Val loss: 651.814774\n",
      "loss: 1.410735 [ 3968/50000]\n",
      "Val loss: 658.085007\n"
     ]
    },
    {
     "name": "stderr",
     "output_type": "stream",
     "text": [
      "\n",
      " 47%|████████████████████████████████████████████████████████▉                                                                 | 7/15 [00:56<01:03,  7.89s/it]\u001b[A"
     ]
    },
    {
     "name": "stdout",
     "output_type": "stream",
     "text": [
      "loss: 1.300905 [  128/50000]\n",
      "Val loss: 689.301575\n",
      "loss: 1.503224 [ 1408/50000]\n",
      "Val loss: 650.348969\n",
      "loss: 1.308381 [ 2688/50000]\n",
      "Val loss: 643.811310\n",
      "loss: 1.403424 [ 3968/50000]\n",
      "Val loss: 652.138916\n"
     ]
    },
    {
     "name": "stderr",
     "output_type": "stream",
     "text": [
      "\n",
      " 53%|█████████████████████████████████████████████████████████████████                                                         | 8/15 [01:04<00:54,  7.80s/it]\u001b[A"
     ]
    },
    {
     "name": "stdout",
     "output_type": "stream",
     "text": [
      "loss: 1.384644 [  128/50000]\n",
      "Val loss: 673.667435\n",
      "loss: 1.386356 [ 1408/50000]\n",
      "Val loss: 660.549057\n",
      "loss: 1.246559 [ 2688/50000]\n",
      "Val loss: 646.428406\n",
      "loss: 1.212367 [ 3968/50000]\n",
      "Val loss: 643.756180\n"
     ]
    },
    {
     "name": "stderr",
     "output_type": "stream",
     "text": [
      "\n",
      " 60%|█████████████████████████████████████████████████████████████████████████▏                                                | 9/15 [01:11<00:46,  7.79s/it]\u001b[A"
     ]
    },
    {
     "name": "stdout",
     "output_type": "stream",
     "text": [
      "loss: 1.361281 [  128/50000]\n",
      "Val loss: 687.877945\n",
      "loss: 1.333270 [ 1408/50000]\n",
      "Val loss: 650.568771\n",
      "loss: 1.332994 [ 2688/50000]\n",
      "Val loss: 656.928574\n",
      "loss: 1.386936 [ 3968/50000]\n",
      "Val loss: 647.103210\n"
     ]
    },
    {
     "name": "stderr",
     "output_type": "stream",
     "text": [
      "\n",
      " 67%|████████████████████████████████████████████████████████████████████████████████▋                                        | 10/15 [01:19<00:38,  7.74s/it]\u001b[A"
     ]
    },
    {
     "name": "stdout",
     "output_type": "stream",
     "text": [
      "loss: 1.379745 [  128/50000]\n",
      "Val loss: 640.836746\n",
      "loss: 1.268114 [ 1408/50000]\n",
      "Val loss: 645.083801\n",
      "loss: 1.189556 [ 2688/50000]\n",
      "Val loss: 647.548157\n",
      "loss: 1.276134 [ 3968/50000]\n",
      "Val loss: 641.486282\n"
     ]
    },
    {
     "name": "stderr",
     "output_type": "stream",
     "text": [
      "\n",
      " 73%|████████████████████████████████████████████████████████████████████████████████████████▋                                | 11/15 [01:27<00:30,  7.70s/it]\u001b[A"
     ]
    },
    {
     "name": "stdout",
     "output_type": "stream",
     "text": [
      "loss: 1.334983 [  128/50000]\n",
      "Val loss: 649.983337\n",
      "loss: 1.142151 [ 1408/50000]\n",
      "Val loss: 642.013290\n",
      "loss: 1.311145 [ 2688/50000]\n",
      "Val loss: 638.037933\n",
      "loss: 1.306607 [ 3968/50000]\n",
      "Val loss: 648.317352\n"
     ]
    },
    {
     "name": "stderr",
     "output_type": "stream",
     "text": [
      "\n",
      " 80%|████████████████████████████████████████████████████████████████████████████████████████████████▊                        | 12/15 [01:34<00:23,  7.73s/it]\u001b[A"
     ]
    },
    {
     "name": "stdout",
     "output_type": "stream",
     "text": [
      "loss: 1.330254 [  128/50000]\n",
      "Val loss: 645.421204\n",
      "loss: 1.159281 [ 1408/50000]\n",
      "Val loss: 628.376877\n",
      "loss: 1.174593 [ 2688/50000]\n",
      "Val loss: 647.348053\n",
      "loss: 1.230128 [ 3968/50000]\n",
      "Val loss: 624.180573\n"
     ]
    },
    {
     "name": "stderr",
     "output_type": "stream",
     "text": [
      "\n",
      " 87%|████████████████████████████████████████████████████████████████████████████████████████████████████████▊                | 13/15 [01:43<00:16,  8.05s/it]\u001b[A"
     ]
    },
    {
     "name": "stdout",
     "output_type": "stream",
     "text": [
      "loss: 1.264832 [  128/50000]\n",
      "Val loss: 634.342331\n",
      "loss: 1.126720 [ 1408/50000]\n",
      "Val loss: 627.468430\n",
      "loss: 1.112667 [ 2688/50000]\n",
      "Val loss: 620.005630\n",
      "loss: 1.229994 [ 3968/50000]\n",
      "Val loss: 646.865982\n"
     ]
    },
    {
     "name": "stderr",
     "output_type": "stream",
     "text": [
      "\n",
      " 93%|████████████████████████████████████████████████████████████████████████████████████████████████████████████████▉        | 14/15 [01:52<00:08,  8.21s/it]\u001b[A"
     ]
    },
    {
     "name": "stdout",
     "output_type": "stream",
     "text": [
      "loss: 1.383788 [  128/50000]\n",
      "Val loss: 651.408966\n",
      "loss: 1.209817 [ 1408/50000]\n",
      "Val loss: 629.594406\n",
      "loss: 1.155316 [ 2688/50000]\n",
      "Val loss: 620.390327\n",
      "loss: 1.307957 [ 3968/50000]\n",
      "Val loss: 639.822311\n"
     ]
    },
    {
     "name": "stderr",
     "output_type": "stream",
     "text": [
      "\n",
      "100%|█████████████████████████████████████████████████████████████████████████████████████████████████████████████████████████| 15/15 [02:00<00:00,  8.01s/it]\u001b[A\n",
      "Epochs:  70%|██████████████████████████████████████████████████████████████████████████████▍                                 | 14/20 [23:50<21:17, 212.87s/it]"
     ]
    },
    {
     "name": "stdout",
     "output_type": "stream",
     "text": [
      "Test Error \n",
      " Accuracy: 51.6%, Avg loss: 1.357802\n",
      "\n",
      "loss: 1.175949 [  128/50000]\n",
      "Val loss: 639.961609\n",
      "loss: 1.409163 [ 1408/50000]\n",
      "Val loss: 638.095795\n",
      "loss: 1.402371 [ 2688/50000]\n",
      "Val loss: 624.605103\n",
      "loss: 1.086473 [ 3968/50000]\n",
      "Val loss: 627.071609\n",
      "retraining\n"
     ]
    },
    {
     "name": "stderr",
     "output_type": "stream",
     "text": [
      "\n",
      "  0%|                                                                                                                                  | 0/15 [00:00<?, ?it/s]\u001b[A"
     ]
    },
    {
     "name": "stdout",
     "output_type": "stream",
     "text": [
      "loss: 1.206343 [  128/50000]\n",
      "Val loss: 648.546112\n",
      "loss: 1.283846 [ 1408/50000]\n",
      "Val loss: 626.319382\n",
      "loss: 1.308906 [ 2688/50000]\n",
      "Val loss: 639.378250\n",
      "loss: 1.070632 [ 3968/50000]\n",
      "Val loss: 624.899048\n"
     ]
    },
    {
     "name": "stderr",
     "output_type": "stream",
     "text": [
      "\n",
      "  7%|████████▏                                                                                                                 | 1/15 [00:07<01:47,  7.71s/it]\u001b[A"
     ]
    },
    {
     "name": "stdout",
     "output_type": "stream",
     "text": [
      "loss: 1.474349 [  128/50000]\n",
      "Val loss: 656.501511\n",
      "loss: 1.149280 [ 1408/50000]\n",
      "Val loss: 618.477066\n",
      "loss: 1.225429 [ 2688/50000]\n",
      "Val loss: 610.713516\n",
      "loss: 1.286637 [ 3968/50000]\n",
      "Val loss: 623.314484\n"
     ]
    },
    {
     "name": "stderr",
     "output_type": "stream",
     "text": [
      "\n",
      " 13%|████████████████▎                                                                                                         | 2/15 [00:15<01:41,  7.81s/it]\u001b[A"
     ]
    },
    {
     "name": "stdout",
     "output_type": "stream",
     "text": [
      "loss: 1.484499 [  128/50000]\n",
      "Val loss: 638.251129\n",
      "loss: 1.214845 [ 1408/50000]\n",
      "Val loss: 618.240875\n",
      "loss: 1.199547 [ 2688/50000]\n",
      "Val loss: 614.290985\n",
      "loss: 1.317721 [ 3968/50000]\n",
      "Val loss: 608.130859\n"
     ]
    },
    {
     "name": "stderr",
     "output_type": "stream",
     "text": [
      "\n",
      " 20%|████████████████████████▍                                                                                                 | 3/15 [00:23<01:36,  8.04s/it]\u001b[A"
     ]
    },
    {
     "name": "stdout",
     "output_type": "stream",
     "text": [
      "loss: 1.182915 [  128/50000]\n",
      "Val loss: 659.139313\n",
      "loss: 1.194753 [ 1408/50000]\n",
      "Val loss: 614.147125\n",
      "loss: 1.328918 [ 2688/50000]\n",
      "Val loss: 613.663727\n",
      "loss: 1.248190 [ 3968/50000]\n",
      "Val loss: 606.811218\n"
     ]
    },
    {
     "name": "stderr",
     "output_type": "stream",
     "text": [
      "\n",
      " 27%|████████████████████████████████▌                                                                                         | 4/15 [00:31<01:28,  8.01s/it]\u001b[A"
     ]
    },
    {
     "name": "stdout",
     "output_type": "stream",
     "text": [
      "loss: 1.283880 [  128/50000]\n",
      "Val loss: 619.665573\n",
      "loss: 1.133453 [ 1408/50000]\n",
      "Val loss: 614.580750\n",
      "loss: 1.416926 [ 2688/50000]\n",
      "Val loss: 607.691772\n",
      "loss: 1.087286 [ 3968/50000]\n",
      "Val loss: 602.122894\n"
     ]
    },
    {
     "name": "stderr",
     "output_type": "stream",
     "text": [
      "\n",
      " 33%|████████████████████████████████████████▋                                                                                 | 5/15 [00:39<01:20,  8.00s/it]\u001b[A"
     ]
    },
    {
     "name": "stdout",
     "output_type": "stream",
     "text": [
      "loss: 1.276752 [  128/50000]\n",
      "Val loss: 607.879730\n",
      "loss: 1.175049 [ 1408/50000]\n",
      "Val loss: 604.364822\n",
      "loss: 1.183223 [ 2688/50000]\n",
      "Val loss: 603.117523\n",
      "loss: 1.286294 [ 3968/50000]\n",
      "Val loss: 604.423325\n"
     ]
    },
    {
     "name": "stderr",
     "output_type": "stream",
     "text": [
      "\n",
      " 40%|████████████████████████████████████████████████▊                                                                         | 6/15 [00:47<01:11,  7.99s/it]\u001b[A"
     ]
    },
    {
     "name": "stdout",
     "output_type": "stream",
     "text": [
      "loss: 1.295407 [  128/50000]\n",
      "Val loss: 635.757553\n",
      "loss: 1.158730 [ 1408/50000]\n",
      "Val loss: 610.218079\n",
      "loss: 1.215512 [ 2688/50000]\n",
      "Val loss: 634.219170\n",
      "loss: 1.022662 [ 3968/50000]\n",
      "Val loss: 603.133224\n"
     ]
    },
    {
     "name": "stderr",
     "output_type": "stream",
     "text": [
      "\n",
      " 47%|████████████████████████████████████████████████████████▉                                                                 | 7/15 [00:55<01:03,  8.00s/it]\u001b[A"
     ]
    },
    {
     "name": "stdout",
     "output_type": "stream",
     "text": [
      "loss: 1.090894 [  128/50000]\n",
      "Val loss: 627.823227\n",
      "loss: 1.097859 [ 1408/50000]\n",
      "Val loss: 598.955345\n",
      "loss: 1.275455 [ 2688/50000]\n",
      "Val loss: 596.505074\n",
      "loss: 1.024472 [ 3968/50000]\n",
      "Val loss: 589.161591\n"
     ]
    },
    {
     "name": "stderr",
     "output_type": "stream",
     "text": [
      "\n",
      " 53%|█████████████████████████████████████████████████████████████████                                                         | 8/15 [01:04<00:56,  8.10s/it]\u001b[A"
     ]
    },
    {
     "name": "stdout",
     "output_type": "stream",
     "text": [
      "loss: 1.339727 [  128/50000]\n",
      "Val loss: 593.148712\n",
      "loss: 1.236607 [ 1408/50000]\n",
      "Val loss: 618.047272\n",
      "loss: 1.163996 [ 2688/50000]\n",
      "Val loss: 593.201874\n",
      "loss: 1.176953 [ 3968/50000]\n",
      "Val loss: 600.788315\n"
     ]
    },
    {
     "name": "stderr",
     "output_type": "stream",
     "text": [
      "\n",
      " 60%|█████████████████████████████████████████████████████████████████████████▏                                                | 9/15 [01:12<00:48,  8.08s/it]\u001b[A"
     ]
    },
    {
     "name": "stdout",
     "output_type": "stream",
     "text": [
      "loss: 1.175378 [  128/50000]\n",
      "Val loss: 632.225189\n",
      "loss: 1.154858 [ 1408/50000]\n",
      "Val loss: 593.290161\n",
      "loss: 1.167483 [ 2688/50000]\n",
      "Val loss: 594.122681\n",
      "loss: 1.117363 [ 3968/50000]\n",
      "Val loss: 593.590225\n"
     ]
    },
    {
     "name": "stderr",
     "output_type": "stream",
     "text": [
      "\n",
      " 67%|████████████████████████████████████████████████████████████████████████████████▋                                        | 10/15 [01:20<00:40,  8.11s/it]\u001b[A"
     ]
    },
    {
     "name": "stdout",
     "output_type": "stream",
     "text": [
      "loss: 1.300417 [  128/50000]\n",
      "Val loss: 610.954941\n",
      "loss: 0.965873 [ 1408/50000]\n",
      "Val loss: 583.853485\n",
      "loss: 1.264854 [ 2688/50000]\n",
      "Val loss: 610.056656\n",
      "loss: 1.244514 [ 3968/50000]\n",
      "Val loss: 606.831055\n"
     ]
    },
    {
     "name": "stderr",
     "output_type": "stream",
     "text": [
      "\n",
      " 73%|████████████████████████████████████████████████████████████████████████████████████████▋                                | 11/15 [01:29<00:33,  8.40s/it]\u001b[A"
     ]
    },
    {
     "name": "stdout",
     "output_type": "stream",
     "text": [
      "loss: 1.166388 [  128/50000]\n",
      "Val loss: 582.467468\n",
      "loss: 1.117755 [ 1408/50000]\n",
      "Val loss: 588.255684\n",
      "loss: 1.180224 [ 2688/50000]\n",
      "Val loss: 586.529907\n",
      "loss: 1.051382 [ 3968/50000]\n",
      "Val loss: 590.643188\n"
     ]
    },
    {
     "name": "stderr",
     "output_type": "stream",
     "text": [
      "\n",
      " 80%|████████████████████████████████████████████████████████████████████████████████████████████████▊                        | 12/15 [01:38<00:25,  8.51s/it]\u001b[A"
     ]
    },
    {
     "name": "stdout",
     "output_type": "stream",
     "text": [
      "loss: 1.029682 [  128/50000]\n",
      "Val loss: 593.424225\n",
      "loss: 0.927551 [ 1408/50000]\n",
      "Val loss: 586.828812\n",
      "loss: 1.218693 [ 2688/50000]\n",
      "Val loss: 586.713745\n",
      "loss: 1.362399 [ 3968/50000]\n",
      "Val loss: 600.585129\n"
     ]
    },
    {
     "name": "stderr",
     "output_type": "stream",
     "text": [
      "\n",
      " 87%|████████████████████████████████████████████████████████████████████████████████████████████████████████▊                | 13/15 [01:47<00:17,  8.71s/it]\u001b[A"
     ]
    },
    {
     "name": "stdout",
     "output_type": "stream",
     "text": [
      "loss: 1.416691 [  128/50000]\n",
      "Val loss: 607.840408\n",
      "loss: 1.035602 [ 1408/50000]\n",
      "Val loss: 588.781242\n",
      "loss: 1.139465 [ 2688/50000]\n",
      "Val loss: 597.960190\n",
      "loss: 1.266522 [ 3968/50000]\n",
      "Val loss: 580.010696\n"
     ]
    },
    {
     "name": "stderr",
     "output_type": "stream",
     "text": [
      "\n",
      " 93%|████████████████████████████████████████████████████████████████████████████████████████████████████████████████▉        | 14/15 [01:58<00:09,  9.42s/it]\u001b[A"
     ]
    },
    {
     "name": "stdout",
     "output_type": "stream",
     "text": [
      "loss: 1.342354 [  128/50000]\n",
      "Val loss: 611.608978\n",
      "loss: 1.122481 [ 1408/50000]\n",
      "Val loss: 573.359772\n",
      "loss: 1.096197 [ 2688/50000]\n",
      "Val loss: 577.325256\n",
      "loss: 1.177081 [ 3968/50000]\n",
      "Val loss: 581.541061\n"
     ]
    },
    {
     "name": "stderr",
     "output_type": "stream",
     "text": [
      "\n",
      "100%|█████████████████████████████████████████████████████████████████████████████████████████████████████████████████████████| 15/15 [02:07<00:00,  8.47s/it]\u001b[A\n",
      "Epochs:  75%|████████████████████████████████████████████████████████████████████████████████████                            | 15/20 [26:13<15:59, 191.85s/it]"
     ]
    },
    {
     "name": "stdout",
     "output_type": "stream",
     "text": [
      "Test Error \n",
      " Accuracy: 54.2%, Avg loss: 1.278661\n",
      "\n",
      "loss: 1.098201 [  128/50000]\n",
      "Val loss: 597.777679\n",
      "loss: 1.259344 [ 1408/50000]\n",
      "Val loss: 572.739212\n",
      "loss: 1.084159 [ 2688/50000]\n",
      "Val loss: 569.772720\n",
      "loss: 1.205426 [ 3968/50000]\n",
      "Val loss: 617.188721\n",
      "retraining\n"
     ]
    },
    {
     "name": "stderr",
     "output_type": "stream",
     "text": [
      "\n",
      "  0%|                                                                                                                                  | 0/15 [00:00<?, ?it/s]\u001b[A"
     ]
    },
    {
     "name": "stdout",
     "output_type": "stream",
     "text": [
      "loss: 1.284860 [  128/50000]\n",
      "Val loss: 647.186569\n",
      "loss: 1.212184 [ 1408/50000]\n",
      "Val loss: 588.189209\n",
      "loss: 1.122785 [ 2688/50000]\n",
      "Val loss: 592.812836\n",
      "loss: 1.108140 [ 3968/50000]\n",
      "Val loss: 581.212082\n"
     ]
    },
    {
     "name": "stderr",
     "output_type": "stream",
     "text": [
      "\n",
      "  7%|███████▊                                                                                                              | 1/15 [33:45<7:52:43, 2025.99s/it]\u001b[A"
     ]
    },
    {
     "name": "stdout",
     "output_type": "stream",
     "text": [
      "loss: 1.272944 [  128/50000]\n",
      "Val loss: 608.145599\n",
      "loss: 1.124263 [ 1408/50000]\n",
      "Val loss: 595.421860\n",
      "loss: 1.082106 [ 2688/50000]\n",
      "Val loss: 565.659607\n",
      "loss: 0.933443 [ 3968/50000]\n",
      "Val loss: 583.510796\n"
     ]
    },
    {
     "name": "stderr",
     "output_type": "stream",
     "text": [
      "\n",
      " 13%|███████████████▎                                                                                                   | 2/15 [2:00:50<14:06:38, 3907.57s/it]\u001b[A"
     ]
    },
    {
     "name": "stdout",
     "output_type": "stream",
     "text": [
      "loss: 1.108606 [  128/50000]\n",
      "Val loss: 577.527115\n",
      "loss: 1.099644 [ 1408/50000]\n",
      "Val loss: 565.463936\n",
      "loss: 0.973661 [ 2688/50000]\n",
      "Val loss: 567.672882\n",
      "loss: 1.053762 [ 3968/50000]\n",
      "Val loss: 575.025406\n"
     ]
    },
    {
     "name": "stderr",
     "output_type": "stream",
     "text": [
      "\n",
      " 20%|███████████████████████▏                                                                                            | 3/15 [2:06:33<7:35:55, 2279.63s/it]\u001b[A"
     ]
    },
    {
     "name": "stdout",
     "output_type": "stream",
     "text": [
      "loss: 1.178587 [  128/50000]\n",
      "Val loss: 587.209534\n",
      "loss: 1.273229 [ 1408/50000]\n",
      "Val loss: 583.884827\n",
      "loss: 1.099452 [ 2688/50000]\n",
      "Val loss: 562.974213\n",
      "loss: 1.098005 [ 3968/50000]\n",
      "Val loss: 568.899475\n"
     ]
    },
    {
     "name": "stderr",
     "output_type": "stream",
     "text": [
      "\n",
      " 27%|██████████████████████████████▉                                                                                     | 4/15 [3:01:50<8:13:03, 2689.41s/it]\u001b[A"
     ]
    },
    {
     "name": "stdout",
     "output_type": "stream",
     "text": [
      "loss: 1.340513 [  128/50000]\n",
      "Val loss: 632.019485\n",
      "loss: 1.072142 [ 1408/50000]\n",
      "Val loss: 616.422424\n",
      "loss: 1.131234 [ 2688/50000]\n",
      "Val loss: 591.740372\n",
      "loss: 1.158314 [ 3968/50000]\n",
      "Val loss: 566.260963\n"
     ]
    },
    {
     "name": "stderr",
     "output_type": "stream",
     "text": [
      "\n",
      " 33%|██████████████████████████████████████▋                                                                             | 5/15 [3:01:58<4:47:04, 1722.47s/it]\u001b[A"
     ]
    },
    {
     "name": "stdout",
     "output_type": "stream",
     "text": [
      "loss: 1.404882 [  128/50000]\n",
      "Val loss: 617.476685\n",
      "loss: 1.105465 [ 1408/50000]\n",
      "Val loss: 594.067398\n",
      "loss: 0.953507 [ 2688/50000]\n",
      "Val loss: 561.168793\n",
      "loss: 1.018205 [ 3968/50000]\n",
      "Val loss: 585.648674\n"
     ]
    },
    {
     "name": "stderr",
     "output_type": "stream",
     "text": [
      "\n",
      " 40%|██████████████████████████████████████████████▍                                                                     | 6/15 [4:02:58<5:57:11, 2381.31s/it]\u001b[A"
     ]
    },
    {
     "name": "stdout",
     "output_type": "stream",
     "text": [
      "loss: 1.138541 [  128/50000]\n",
      "Val loss: 610.500900\n",
      "loss: 0.904531 [ 1408/50000]\n",
      "Val loss: 582.525574\n",
      "loss: 1.159588 [ 2688/50000]\n",
      "Val loss: 566.577141\n",
      "loss: 1.053066 [ 3968/50000]\n",
      "Val loss: 576.324234\n"
     ]
    },
    {
     "name": "stderr",
     "output_type": "stream",
     "text": [
      "\n",
      " 47%|██████████████████████████████████████████████████████▏                                                             | 7/15 [5:04:01<6:13:22, 2800.31s/it]\u001b[A"
     ]
    },
    {
     "name": "stdout",
     "output_type": "stream",
     "text": [
      "loss: 1.089540 [  128/50000]\n",
      "Val loss: 597.671761\n",
      "loss: 0.928017 [ 1408/50000]\n",
      "Val loss: 592.913452\n",
      "loss: 1.120813 [ 2688/50000]\n",
      "Val loss: 571.432884\n",
      "loss: 1.048466 [ 3968/50000]\n",
      "Val loss: 577.173653\n"
     ]
    },
    {
     "name": "stderr",
     "output_type": "stream",
     "text": [
      "\n",
      " 53%|█████████████████████████████████████████████████████████████▊                                                      | 8/15 [5:04:09<3:42:58, 1911.24s/it]\u001b[A"
     ]
    },
    {
     "name": "stdout",
     "output_type": "stream",
     "text": [
      "loss: 1.118814 [  128/50000]\n",
      "Val loss: 575.430115\n",
      "loss: 1.042830 [ 1408/50000]\n",
      "Val loss: 566.576431\n",
      "loss: 1.142177 [ 2688/50000]\n",
      "Val loss: 559.983170\n",
      "loss: 0.960760 [ 3968/50000]\n",
      "Val loss: 576.540085\n"
     ]
    },
    {
     "name": "stderr",
     "output_type": "stream",
     "text": [
      "\n",
      " 60%|█████████████████████████████████████████████████████████████████████▌                                              | 9/15 [5:44:59<3:27:57, 2079.59s/it]\u001b[A"
     ]
    },
    {
     "name": "stdout",
     "output_type": "stream",
     "text": [
      "loss: 1.143858 [  128/50000]\n",
      "Val loss: 566.278275\n",
      "loss: 0.987566 [ 1408/50000]\n",
      "Val loss: 585.696381\n",
      "loss: 0.973729 [ 2688/50000]\n",
      "Val loss: 578.022842\n",
      "loss: 0.962511 [ 3968/50000]\n",
      "Val loss: 567.832199\n"
     ]
    },
    {
     "name": "stderr",
     "output_type": "stream",
     "text": [
      "\n",
      " 67%|████████████████████████████████████████████████████████████████████████████▋                                      | 10/15 [6:05:12<2:31:00, 1812.20s/it]\u001b[A"
     ]
    },
    {
     "name": "stdout",
     "output_type": "stream",
     "text": [
      "loss: 1.059644 [  128/50000]\n",
      "Val loss: 568.236008\n",
      "loss: 0.939564 [ 1408/50000]\n",
      "Val loss: 568.413467\n",
      "loss: 0.842793 [ 2688/50000]\n",
      "Val loss: 576.982735\n",
      "loss: 0.949072 [ 3968/50000]\n",
      "Val loss: 578.060272\n"
     ]
    },
    {
     "name": "stderr",
     "output_type": "stream",
     "text": [
      "\n",
      " 73%|████████████████████████████████████████████████████████████████████████████████████▎                              | 11/15 [7:06:19<2:38:39, 2379.88s/it]\u001b[A"
     ]
    },
    {
     "name": "stdout",
     "output_type": "stream",
     "text": [
      "loss: 1.199740 [  128/50000]\n",
      "Val loss: 568.607361\n",
      "loss: 1.069713 [ 1408/50000]\n",
      "Val loss: 569.237396\n",
      "loss: 0.983539 [ 2688/50000]\n",
      "Val loss: 559.633888\n",
      "loss: 1.040117 [ 3968/50000]\n",
      "Val loss: 558.727982\n"
     ]
    },
    {
     "name": "stderr",
     "output_type": "stream",
     "text": [
      "\n",
      " 80%|████████████████████████████████████████████████████████████████████████████████████████████                       | 12/15 [8:07:27<2:18:35, 2771.70s/it]\u001b[A"
     ]
    },
    {
     "name": "stdout",
     "output_type": "stream",
     "text": [
      "loss: 1.103608 [  128/50000]\n",
      "Val loss: 651.079071\n",
      "loss: 0.916498 [ 1408/50000]\n",
      "Val loss: 565.237938\n",
      "loss: 1.103539 [ 2688/50000]\n",
      "Val loss: 550.899590\n",
      "loss: 1.159247 [ 3968/50000]\n",
      "Val loss: 561.095016\n"
     ]
    },
    {
     "name": "stderr",
     "output_type": "stream",
     "text": [
      "\n",
      " 87%|███████████████████████████████████████████████████████████████████████████████████████████████████▋               | 13/15 [8:07:35<1:04:28, 1934.39s/it]\u001b[A"
     ]
    },
    {
     "name": "stdout",
     "output_type": "stream",
     "text": [
      "loss: 1.023396 [  128/50000]\n",
      "Val loss: 579.362045\n",
      "loss: 0.841320 [ 1408/50000]\n",
      "Val loss: 572.034119\n",
      "loss: 1.030439 [ 2688/50000]\n",
      "Val loss: 573.029358\n",
      "loss: 1.000380 [ 3968/50000]\n",
      "Val loss: 561.400482\n"
     ]
    },
    {
     "name": "stderr",
     "output_type": "stream",
     "text": [
      "\n",
      " 93%|█████████████████████████████████████████████████████████████████████████████████████████████████████████████▏       | 14/15 [9:06:46<40:22, 2422.86s/it]\u001b[A"
     ]
    },
    {
     "name": "stdout",
     "output_type": "stream",
     "text": [
      "loss: 1.226848 [  128/50000]\n",
      "Val loss: 622.884270\n",
      "loss: 1.050841 [ 1408/50000]\n",
      "Val loss: 560.235016\n",
      "loss: 0.978416 [ 2688/50000]\n",
      "Val loss: 585.048431\n",
      "loss: 1.012245 [ 3968/50000]\n",
      "Val loss: 587.522293\n"
     ]
    },
    {
     "name": "stderr",
     "output_type": "stream",
     "text": [
      "\n",
      "100%|█████████████████████████████████████████████████████████████████████████████████████████████████████████████████████| 15/15 [9:08:37<00:00, 2194.50s/it]\u001b[A\n",
      "Epochs:  80%|████████████████████████████████████████████████████████████████████████████████████                     | 16/20 [9:35:05<11:09:46, 10046.65s/it]"
     ]
    },
    {
     "name": "stdout",
     "output_type": "stream",
     "text": [
      "Test Error \n",
      " Accuracy: 52.8%, Avg loss: 1.323394\n",
      "\n",
      "loss: 0.821796 [  128/50000]\n",
      "Val loss: 571.330215\n",
      "loss: 0.956247 [ 1408/50000]\n",
      "Val loss: 571.495972\n",
      "loss: 0.976556 [ 2688/50000]\n",
      "Val loss: 610.122307\n",
      "loss: 1.033006 [ 3968/50000]\n",
      "Val loss: 562.516464\n",
      "retraining\n"
     ]
    },
    {
     "name": "stderr",
     "output_type": "stream",
     "text": [
      "\n",
      "  0%|                                                                                                                                  | 0/15 [00:00<?, ?it/s]\u001b[A"
     ]
    },
    {
     "name": "stdout",
     "output_type": "stream",
     "text": [
      "loss: 0.989068 [  128/50000]\n",
      "Val loss: 626.963104\n",
      "loss: 0.946076 [ 1408/50000]\n",
      "Val loss: 547.598778\n",
      "loss: 0.995965 [ 2688/50000]\n",
      "Val loss: 556.162354\n",
      "loss: 1.062989 [ 3968/50000]\n",
      "Val loss: 589.339493\n"
     ]
    },
    {
     "name": "stderr",
     "output_type": "stream",
     "text": [
      "\n",
      "  7%|███████▋                                                                                                           | 1/15 [1:01:06<14:15:34, 3666.78s/it]\u001b[A"
     ]
    },
    {
     "name": "stdout",
     "output_type": "stream",
     "text": [
      "loss: 1.030719 [  128/50000]\n",
      "Val loss: 574.061874\n",
      "loss: 0.965594 [ 1408/50000]\n",
      "Val loss: 548.581253\n",
      "loss: 1.043287 [ 2688/50000]\n",
      "Val loss: 587.664505\n",
      "loss: 0.810753 [ 3968/50000]\n",
      "Val loss: 576.556068\n"
     ]
    },
    {
     "name": "stderr",
     "output_type": "stream",
     "text": [
      "\n",
      " 13%|███████████████▎                                                                                                   | 2/15 [1:51:21<11:51:19, 3283.05s/it]\u001b[A"
     ]
    },
    {
     "name": "stdout",
     "output_type": "stream",
     "text": [
      "loss: 1.169942 [  128/50000]\n",
      "Val loss: 622.680054\n",
      "loss: 1.073871 [ 1408/50000]\n",
      "Val loss: 557.375313\n",
      "loss: 0.890314 [ 2688/50000]\n",
      "Val loss: 552.746513\n",
      "loss: 0.893517 [ 3968/50000]\n",
      "Val loss: 553.761787\n"
     ]
    },
    {
     "name": "stderr",
     "output_type": "stream",
     "text": [
      "\n",
      " 20%|███████████████████████▏                                                                                            | 3/15 [1:51:28<5:57:27, 1787.29s/it]\u001b[A"
     ]
    },
    {
     "name": "stdout",
     "output_type": "stream",
     "text": [
      "loss: 1.285569 [  128/50000]\n",
      "Val loss: 642.583237\n",
      "loss: 0.992086 [ 1408/50000]\n",
      "Val loss: 548.181122\n",
      "loss: 0.871251 [ 2688/50000]\n",
      "Val loss: 562.066345\n",
      "loss: 0.929644 [ 3968/50000]\n",
      "Val loss: 597.681511\n"
     ]
    },
    {
     "name": "stderr",
     "output_type": "stream",
     "text": [
      "\n",
      " 27%|██████████████████████████████▋                                                                                    | 4/15 [3:48:20<11:45:47, 3849.80s/it]\u001b[A"
     ]
    },
    {
     "name": "stdout",
     "output_type": "stream",
     "text": [
      "loss: 1.052348 [  128/50000]\n",
      "Val loss: 558.898872\n",
      "loss: 1.020519 [ 1408/50000]\n",
      "Val loss: 615.076691\n",
      "loss: 1.023651 [ 2688/50000]\n",
      "Val loss: 559.814621\n",
      "loss: 0.993936 [ 3968/50000]\n",
      "Val loss: 559.396332\n"
     ]
    },
    {
     "name": "stderr",
     "output_type": "stream",
     "text": [
      "\n",
      " 33%|██████████████████████████████████████▎                                                                            | 5/15 [8:47:28<24:48:58, 8933.89s/it]\u001b[A"
     ]
    },
    {
     "name": "stdout",
     "output_type": "stream",
     "text": [
      "loss: 1.027144 [  128/50000]\n",
      "Val loss: 599.300842\n",
      "loss: 0.953063 [ 1408/50000]\n",
      "Val loss: 565.505737\n",
      "loss: 0.960795 [ 2688/50000]\n",
      "Val loss: 596.183365\n",
      "loss: 1.052438 [ 3968/50000]\n",
      "Val loss: 543.187912\n"
     ]
    },
    {
     "name": "stderr",
     "output_type": "stream",
     "text": [
      "\n",
      " 40%|█████████████████████████████████████████████▌                                                                    | 6/15 [10:48:33<20:54:58, 8366.46s/it]\u001b[A"
     ]
    },
    {
     "name": "stdout",
     "output_type": "stream",
     "text": [
      "loss: 0.971605 [  128/50000]\n",
      "Val loss: 558.877151\n",
      "loss: 1.000149 [ 1408/50000]\n",
      "Val loss: 602.676315\n",
      "loss: 1.170235 [ 2688/50000]\n",
      "Val loss: 569.738922\n",
      "loss: 1.059101 [ 3968/50000]\n",
      "Val loss: 588.060257\n"
     ]
    },
    {
     "name": "stderr",
     "output_type": "stream",
     "text": [
      "\n",
      " 47%|█████████████████████████████████████████████████████▏                                                            | 7/15 [10:48:41<12:31:09, 5633.75s/it]\u001b[A"
     ]
    },
    {
     "name": "stdout",
     "output_type": "stream",
     "text": [
      "loss: 1.171641 [  128/50000]\n",
      "Val loss: 659.079926\n",
      "loss: 1.007743 [ 1408/50000]\n",
      "Val loss: 580.290779\n",
      "loss: 1.041011 [ 2688/50000]\n",
      "Val loss: 565.098129\n",
      "loss: 0.839931 [ 3968/50000]\n",
      "Val loss: 568.929123\n"
     ]
    },
    {
     "name": "stderr",
     "output_type": "stream",
     "text": [
      "\n",
      " 53%|█████████████████████████████████████████████████████████████▎                                                     | 8/15 [11:49:47<9:44:10, 5007.24s/it]\u001b[A"
     ]
    },
    {
     "name": "stdout",
     "output_type": "stream",
     "text": [
      "loss: 0.996373 [  128/50000]\n",
      "Val loss: 586.973419\n",
      "loss: 0.910810 [ 1408/50000]\n",
      "Val loss: 561.217102\n",
      "loss: 0.886910 [ 2688/50000]\n",
      "Val loss: 563.767883\n",
      "loss: 0.916741 [ 3968/50000]\n",
      "Val loss: 567.238144\n"
     ]
    },
    {
     "name": "stderr",
     "output_type": "stream",
     "text": [
      "\n",
      " 60%|█████████████████████████████████████████████████████████████████████                                              | 9/15 [11:49:54<5:44:24, 3444.12s/it]\u001b[A"
     ]
    },
    {
     "name": "stdout",
     "output_type": "stream",
     "text": [
      "loss: 1.081799 [  128/50000]\n",
      "Val loss: 562.322845\n",
      "loss: 0.855639 [ 1408/50000]\n",
      "Val loss: 588.301895\n",
      "loss: 0.978986 [ 2688/50000]\n",
      "Val loss: 564.895325\n",
      "loss: 0.817965 [ 3968/50000]\n",
      "Val loss: 576.805405\n"
     ]
    },
    {
     "name": "stderr",
     "output_type": "stream",
     "text": [
      "\n",
      " 67%|████████████████████████████████████████████████████████████████████████████                                      | 10/15 [12:01:23<3:36:07, 2593.57s/it]\u001b[A"
     ]
    },
    {
     "name": "stdout",
     "output_type": "stream",
     "text": [
      "loss: 0.972324 [  128/50000]\n",
      "Val loss: 632.383743\n",
      "loss: 0.960837 [ 1408/50000]\n",
      "Val loss: 551.925972\n",
      "loss: 0.878362 [ 2688/50000]\n",
      "Val loss: 561.669312\n",
      "loss: 0.892643 [ 3968/50000]\n",
      "Val loss: 564.008423\n"
     ]
    },
    {
     "name": "stderr",
     "output_type": "stream",
     "text": [
      "\n",
      " 73%|███████████████████████████████████████████████████████████████████████████████████▌                              | 11/15 [12:50:25<3:00:00, 2700.16s/it]\u001b[A"
     ]
    },
    {
     "name": "stdout",
     "output_type": "stream",
     "text": [
      "loss: 1.047043 [  128/50000]\n",
      "Val loss: 576.584305\n",
      "loss: 0.839445 [ 1408/50000]\n",
      "Val loss: 558.189407\n",
      "loss: 1.004518 [ 2688/50000]\n",
      "Val loss: 553.240616\n",
      "loss: 0.840549 [ 3968/50000]\n",
      "Val loss: 555.847878\n"
     ]
    },
    {
     "name": "stderr",
     "output_type": "stream",
     "text": [
      "\n",
      " 80%|███████████████████████████████████████████████████████████████████████████████████████████▏                      | 12/15 [13:50:30<2:28:46, 2975.43s/it]\u001b[A"
     ]
    },
    {
     "name": "stdout",
     "output_type": "stream",
     "text": [
      "loss: 0.897179 [  128/50000]\n",
      "Val loss: 571.577118\n",
      "loss: 0.926843 [ 1408/50000]\n",
      "Val loss: 566.576752\n",
      "loss: 0.972077 [ 2688/50000]\n",
      "Val loss: 582.834969\n",
      "loss: 0.986511 [ 3968/50000]\n",
      "Val loss: 568.830170\n"
     ]
    },
    {
     "name": "stderr",
     "output_type": "stream",
     "text": [
      "\n",
      " 87%|██████████████████████████████████████████████████████████████████████████████████████████████████▊               | 13/15 [13:50:39<1:09:13, 2076.99s/it]\u001b[A"
     ]
    },
    {
     "name": "stdout",
     "output_type": "stream",
     "text": [
      "loss: 0.936431 [  128/50000]\n",
      "Val loss: 587.241730\n",
      "loss: 0.744731 [ 1408/50000]\n",
      "Val loss: 543.042824\n",
      "loss: 0.869596 [ 2688/50000]\n",
      "Val loss: 549.734634\n",
      "loss: 0.763706 [ 3968/50000]\n",
      "Val loss: 581.811790\n"
     ]
    },
    {
     "name": "stderr",
     "output_type": "stream",
     "text": [
      "\n",
      " 93%|████████████████████████████████████████████████████████████████████████████████████████████████████████████▎       | 14/15 [13:50:49<24:12, 1452.54s/it]\u001b[A"
     ]
    },
    {
     "name": "stdout",
     "output_type": "stream",
     "text": [
      "loss: 0.992619 [  128/50000]\n",
      "Val loss: 585.932045\n",
      "loss: 0.872937 [ 1408/50000]\n",
      "Val loss: 553.673889\n",
      "loss: 0.838227 [ 2688/50000]\n",
      "Val loss: 549.296814\n",
      "loss: 0.795815 [ 3968/50000]\n",
      "Val loss: 550.606483\n"
     ]
    },
    {
     "name": "stderr",
     "output_type": "stream",
     "text": [
      "\n",
      "100%|████████████████████████████████████████████████████████████████████████████████████████████████████████████████████| 15/15 [13:50:57<00:00, 3323.85s/it]\u001b[A\n",
      "Epochs:  85%|████████████████████████████████████████████████████████████████████████████████████████▍               | 17/20 [24:47:18<19:34:11, 23483.77s/it]"
     ]
    },
    {
     "name": "stdout",
     "output_type": "stream",
     "text": [
      "Test Error \n",
      " Accuracy: 57.8%, Avg loss: 1.219990\n",
      "\n",
      "loss: 1.023071 [  128/50000]\n",
      "Val loss: 613.361145\n",
      "loss: 1.059736 [ 1408/50000]\n",
      "Val loss: 560.388184\n",
      "loss: 0.840689 [ 2688/50000]\n",
      "Val loss: 564.056129\n",
      "loss: 0.802039 [ 3968/50000]\n",
      "Val loss: 567.120720\n",
      "retraining\n"
     ]
    },
    {
     "name": "stderr",
     "output_type": "stream",
     "text": [
      "\n",
      "  0%|                                                                                                                                  | 0/15 [00:00<?, ?it/s]\u001b[A"
     ]
    },
    {
     "name": "stdout",
     "output_type": "stream",
     "text": [
      "loss: 1.223275 [  128/50000]\n",
      "Val loss: 618.801407\n",
      "loss: 0.973401 [ 1408/50000]\n",
      "Val loss: 547.691139\n",
      "loss: 0.878406 [ 2688/50000]\n",
      "Val loss: 551.604446\n",
      "loss: 0.803640 [ 3968/50000]\n",
      "Val loss: 554.544914\n"
     ]
    },
    {
     "name": "stderr",
     "output_type": "stream",
     "text": [
      "\n",
      "  7%|████████▏                                                                                                                 | 1/15 [00:08<01:54,  8.15s/it]\u001b[A"
     ]
    },
    {
     "name": "stdout",
     "output_type": "stream",
     "text": [
      "loss: 0.869843 [  128/50000]\n",
      "Val loss: 578.553589\n",
      "loss: 0.821387 [ 1408/50000]\n",
      "Val loss: 557.407616\n",
      "loss: 0.948797 [ 2688/50000]\n",
      "Val loss: 541.289139\n",
      "loss: 0.956503 [ 3968/50000]\n",
      "Val loss: 579.143272\n"
     ]
    },
    {
     "name": "stderr",
     "output_type": "stream",
     "text": [
      "\n",
      " 13%|███████████████▍                                                                                                    | 2/15 [1:01:12<7:47:41, 2158.60s/it]\u001b[A"
     ]
    },
    {
     "name": "stdout",
     "output_type": "stream",
     "text": [
      "loss: 0.924857 [  128/50000]\n",
      "Val loss: 587.844360\n",
      "loss: 0.872318 [ 1408/50000]\n",
      "Val loss: 553.722145\n",
      "loss: 0.869140 [ 2688/50000]\n",
      "Val loss: 571.320740\n",
      "loss: 0.925033 [ 3968/50000]\n",
      "Val loss: 552.308533\n"
     ]
    },
    {
     "name": "stderr",
     "output_type": "stream",
     "text": [
      "\n",
      " 20%|███████████████████████▏                                                                                            | 3/15 [1:01:20<3:55:20, 1176.68s/it]\u001b[A"
     ]
    },
    {
     "name": "stdout",
     "output_type": "stream",
     "text": [
      "loss: 1.055796 [  128/50000]\n",
      "Val loss: 564.632751\n",
      "loss: 0.866916 [ 1408/50000]\n",
      "Val loss: 547.280396\n",
      "loss: 0.901179 [ 2688/50000]\n",
      "Val loss: 594.265625\n",
      "loss: 0.946945 [ 3968/50000]\n",
      "Val loss: 584.538406\n"
     ]
    },
    {
     "name": "stderr",
     "output_type": "stream",
     "text": [
      "\n",
      " 27%|███████████████████████████████▏                                                                                     | 4/15 [1:01:28<2:11:08, 715.33s/it]\u001b[A"
     ]
    },
    {
     "name": "stdout",
     "output_type": "stream",
     "text": [
      "loss: 1.333932 [  128/50000]\n",
      "Val loss: 610.251251\n",
      "loss: 0.844663 [ 1408/50000]\n",
      "Val loss: 546.991402\n",
      "loss: 0.906150 [ 2688/50000]\n",
      "Val loss: 554.674026\n",
      "loss: 0.885445 [ 3968/50000]\n",
      "Val loss: 714.582275\n"
     ]
    },
    {
     "name": "stderr",
     "output_type": "stream",
     "text": [
      "\n",
      " 33%|███████████████████████████████████████                                                                              | 5/15 [1:05:11<1:29:37, 537.77s/it]\u001b[A"
     ]
    },
    {
     "name": "stdout",
     "output_type": "stream",
     "text": [
      "loss: 0.908234 [  128/50000]\n",
      "Val loss: 582.311371\n",
      "loss: 0.893727 [ 1408/50000]\n",
      "Val loss: 550.008736\n",
      "loss: 0.848702 [ 2688/50000]\n",
      "Val loss: 539.825577\n",
      "loss: 0.799659 [ 3968/50000]\n",
      "Val loss: 557.639511\n"
     ]
    },
    {
     "name": "stderr",
     "output_type": "stream",
     "text": [
      "\n",
      " 40%|██████████████████████████████████████████████▍                                                                     | 6/15 [2:02:20<3:48:06, 1520.76s/it]\u001b[A"
     ]
    },
    {
     "name": "stdout",
     "output_type": "stream",
     "text": [
      "loss: 0.807361 [  128/50000]\n",
      "Val loss: 595.559959\n",
      "loss: 0.892516 [ 1408/50000]\n",
      "Val loss: 542.109741\n",
      "loss: 0.777500 [ 2688/50000]\n",
      "Val loss: 548.615753\n",
      "loss: 0.815731 [ 3968/50000]\n",
      "Val loss: 588.271179\n"
     ]
    },
    {
     "name": "stderr",
     "output_type": "stream",
     "text": [
      "\n",
      " 47%|██████████████████████████████████████████████████████▏                                                             | 7/15 [2:45:28<4:09:17, 1869.72s/it]\u001b[A"
     ]
    },
    {
     "name": "stdout",
     "output_type": "stream",
     "text": [
      "loss: 0.743551 [  128/50000]\n",
      "Val loss: 599.026367\n",
      "loss: 0.903326 [ 1408/50000]\n",
      "Val loss: 580.911362\n",
      "loss: 0.770908 [ 2688/50000]\n",
      "Val loss: 557.302055\n",
      "loss: 0.669412 [ 3968/50000]\n",
      "Val loss: 550.329697\n"
     ]
    },
    {
     "name": "stderr",
     "output_type": "stream",
     "text": [
      "\n",
      " 53%|█████████████████████████████████████████████████████████████▊                                                      | 8/15 [2:45:37<2:29:01, 1277.40s/it]\u001b[A"
     ]
    },
    {
     "name": "stdout",
     "output_type": "stream",
     "text": [
      "loss: 1.016132 [  128/50000]\n",
      "Val loss: 606.161957\n",
      "loss: 0.926124 [ 1408/50000]\n",
      "Val loss: 563.797501\n",
      "loss: 0.843079 [ 2688/50000]\n",
      "Val loss: 635.053604\n",
      "loss: 0.833213 [ 3968/50000]\n",
      "Val loss: 542.673615\n"
     ]
    },
    {
     "name": "stderr",
     "output_type": "stream",
     "text": [
      "\n",
      " 60%|██████████████████████████████████████████████████████████████████████▏                                              | 9/15 [2:45:45<1:28:03, 880.58s/it]\u001b[A"
     ]
    },
    {
     "name": "stdout",
     "output_type": "stream",
     "text": [
      "loss: 0.987750 [  128/50000]\n",
      "Val loss: 596.450974\n",
      "loss: 0.785663 [ 1408/50000]\n",
      "Val loss: 546.017586\n",
      "loss: 0.853677 [ 2688/50000]\n",
      "Val loss: 553.158646\n",
      "loss: 0.818352 [ 3968/50000]\n",
      "Val loss: 550.022751\n"
     ]
    },
    {
     "name": "stderr",
     "output_type": "stream",
     "text": [
      "\n",
      " 67%|█████████████████████████████████████████████████████████████████████████████▎                                      | 10/15 [3:03:27<1:18:03, 936.66s/it]\u001b[A"
     ]
    },
    {
     "name": "stdout",
     "output_type": "stream",
     "text": [
      "loss: 0.914994 [  128/50000]\n",
      "Val loss: 575.586227\n",
      "loss: 0.801939 [ 1408/50000]\n",
      "Val loss: 565.045975\n",
      "loss: 0.838032 [ 2688/50000]\n",
      "Val loss: 540.532486\n",
      "loss: 0.889905 [ 3968/50000]\n",
      "Val loss: 553.672340\n"
     ]
    },
    {
     "name": "stderr",
     "output_type": "stream",
     "text": [
      "\n",
      " 73%|██████████████████████████████████████████████████████████████████████████████████████▌                               | 11/15 [3:03:35<43:29, 652.32s/it]\u001b[A"
     ]
    },
    {
     "name": "stdout",
     "output_type": "stream",
     "text": [
      "loss: 1.338557 [  128/50000]\n",
      "Val loss: 737.271484\n",
      "loss: 0.707817 [ 1408/50000]\n",
      "Val loss: 588.128494\n",
      "loss: 0.877882 [ 2688/50000]\n",
      "Val loss: 586.923904\n",
      "loss: 0.713278 [ 3968/50000]\n",
      "Val loss: 593.019318\n"
     ]
    },
    {
     "name": "stderr",
     "output_type": "stream",
     "text": [
      "\n",
      " 80%|████████████████████████████████████████████████████████████████████████████████████████████                       | 12/15 [4:04:40<1:18:26, 1568.91s/it]\u001b[A"
     ]
    },
    {
     "name": "stdout",
     "output_type": "stream",
     "text": [
      "loss: 1.039765 [  128/50000]\n",
      "Val loss: 633.419479\n",
      "loss: 0.855815 [ 1408/50000]\n",
      "Val loss: 539.930420\n",
      "loss: 0.967393 [ 2688/50000]\n",
      "Val loss: 546.947662\n",
      "loss: 0.841473 [ 3968/50000]\n",
      "Val loss: 544.507248\n"
     ]
    },
    {
     "name": "stderr",
     "output_type": "stream",
     "text": [
      "\n",
      " 87%|█████████████████████████████████████████████████████████████████████████████████████████████████               | 13/15 [21:24:35<11:06:30, 19995.23s/it]\u001b[A"
     ]
    },
    {
     "name": "stdout",
     "output_type": "stream",
     "text": [
      "loss: 0.977494 [  128/50000]\n",
      "Val loss: 599.045647\n",
      "loss: 0.809511 [ 1408/50000]\n",
      "Val loss: 619.630669\n",
      "loss: 0.867814 [ 2688/50000]\n",
      "Val loss: 549.360321\n",
      "loss: 0.792239 [ 3968/50000]\n",
      "Val loss: 563.425980\n"
     ]
    },
    {
     "name": "stderr",
     "output_type": "stream",
     "text": [
      "\n",
      " 93%|█████████████████████████████████████████████████████████████████████████████████████████████████████████▍       | 14/15 [21:25:03<3:52:43, 13964.00s/it]\u001b[A"
     ]
    },
    {
     "name": "stdout",
     "output_type": "stream",
     "text": [
      "loss: 0.758362 [  128/50000]\n",
      "Val loss: 543.655846\n",
      "loss: 0.831297 [ 1408/50000]\n",
      "Val loss: 559.772186\n",
      "loss: 0.815678 [ 2688/50000]\n",
      "Val loss: 535.033073\n",
      "loss: 0.794665 [ 3968/50000]\n",
      "Val loss: 546.901260\n"
     ]
    },
    {
     "name": "stderr",
     "output_type": "stream",
     "text": [
      "\n",
      "100%|████████████████████████████████████████████████████████████████████████████████████████████████████████████████████| 15/15 [21:25:29<00:00, 5141.98s/it]\u001b[A\n",
      "Epochs:  90%|█████████████████████████████████████████████████████████████████████████████████████████████▌          | 18/20 [46:53:40<22:24:41, 40340.62s/it]"
     ]
    },
    {
     "name": "stdout",
     "output_type": "stream",
     "text": [
      "Test Error \n",
      " Accuracy: 60.5%, Avg loss: 1.133462\n",
      "\n",
      "loss: 0.780514 [  128/50000]\n",
      "Val loss: 558.999962\n",
      "loss: 0.726844 [ 1408/50000]\n",
      "Val loss: 523.051636\n",
      "loss: 0.815822 [ 2688/50000]\n",
      "Val loss: 568.802704\n",
      "loss: 0.751917 [ 3968/50000]\n",
      "Val loss: 551.024818\n",
      "retraining\n"
     ]
    },
    {
     "name": "stderr",
     "output_type": "stream",
     "text": [
      "\n",
      "  0%|                                                                                                                                  | 0/15 [00:00<?, ?it/s]\u001b[A"
     ]
    },
    {
     "name": "stdout",
     "output_type": "stream",
     "text": [
      "loss: 1.050181 [  128/50000]\n",
      "Val loss: 572.849365\n",
      "loss: 0.865681 [ 1408/50000]\n",
      "Val loss: 643.159149\n",
      "loss: 0.830993 [ 2688/50000]\n",
      "Val loss: 572.597931\n",
      "loss: 0.750982 [ 3968/50000]\n",
      "Val loss: 568.137520\n"
     ]
    },
    {
     "name": "stderr",
     "output_type": "stream",
     "text": [
      "\n",
      "  7%|███████▉                                                                                                               | 1/15 [15:34<3:37:56, 934.06s/it]\u001b[A"
     ]
    },
    {
     "name": "stdout",
     "output_type": "stream",
     "text": [
      "loss: 0.995225 [  128/50000]\n",
      "Val loss: 599.219543\n",
      "loss: 0.843515 [ 1408/50000]\n",
      "Val loss: 579.041870\n",
      "loss: 0.842708 [ 2688/50000]\n",
      "Val loss: 553.659218\n",
      "loss: 0.917151 [ 3968/50000]\n",
      "Val loss: 566.980927\n"
     ]
    },
    {
     "name": "stderr",
     "output_type": "stream",
     "text": [
      "\n",
      " 13%|███████████████▊                                                                                                       | 2/15 [15:48<1:25:08, 392.99s/it]\u001b[A"
     ]
    },
    {
     "name": "stdout",
     "output_type": "stream",
     "text": [
      "loss: 0.979143 [  128/50000]\n",
      "Val loss: 573.328041\n",
      "loss: 0.988926 [ 1408/50000]\n",
      "Val loss: 558.180084\n",
      "loss: 0.837290 [ 2688/50000]\n",
      "Val loss: 583.298515\n",
      "loss: 0.911966 [ 3968/50000]\n",
      "Val loss: 567.818588\n"
     ]
    },
    {
     "name": "stderr",
     "output_type": "stream",
     "text": [
      "\n",
      " 20%|███████████████████████▊                                                                                               | 3/15 [31:54<2:10:57, 654.76s/it]\u001b[A"
     ]
    },
    {
     "name": "stdout",
     "output_type": "stream",
     "text": [
      "loss: 0.983172 [  128/50000]\n",
      "Val loss: 599.905739\n",
      "loss: 0.849090 [ 1408/50000]\n",
      "Val loss: 537.362503\n",
      "loss: 0.801552 [ 2688/50000]\n",
      "Val loss: 603.850723\n",
      "loss: 0.797602 [ 3968/50000]\n",
      "Val loss: 548.935905\n"
     ]
    },
    {
     "name": "stderr",
     "output_type": "stream",
     "text": [
      "\n",
      " 27%|███████████████████████████████▋                                                                                       | 4/15 [32:15<1:14:08, 404.39s/it]\u001b[A"
     ]
    },
    {
     "name": "stdout",
     "output_type": "stream",
     "text": [
      "loss: 1.020659 [  128/50000]\n",
      "Val loss: 552.455276\n",
      "loss: 0.653561 [ 1408/50000]\n",
      "Val loss: 579.275772\n",
      "loss: 0.694053 [ 2688/50000]\n",
      "Val loss: 575.459351\n",
      "loss: 0.765249 [ 3968/50000]\n",
      "Val loss: 583.259125\n"
     ]
    },
    {
     "name": "stderr",
     "output_type": "stream",
     "text": [
      "\n",
      " 33%|███████████████████████████████████████▋                                                                               | 5/15 [48:37<1:42:07, 612.76s/it]\u001b[A"
     ]
    },
    {
     "name": "stdout",
     "output_type": "stream",
     "text": [
      "loss: 1.014105 [  128/50000]\n",
      "Val loss: 632.396202\n",
      "loss: 0.916679 [ 1408/50000]\n",
      "Val loss: 549.637642\n",
      "loss: 0.886899 [ 2688/50000]\n",
      "Val loss: 569.431686\n",
      "loss: 0.764931 [ 3968/50000]\n",
      "Val loss: 606.308029\n"
     ]
    },
    {
     "name": "stderr",
     "output_type": "stream",
     "text": [
      "\n",
      " 40%|███████████████████████████████████████████████▌                                                                       | 6/15 [49:08<1:02:15, 415.04s/it]\u001b[A"
     ]
    },
    {
     "name": "stdout",
     "output_type": "stream",
     "text": [
      "loss: 1.129608 [  128/50000]\n",
      "Val loss: 617.586731\n",
      "loss: 0.889525 [ 1408/50000]\n",
      "Val loss: 571.315475\n",
      "loss: 0.733252 [ 2688/50000]\n",
      "Val loss: 552.086792\n",
      "loss: 0.750972 [ 3968/50000]\n",
      "Val loss: 567.462143\n"
     ]
    },
    {
     "name": "stderr",
     "output_type": "stream",
     "text": [
      "\n",
      " 47%|██████████████████████████████████████████████████████▌                                                              | 7/15 [1:04:55<1:18:30, 588.82s/it]\u001b[A"
     ]
    },
    {
     "name": "stdout",
     "output_type": "stream",
     "text": [
      "loss: 1.284848 [  128/50000]\n",
      "Val loss: 600.775284\n",
      "loss: 0.771857 [ 1408/50000]\n",
      "Val loss: 576.576668\n",
      "loss: 0.781970 [ 2688/50000]\n",
      "Val loss: 552.127655\n",
      "loss: 0.743256 [ 3968/50000]\n",
      "Val loss: 552.521545\n"
     ]
    },
    {
     "name": "stderr",
     "output_type": "stream",
     "text": [
      "\n",
      " 53%|███████████████████████████████████████████████████████████████▍                                                       | 8/15 [1:05:17<47:38, 408.37s/it]\u001b[A"
     ]
    },
    {
     "name": "stdout",
     "output_type": "stream",
     "text": [
      "loss: 0.884860 [  128/50000]\n",
      "Val loss: 557.334534\n",
      "loss: 0.834555 [ 1408/50000]\n",
      "Val loss: 543.127563\n",
      "loss: 0.719191 [ 2688/50000]\n",
      "Val loss: 560.670494\n",
      "loss: 0.818043 [ 3968/50000]\n",
      "Val loss: 547.375153\n"
     ]
    },
    {
     "name": "stderr",
     "output_type": "stream",
     "text": [
      "\n",
      " 60%|███████████████████████████████████████████████████████████████████████▍                                               | 9/15 [1:21:09<57:50, 578.39s/it]\u001b[A"
     ]
    },
    {
     "name": "stdout",
     "output_type": "stream",
     "text": [
      "loss: 0.883465 [  128/50000]\n",
      "Val loss: 641.143234\n",
      "loss: 0.811821 [ 1408/50000]\n",
      "Val loss: 567.582413\n",
      "loss: 0.686876 [ 2688/50000]\n",
      "Val loss: 562.576965\n",
      "loss: 0.764993 [ 3968/50000]\n",
      "Val loss: 573.081963\n"
     ]
    },
    {
     "name": "stderr",
     "output_type": "stream",
     "text": [
      "\n",
      " 67%|██████████████████████████████████████████████████████████████████████████████▋                                       | 10/15 [1:21:28<33:49, 405.85s/it]\u001b[A"
     ]
    },
    {
     "name": "stdout",
     "output_type": "stream",
     "text": [
      "loss: 0.883781 [  128/50000]\n",
      "Val loss: 651.043304\n",
      "loss: 0.923433 [ 1408/50000]\n",
      "Val loss: 562.223358\n",
      "loss: 0.777035 [ 2688/50000]\n",
      "Val loss: 542.982437\n",
      "loss: 0.705637 [ 3968/50000]\n",
      "Val loss: 600.270782\n"
     ]
    },
    {
     "name": "stderr",
     "output_type": "stream",
     "text": [
      "\n",
      " 73%|██████████████████████████████████████████████████████████████████████████████████████▌                               | 11/15 [1:32:36<32:24, 486.07s/it]\u001b[A"
     ]
    },
    {
     "name": "stdout",
     "output_type": "stream",
     "text": [
      "loss: 1.254294 [  128/50000]\n",
      "Val loss: 603.830704\n",
      "loss: 0.700487 [ 1408/50000]\n",
      "Val loss: 565.860672\n",
      "loss: 0.685223 [ 2688/50000]\n",
      "Val loss: 586.541031\n",
      "loss: 0.819257 [ 3968/50000]\n",
      "Val loss: 551.674614\n"
     ]
    },
    {
     "name": "stderr",
     "output_type": "stream",
     "text": [
      "\n",
      " 80%|██████████████████████████████████████████████████████████████████████████████████████████████▍                       | 12/15 [2:00:52<42:41, 853.89s/it]\u001b[A"
     ]
    },
    {
     "name": "stdout",
     "output_type": "stream",
     "text": [
      "loss: 0.895318 [  128/50000]\n",
      "Val loss: 637.075043\n",
      "loss: 0.843831 [ 1408/50000]\n",
      "Val loss: 552.535446\n",
      "loss: 0.619901 [ 2688/50000]\n",
      "Val loss: 610.541367\n",
      "loss: 0.755906 [ 3968/50000]\n",
      "Val loss: 586.594711\n"
     ]
    },
    {
     "name": "stderr",
     "output_type": "stream",
     "text": [
      "\n",
      " 87%|██████████████████████████████████████████████████████████████████████████████████████████████████████▎               | 13/15 [2:16:50<29:30, 885.45s/it]\u001b[A"
     ]
    },
    {
     "name": "stdout",
     "output_type": "stream",
     "text": [
      "loss: 0.866046 [  128/50000]\n",
      "Val loss: 651.003036\n",
      "loss: 0.765889 [ 1408/50000]\n",
      "Val loss: 572.939278\n",
      "loss: 0.819868 [ 2688/50000]\n",
      "Val loss: 593.329697\n",
      "loss: 0.689153 [ 3968/50000]\n",
      "Val loss: 545.012848\n"
     ]
    },
    {
     "name": "stderr",
     "output_type": "stream",
     "text": [
      "\n",
      " 93%|██████████████████████████████████████████████████████████████████████████████████████████████████████████████▏       | 14/15 [2:17:04<10:22, 622.42s/it]\u001b[A"
     ]
    },
    {
     "name": "stdout",
     "output_type": "stream",
     "text": [
      "loss: 0.694009 [  128/50000]\n",
      "Val loss: 589.267014\n",
      "loss: 0.783175 [ 1408/50000]\n",
      "Val loss: 531.843178\n",
      "loss: 0.693888 [ 2688/50000]\n",
      "Val loss: 576.218895\n",
      "loss: 0.731932 [ 3968/50000]\n",
      "Val loss: 566.636955\n"
     ]
    },
    {
     "name": "stderr",
     "output_type": "stream",
     "text": [
      "\n",
      "100%|██████████████████████████████████████████████████████████████████████████████████████████████████████████████████████| 15/15 [3:01:55<00:00, 727.71s/it]\u001b[A\n",
      "Epochs:  95%|███████████████████████████████████████████████████████████████████████████████████████████████████▊     | 19/20 [50:32:59<8:56:16, 32176.82s/it]"
     ]
    },
    {
     "name": "stdout",
     "output_type": "stream",
     "text": [
      "Test Error \n",
      " Accuracy: 55.7%, Avg loss: 1.343938\n",
      "\n",
      "loss: 0.889805 [  128/50000]\n",
      "Val loss: 598.237068\n",
      "loss: 0.579703 [ 1408/50000]\n",
      "Val loss: 559.283829\n",
      "loss: 0.627914 [ 2688/50000]\n",
      "Val loss: 553.259224\n",
      "loss: 0.717078 [ 3968/50000]\n",
      "Val loss: 543.258606\n",
      "retraining\n"
     ]
    },
    {
     "name": "stderr",
     "output_type": "stream",
     "text": [
      "\n",
      "  0%|                                                                                                                                  | 0/15 [00:00<?, ?it/s]\u001b[A"
     ]
    },
    {
     "name": "stdout",
     "output_type": "stream",
     "text": [
      "loss: 0.820520 [  128/50000]\n",
      "Val loss: 623.987923\n",
      "loss: 0.921672 [ 1408/50000]\n",
      "Val loss: 578.800140\n",
      "loss: 0.674497 [ 2688/50000]\n",
      "Val loss: 544.098686\n",
      "loss: 0.765369 [ 3968/50000]\n",
      "Val loss: 552.413132\n"
     ]
    },
    {
     "name": "stderr",
     "output_type": "stream",
     "text": [
      "\n",
      "  7%|████████                                                                                                                 | 1/15 [04:09<58:06, 249.06s/it]\u001b[A"
     ]
    },
    {
     "name": "stdout",
     "output_type": "stream",
     "text": [
      "loss: 0.805180 [  128/50000]\n",
      "Val loss: 730.562057\n",
      "loss: 0.711612 [ 1408/50000]\n",
      "Val loss: 555.142288\n",
      "loss: 0.834089 [ 2688/50000]\n",
      "Val loss: 574.692543\n",
      "loss: 0.677203 [ 3968/50000]\n",
      "Val loss: 540.986626\n"
     ]
    },
    {
     "name": "stderr",
     "output_type": "stream",
     "text": [
      "\n",
      " 13%|████████████████▏                                                                                                        | 2/15 [04:24<24:12, 111.72s/it]\u001b[A"
     ]
    },
    {
     "name": "stdout",
     "output_type": "stream",
     "text": [
      "loss: 1.103376 [  128/50000]\n",
      "Val loss: 611.059402\n",
      "loss: 0.922646 [ 1408/50000]\n",
      "Val loss: 575.758820\n",
      "loss: 0.627770 [ 2688/50000]\n",
      "Val loss: 656.208115\n",
      "loss: 0.604712 [ 3968/50000]\n",
      "Val loss: 614.810608\n"
     ]
    },
    {
     "name": "stderr",
     "output_type": "stream",
     "text": [
      "\n",
      " 20%|███████████████████████▌                                                                                              | 3/15 [52:05<4:33:24, 1367.05s/it]\u001b[A"
     ]
    },
    {
     "name": "stdout",
     "output_type": "stream",
     "text": [
      "loss: 0.735029 [  128/50000]\n",
      "Val loss: 585.754677\n",
      "loss: 0.665299 [ 1408/50000]\n",
      "Val loss: 602.364929\n",
      "loss: 0.738236 [ 2688/50000]\n",
      "Val loss: 533.787926\n",
      "loss: 0.854498 [ 3968/50000]\n",
      "Val loss: 539.087486\n"
     ]
    },
    {
     "name": "stderr",
     "output_type": "stream",
     "text": [
      "\n",
      " 27%|██████████████████████████████▉                                                                                     | 4/15 [1:45:22<6:23:03, 2089.41s/it]\u001b[A"
     ]
    },
    {
     "name": "stdout",
     "output_type": "stream",
     "text": [
      "loss: 0.925693 [  128/50000]\n",
      "Val loss: 619.252045\n",
      "loss: 0.700587 [ 1408/50000]\n",
      "Val loss: 580.036743\n",
      "loss: 0.772376 [ 2688/50000]\n",
      "Val loss: 574.268074\n",
      "loss: 0.772626 [ 3968/50000]\n",
      "Val loss: 564.978867\n"
     ]
    },
    {
     "name": "stderr",
     "output_type": "stream",
     "text": [
      "\n",
      " 33%|██████████████████████████████████████▋                                                                             | 5/15 [1:52:14<4:07:24, 1484.45s/it]\u001b[A"
     ]
    },
    {
     "name": "stdout",
     "output_type": "stream",
     "text": [
      "loss: 0.715064 [  128/50000]\n",
      "Val loss: 555.966393\n",
      "loss: 0.814201 [ 1408/50000]\n",
      "Val loss: 563.439758\n",
      "loss: 0.721410 [ 2688/50000]\n",
      "Val loss: 558.839111\n",
      "loss: 0.747985 [ 3968/50000]\n",
      "Val loss: 757.177582\n",
      "loss: 0.751904 [  128/50000]\n",
      "Val loss: 680.796860\n",
      "loss: 0.816900 [ 1408/50000]\n",
      "Val loss: 547.351700\n",
      "loss: 0.681337 [ 2688/50000]\n",
      "Val loss: 573.195862\n",
      "loss: 0.677481 [ 3968/50000]\n",
      "Val loss: 554.012756\n",
      "loss: 0.744970 [  128/50000]\n",
      "Val loss: 590.610474\n",
      "loss: 0.609142 [ 1408/50000]\n",
      "Val loss: 570.379372\n",
      "loss: 0.737088 [ 2688/50000]\n",
      "Val loss: 523.319809\n",
      "loss: 0.570820 [ 3968/50000]\n",
      "Val loss: 545.899223\n",
      "loss: 0.841228 [  128/50000]\n",
      "Val loss: 597.350876\n",
      "loss: 0.707233 [ 1408/50000]\n",
      "Val loss: 585.542328\n",
      "loss: 0.760048 [ 2688/50000]\n",
      "Val loss: 558.171417\n",
      "loss: 0.644265 [ 3968/50000]\n",
      "Val loss: 553.842415\n",
      "loss: 1.015154 [  128/50000]\n",
      "Val loss: 811.722351\n",
      "loss: 0.719690 [ 1408/50000]\n",
      "Val loss: 556.189278\n",
      "loss: 0.806596 [ 2688/50000]\n",
      "Val loss: 582.326744\n",
      "loss: 0.839643 [ 3968/50000]\n",
      "Val loss: 574.867401\n",
      "loss: 0.691105 [  128/50000]\n",
      "Val loss: 632.658310\n",
      "loss: 0.755840 [ 1408/50000]\n",
      "Val loss: 539.106445\n",
      "loss: 0.671506 [ 2688/50000]\n",
      "Val loss: 538.591957\n",
      "loss: 0.757331 [ 3968/50000]\n",
      "Val loss: 531.733543\n",
      "loss: 0.918296 [  128/50000]\n",
      "Val loss: 544.313530\n",
      "loss: 0.761810 [ 1408/50000]\n",
      "Val loss: 574.598831\n",
      "loss: 0.743210 [ 2688/50000]\n",
      "Val loss: 536.333412\n",
      "loss: 0.671352 [ 3968/50000]\n",
      "Val loss: 541.664726\n",
      "loss: 1.057277 [  128/50000]\n",
      "Val loss: 589.380569\n",
      "loss: 0.605756 [ 1408/50000]\n",
      "Val loss: 578.573807\n",
      "loss: 0.785007 [ 2688/50000]\n",
      "Val loss: 578.051270\n",
      "loss: 0.652234 [ 3968/50000]\n",
      "Val loss: 549.619354\n",
      "loss: 0.686080 [  128/50000]\n",
      "Val loss: 558.199066\n",
      "loss: 0.697052 [ 1408/50000]\n",
      "Val loss: 539.420570\n",
      "loss: 0.537114 [ 2688/50000]\n",
      "Val loss: 527.231689\n",
      "loss: 0.594770 [ 3968/50000]\n",
      "Val loss: 554.836044\n",
      "loss: 1.164253 [  128/50000]\n",
      "Val loss: 650.322144\n",
      "loss: 0.775478 [ 1408/50000]\n",
      "Val loss: 602.494873\n",
      "loss: 0.720565 [ 2688/50000]\n",
      "Val loss: 611.349686\n",
      "loss: 0.557443 [ 3968/50000]\n",
      "Val loss: 559.393166\n"
     ]
    },
    {
     "name": "stderr",
     "output_type": "stream",
     "text": [
      "100%|██████████████████████████████████████████████████████████████████████████████████████████████████████████████████████| 15/15 [1:06:35<00:00, 266.40s/it]\n",
      "Epochs: 100%|████████████████████████████████████████████████████████████████████████████████████████████████████████████| 20/20 [52:03:27<00:00, 9370.40s/it]"
     ]
    },
    {
     "name": "stdout",
     "output_type": "stream",
     "text": [
      "Test Error \n",
      " Accuracy: 52.8%, Avg loss: 1.503831\n",
      "\n",
      "done!\n"
     ]
    },
    {
     "name": "stderr",
     "output_type": "stream",
     "text": [
      "\n"
     ]
    }
   ],
   "source": [
    "activity_retrain_train_losses_epoch, activity_retrain_val_losses_epoch, activity_retrain_test_df = train_prune_with_retraining(\n",
    "    activity_retrain_model,\n",
    "    train_loader, valid_loader, test_loader\n",
    ")"
   ]
  },
  {
   "cell_type": "code",
   "execution_count": null,
   "id": "ba8d513d-2c97-4d9e-aea1-56b83eba9226",
   "metadata": {},
   "outputs": [],
   "source": []
  }
 ],
 "metadata": {
  "kernelspec": {
   "display_name": "Python [conda env:klab_rotation_env]",
   "language": "python",
   "name": "conda-env-klab_rotation_env-py"
  },
  "language_info": {
   "codemirror_mode": {
    "name": "ipython",
    "version": 3
   },
   "file_extension": ".py",
   "mimetype": "text/x-python",
   "name": "python",
   "nbconvert_exporter": "python",
   "pygments_lexer": "ipython3",
   "version": "3.11.0"
  }
 },
 "nbformat": 4,
 "nbformat_minor": 5
}
